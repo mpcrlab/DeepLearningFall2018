{
  "nbformat": 4,
  "nbformat_minor": 0,
  "metadata": {
    "colab": {
      "name": "FinalReportCode_SofiaLynch.ipynb",
      "version": "0.3.2",
      "provenance": [],
      "collapsed_sections": []
    },
    "kernelspec": {
      "display_name": "Python 3",
      "language": "python",
      "name": "python3"
    }
  },
  "cells": [
    {
      "metadata": {
        "colab_type": "code",
        "id": "j4_jxvswGp7u",
        "colab": {}
      },
      "cell_type": "code",
      "source": [
        "try:\n",
        "    import tflearn    \n",
        "except ImportError:\n",
        "    !pip3 install -q tflearn\n",
        "    import tflearn "
      ],
      "execution_count": 0,
      "outputs": []
    },
    {
      "metadata": {
        "colab_type": "code",
        "id": "KHjXPMeIXE3r",
        "colab": {}
      },
      "cell_type": "code",
      "source": [
        "!apt-get install -y -q ffmpeg\n",
        "!pip3 install -q scikit-video\n",
        "import skvideo.io "
      ],
      "execution_count": 0,
      "outputs": []
    },
    {
      "metadata": {
        "colab_type": "code",
        "id": "nw-uvan0Kk76",
        "colab": {}
      },
      "cell_type": "code",
      "source": [
        "import matplotlib.pyplot as plt \n",
        "import numpy as np \n",
        "from glob import glob \n",
        "import os, sys  \n",
        "import cv2\n",
        "import tensorflow as tf  \n",
        "from tflearn.activations import relu \n",
        "\n",
        "\n",
        "from tflearn.layers.normalization import batch_normalization as bn\n",
        "from scipy.misc import imread, bytescale, imresize  \n",
        "from tflearn.layers.core import input_data, dropout, fully_connected\n",
        "from tflearn.layers.conv import conv_2d, max_pool_2d, global_avg_pool\n",
        "from tflearn.layers.estimator import regression  \n",
        "\n",
        "\n",
        "from tflearn.data_utils import to_categorical  \n",
        "\n",
        "\n",
        "from tflearn.data_augmentation import ImageAugmentation\n",
        "\n",
        "\n",
        "from tensorflow.contrib.tensorboard.plugins import projector"
      ],
      "execution_count": 0,
      "outputs": []
    },
    {
      "metadata": {
        "colab_type": "code",
        "id": "Hy4zkTP8KlR3",
        "colab": {}
      },
      "cell_type": "code",
      "source": [
        "    def install_tensorboard_dep():\n",
        "        '''Installs tensorboard to be used in colab.'''\n",
        "        if 'ngrok-stable-linux-amd64.zip' not in os.listdir(os.getcwd()):\n",
        "            !wget https://bin.equinox.io/c/4VmDzA7iaHb/ngrok-stable-linux-amd64.zip\n",
        "            !unzip ngrok-stable-linux-amd64.zip\n",
        "            os.system('n')"
      ],
      "execution_count": 0,
      "outputs": []
    },
    {
      "metadata": {
        "colab_type": "code",
        "id": "lic_uQkaKnwD",
        "colab": {}
      },
      "cell_type": "code",
      "source": [
        "            def montage(x, plot_shape=(15, 15), return_grid=False, cmap='viridis'):\n",
        "                '''\n",
        "                Takes in a 4-D tensor, x, of shape [NxHxWxC] and puts all of the images\n",
        "                together in a single matrix to show as one image. If return_grid is True, \n",
        "                it will not show the matrix, but return it to be used in some other \n",
        "                operations.\n",
        "                '''\n",
        "                \n",
        "                count = 0\n",
        "                if not return_grid:\n",
        "                    scale = [0, 255]\n",
        "                else:\n",
        "                    scale = [0, 1]\n",
        "                \n",
        "                \n",
        "                if len(x.shape) == 4 and x.shape[-1] == 3:\n",
        "                    num, m, n, c = x.shape\n",
        "                else:\n",
        "                    num, m, n = x.shape\n",
        "                    c = 1\n",
        "                    \n",
        "                num = int(np.ceil(np.sqrt(num)))\n",
        "                grid = np.zeros([num*m, num*n, c])\n",
        "                \n",
        "                if c == 1:\n",
        "                    grid = grid[..., 0]\n",
        "                \n",
        "                for i in range(num):\n",
        "                    for j in range(num):\n",
        "                        if count < x.shape[0]:\n",
        "                            if c == 1:\n",
        "                                grid[i*m:i*m+m, j*n:j*n+n] = bytescale(x[count, ...], \n",
        "                                                                                                             low=scale[0], high=scale[1])\n",
        "                            else:\n",
        "                                grid[i*m:i*m+m, j*n:j*n+n, :] = bytescale(x[count, ...],\n",
        "                                                                                                                    low=scale[0], high=scale[1])\n",
        "                            count += 1 \n",
        "                            \n",
        "                if return_grid:\n",
        "                    return grid\n",
        "                else:\n",
        "                    fig = plt.figure(figsize=plot_shape)\n",
        "                    a1 = fig.add_subplot(111)\n",
        "                    a1.set_xticks(np.arange(-0.5, num*n, n))\n",
        "                    a1.set_yticks(np.arange(-0.5, num*m, m))\n",
        "                    a1.set_yticklabels([])\n",
        "                    a1.set_xticklabels([])\n",
        "                    a1.imshow(grid, cmap=cmap)\n",
        "                    plt.show()"
      ],
      "execution_count": 0,
      "outputs": []
    },
    {
      "metadata": {
        "colab_type": "code",
        "id": "Ow7Ii2RXKyR_",
        "colab": {}
      },
      "cell_type": "code",
      "source": [
        "def start_tensorboard():\n",
        "        '''Starts tensorboard on colaboratory.'''\n",
        "        LOG_DIR = '/tmp/tflearn_logs'    \n",
        "        get_ipython().system_raw('tensorboard --logdir {} --host 0.0.0.0 --port 6006 &'.format(LOG_DIR))\n",
        "        get_ipython().system_raw('./ngrok http 6006 &')\n",
        "        ! curl -s http://localhost:4040/api/tunnels | python3 -c \\\n",
        "        \"import sys, json; print(json.load(sys.stdin)['tunnels'][0]['public_url'])\""
      ],
      "execution_count": 0,
      "outputs": []
    },
    {
      "metadata": {
        "colab_type": "code",
        "id": "shuvYtM65Ozk",
        "colab": {}
      },
      "cell_type": "code",
      "source": [
        "def residual_block(incoming, n_filters, filter_size, n_blocks, stride=1):\n",
        "    \n",
        "    for block in range(n_blocks):\n",
        "        n, h, w, c = incoming.get_shape().as_list() \n",
        "        \n",
        "        if block > 0 and stride > 1:\n",
        "            stride = 1\n",
        "    \n",
        "        \n",
        "        conv1 = conv_2d(incoming, n_filters, filter_size, activation='linear', strides=stride)\n",
        "        conv1_norm = relu(bn(conv1))\n",
        "    \n",
        "        \n",
        "        conv2 = conv_2d(conv1_norm, n_filters, filter_size, activation='linear', strides=1)\n",
        "        conv2_norm = bn(conv2)\n",
        "        \n",
        "        if stride > 1:\n",
        "            incoming = max_pool_2d(incoming, 3, stride)\n",
        "        \n",
        "        if c != n_filters:\n",
        "            incoming = conv_2d(incoming, n_filters, 1, activation='linear', strides=1)\n",
        "    \n",
        "        \n",
        "        incoming = incoming + conv2_norm\n",
        "    \n",
        "      \n",
        "        incoming = relu(incoming)\n",
        "        \n",
        "        return incoming"
      ],
      "execution_count": 0,
      "outputs": []
    },
    {
      "metadata": {
        "colab_type": "code",
        "id": "48cjzPtJCLDv",
        "colab": {}
      },
      "cell_type": "code",
      "source": [
        "def video_loader():\n",
        "    vid_names = glob('*.avi') \n",
        "    print(vid_names)\n",
        "    num_past_frames = 3\n",
        "    vids = np.zeros([0, 240, 320, num_past_frames])\n",
        "    \n",
        "    for indx, vid_name in enumerate(vid_names):\n",
        "        try:\n",
        "            vid = skvideo.io.vread(vid_name) \n",
        "            print(vid.shape)\n",
        "        except ValueError:\n",
        "            continue\n",
        "       \n",
        "        if vid.shape[1] != 240 or vid.shape[2] != 320:\n",
        "            vid = [imresize(vid[f, ...], [240, 320]) for f in range(vid.shape[0])]\n",
        "     \n",
        "        vid = np.mean(vid, 3, keepdims=True)    \n",
        "        \n",
        "        vid_stack = np.zeros([vid.shape[0]-num_past_frames, vid.shape[1], vid.shape[2], num_past_frames])\n",
        "        \n",
        "        for frame_id in range((num_past_frames-1), vid.shape[0]):\n",
        "            past_1 = vid[frame_id-num_past_frames, ...]\n",
        "            past_2 = vid[frame_id-2*num_past_frames, ...]\n",
        "            \n",
        "            stack = np.concatenate((vid[frame_id, ...], past_1, past_2), 2)\n",
        "            \n",
        "            vid_stack[frame_id-num_past_frames, ...] = stack\n",
        "            \n",
        "                                                    \n",
        "        vids = np.concatenate((vids, vid_stack), 0)\n",
        "        \n",
        "    return vids "
      ],
      "execution_count": 0,
      "outputs": []
    },
    {
      "metadata": {
        "colab_type": "code",
        "id": "a6-DlMKE4x7M",
        "colab": {}
      },
      "cell_type": "code",
      "source": [
        "os.chdir('/home/sofia_lynch/Documents/')"
      ],
      "execution_count": 0,
      "outputs": []
    },
    {
      "metadata": {
        "colab_type": "text",
        "id": "g7KVjVuufdfG"
      },
      "cell_type": "markdown",
      "source": [
        "# Input training data"
      ]
    },
    {
      "metadata": {
        "colab_type": "code",
        "id": "h0PtHIKh6ThO",
        "colab": {}
      },
      "cell_type": "code",
      "source": [
        "os.chdir('climb_stairs')"
      ],
      "execution_count": 0,
      "outputs": []
    },
    {
      "metadata": {
        "colab_type": "code",
        "id": "jkQ-GlZDCpdO",
        "colab": {}
      },
      "cell_type": "code",
      "source": [
        "imgs_train = video_loader()"
      ],
      "execution_count": 0,
      "outputs": []
    },
    {
      "metadata": {
        "colab_type": "code",
        "id": "4m6ZYIv5Crxu",
        "colab": {}
      },
      "cell_type": "code",
      "source": [
        "climbstairs_group_imgs_train = imgs_train.shape[0]\n",
        "print(imgs_train.shape)"
      ],
      "execution_count": 0,
      "outputs": []
    },
    {
      "metadata": {
        "colab_type": "code",
        "id": "ts-B3x3tGYvx",
        "colab": {}
      },
      "cell_type": "code",
      "source": [
        "labels_train = np.zeros([climbstairs_group_imgs_train, ]) \n",
        "print(labels_train.shape)"
      ],
      "execution_count": 0,
      "outputs": []
    },
    {
      "metadata": {
        "id": "dTMYWbJhRVD8",
        "colab_type": "code",
        "colab": {}
      },
      "cell_type": "code",
      "source": [
        "labels_train[climbstairs_group_imgs_train:] = 0. "
      ],
      "execution_count": 0,
      "outputs": []
    },
    {
      "metadata": {
        "colab_type": "code",
        "id": "SHOXlDYRC4Q-",
        "colab": {}
      },
      "cell_type": "code",
      "source": [
        "climb_stairs_img_train = imgs_train[0, ...]    \n",
        "for i in range(3):    \n",
        "    plt.imshow(climb_stairs_img_train[..., i], cmap='gray')    \n",
        "    plt.grid(False) \n",
        "    plt.show()"
      ],
      "execution_count": 0,
      "outputs": []
    },
    {
      "metadata": {
        "colab_type": "code",
        "id": "AlGc5nk8SUMK",
        "colab": {}
      },
      "cell_type": "code",
      "source": [
        "os.chdir('..') \n",
        "os.chdir('run') "
      ],
      "execution_count": 0,
      "outputs": []
    },
    {
      "metadata": {
        "colab_type": "code",
        "id": "ueoVi0FnSj2S",
        "colab": {}
      },
      "cell_type": "code",
      "source": [
        "imgs_train = np.concatenate((imgs_train, video_loader()), 0) "
      ],
      "execution_count": 0,
      "outputs": []
    },
    {
      "metadata": {
        "colab_type": "code",
        "id": "cabXTcFbFuqr",
        "colab": {}
      },
      "cell_type": "code",
      "source": [
        "run_group_imgs_train = imgs_train.shape[0]\n",
        "print(imgs_train.shape)"
      ],
      "execution_count": 0,
      "outputs": []
    },
    {
      "metadata": {
        "colab_type": "code",
        "id": "0vDyOnIPN3p2",
        "colab": {}
      },
      "cell_type": "code",
      "source": [
        "labels_train = np.zeros([run_group_imgs_train, ]) \n",
        "print(labels_train.shape)"
      ],
      "execution_count": 0,
      "outputs": []
    },
    {
      "metadata": {
        "id": "FkkH2RGRRVEZ",
        "colab_type": "code",
        "colab": {}
      },
      "cell_type": "code",
      "source": [
        "labels_train[climbstairs_group_imgs_train:run_group_imgs_train] = 1. "
      ],
      "execution_count": 0,
      "outputs": []
    },
    {
      "metadata": {
        "colab_type": "code",
        "id": "gQuXJITVR5FX",
        "colab": {}
      },
      "cell_type": "code",
      "source": [
        "run_img_train = imgs_train[0, ...]        \n",
        "for i in range(3):       \n",
        "        plt.imshow(run_img_train[..., i], cmap='gray')        \n",
        "        plt.grid(False) \n",
        "        plt.show()"
      ],
      "execution_count": 0,
      "outputs": []
    },
    {
      "metadata": {
        "colab_type": "code",
        "id": "4Vj-8jLDSU4A",
        "colab": {}
      },
      "cell_type": "code",
      "source": [
        "os.chdir('..') \n",
        "os.chdir('ride_bike') "
      ],
      "execution_count": 0,
      "outputs": []
    },
    {
      "metadata": {
        "colab_type": "code",
        "id": "NabVMI4vSlkE",
        "colab": {}
      },
      "cell_type": "code",
      "source": [
        "imgs_train = np.concatenate((imgs_train, video_loader()), 0) "
      ],
      "execution_count": 0,
      "outputs": []
    },
    {
      "metadata": {
        "colab_type": "code",
        "id": "XKDIwb6ASmBD",
        "colab": {}
      },
      "cell_type": "code",
      "source": [
        "ridebike_group_imgs_train = imgs_train.shape[0]\n",
        "print(imgs_train.shape)"
      ],
      "execution_count": 0,
      "outputs": []
    },
    {
      "metadata": {
        "colab_type": "code",
        "id": "Pp2pZi-2N8Sp",
        "scrolled": true,
        "colab": {}
      },
      "cell_type": "code",
      "source": [
        "labels_train = np.zeros([ridebike_group_imgs_train, ]) \n",
        "print(labels_train.shape)"
      ],
      "execution_count": 0,
      "outputs": []
    },
    {
      "metadata": {
        "id": "FkaCqZxCRVEt",
        "colab_type": "code",
        "colab": {}
      },
      "cell_type": "code",
      "source": [
        "labels_train[run_group_imgs_train:ridebike_group_imgs_train] = 2. "
      ],
      "execution_count": 0,
      "outputs": []
    },
    {
      "metadata": {
        "colab_type": "code",
        "id": "eynt9vZ3R-01",
        "colab": {}
      },
      "cell_type": "code",
      "source": [
        "ride_bike_img_train = imgs_train[0, ...]       \n",
        "for i in range(3):       \n",
        "        plt.imshow(ride_bike_img_train[..., i], cmap='gray')       \n",
        "        plt.grid(False) \n",
        "        plt.show()"
      ],
      "execution_count": 0,
      "outputs": []
    },
    {
      "metadata": {
        "colab_type": "code",
        "id": "ZuwJheuzDh6k",
        "scrolled": true,
        "colab": {}
      },
      "cell_type": "code",
      "source": [
        "print(imgs_train.shape)"
      ],
      "execution_count": 0,
      "outputs": []
    },
    {
      "metadata": {
        "colab_type": "code",
        "id": "zbBavbSQYER_",
        "colab": {}
      },
      "cell_type": "code",
      "source": [
        "from tflearn.data_utils import to_categorical \n",
        "labels_train = to_categorical(labels_train, 3) "
      ],
      "execution_count": 0,
      "outputs": []
    },
    {
      "metadata": {
        "colab_type": "code",
        "id": "BA23FbkuYHwZ",
        "colab": {}
      },
      "cell_type": "code",
      "source": [
        "print(labels_train.shape)"
      ],
      "execution_count": 0,
      "outputs": []
    },
    {
      "metadata": {
        "colab_type": "text",
        "id": "Ojc7ePaCfSkg"
      },
      "cell_type": "markdown",
      "source": [
        "# Input Test Data"
      ]
    },
    {
      "metadata": {
        "colab_type": "code",
        "id": "Taqnq0d7dykq",
        "colab": {}
      },
      "cell_type": "code",
      "source": [
        "os.chdir('..')\n",
        "os.chdir('climb_stairs_test')"
      ],
      "execution_count": 0,
      "outputs": []
    },
    {
      "metadata": {
        "colab_type": "code",
        "id": "zCvYOzPfdyk0",
        "colab": {}
      },
      "cell_type": "code",
      "source": [
        "imgs_test = video_loader()"
      ],
      "execution_count": 0,
      "outputs": []
    },
    {
      "metadata": {
        "colab_type": "code",
        "id": "dgiMYOOCdyk7",
        "colab": {}
      },
      "cell_type": "code",
      "source": [
        "climbstairs_group_imgs_test = imgs_test.shape[0]\n",
        "print(imgs_test.shape)"
      ],
      "execution_count": 0,
      "outputs": []
    },
    {
      "metadata": {
        "id": "-j1XziSORVFD",
        "colab_type": "code",
        "colab": {}
      },
      "cell_type": "code",
      "source": [
        "labels_test = np.zeros([climbstairs_group_imgs_test, ])\n",
        "print(labels_test.shape)"
      ],
      "execution_count": 0,
      "outputs": []
    },
    {
      "metadata": {
        "id": "LD4BamtbRVFG",
        "colab_type": "code",
        "colab": {}
      },
      "cell_type": "code",
      "source": [
        "labels_test[climbstairs_group_imgs_test:] = 0. "
      ],
      "execution_count": 0,
      "outputs": []
    },
    {
      "metadata": {
        "colab_type": "code",
        "id": "TxW4Bu4hdylM",
        "colab": {}
      },
      "cell_type": "code",
      "source": [
        "climb_stairs_img_test = imgs_test[0, ...]        \n",
        "for i in range(3):       \n",
        "        plt.imshow(climb_stairs_img_test[..., i], cmap='gray')        \n",
        "        plt.grid(False) \n",
        "        plt.show()"
      ],
      "execution_count": 0,
      "outputs": []
    },
    {
      "metadata": {
        "colab_type": "code",
        "id": "fBJa7m9qdylV",
        "colab": {}
      },
      "cell_type": "code",
      "source": [
        "os.chdir('..') \n",
        "os.chdir('run_test') "
      ],
      "execution_count": 0,
      "outputs": []
    },
    {
      "metadata": {
        "colab_type": "code",
        "id": "dsZv0IifdylY",
        "colab": {}
      },
      "cell_type": "code",
      "source": [
        "imgs_test = np.concatenate((imgs_test, video_loader()), 0) "
      ],
      "execution_count": 0,
      "outputs": []
    },
    {
      "metadata": {
        "colab_type": "code",
        "id": "YPPW6yR2dyld",
        "colab": {}
      },
      "cell_type": "code",
      "source": [
        "run_group_imgs_test = imgs_test.shape[0]\n",
        "print(imgs_test.shape)"
      ],
      "execution_count": 0,
      "outputs": []
    },
    {
      "metadata": {
        "id": "L1hR6j1vRVFW",
        "colab_type": "code",
        "colab": {}
      },
      "cell_type": "code",
      "source": [
        "labels_test = np.zeros([run_group_imgs_test, ]) \n",
        "print(labels_test.shape)"
      ],
      "execution_count": 0,
      "outputs": []
    },
    {
      "metadata": {
        "id": "HfQ38x4JRVFY",
        "colab_type": "code",
        "colab": {}
      },
      "cell_type": "code",
      "source": [
        "labels_test[climbstairs_group_imgs_test:run_group_imgs_test] = 1. "
      ],
      "execution_count": 0,
      "outputs": []
    },
    {
      "metadata": {
        "colab_type": "code",
        "id": "Yyu8bMOUdyl2",
        "colab": {}
      },
      "cell_type": "code",
      "source": [
        "run_img_test = imgs_test[0, ...]       \n",
        "for i in range(3):        \n",
        "        plt.imshow(run_img_test[..., i], cmap='gray')        \n",
        "        plt.grid(False) \n",
        "        plt.show()"
      ],
      "execution_count": 0,
      "outputs": []
    },
    {
      "metadata": {
        "colab_type": "code",
        "id": "dCgGf4mGdyl9",
        "colab": {}
      },
      "cell_type": "code",
      "source": [
        "os.chdir('..') \n",
        "os.chdir('ride_bike_test') "
      ],
      "execution_count": 0,
      "outputs": []
    },
    {
      "metadata": {
        "colab_type": "code",
        "id": "4BbabmAIdymA",
        "scrolled": true,
        "colab": {}
      },
      "cell_type": "code",
      "source": [
        "imgs_test = np.concatenate((imgs_test, video_loader()), 0) "
      ],
      "execution_count": 0,
      "outputs": []
    },
    {
      "metadata": {
        "colab_type": "code",
        "id": "8_sWHxQAdymO",
        "colab": {}
      },
      "cell_type": "code",
      "source": [
        "ridebike_group_imgs_test = imgs_test.shape[0]\n",
        "print(imgs_test.shape)"
      ],
      "execution_count": 0,
      "outputs": []
    },
    {
      "metadata": {
        "id": "cc7-ay3oRVFn",
        "colab_type": "code",
        "colab": {}
      },
      "cell_type": "code",
      "source": [
        "labels_test = np.zeros([ridebike_group_imgs_test, ]) \n",
        "print(labels_test.shape)"
      ],
      "execution_count": 0,
      "outputs": []
    },
    {
      "metadata": {
        "id": "kSlpDCKWRVFr",
        "colab_type": "code",
        "colab": {}
      },
      "cell_type": "code",
      "source": [
        "labels_test[run_group_imgs_test:ridebike_group_imgs_test] = 2. "
      ],
      "execution_count": 0,
      "outputs": []
    },
    {
      "metadata": {
        "colab_type": "code",
        "id": "sav1ufvfdymd",
        "colab": {}
      },
      "cell_type": "code",
      "source": [
        "ride_bike_img_test = imgs_test[0, ...]        \n",
        "for i in range(3):        \n",
        "        plt.imshow(ride_bike_img_test[..., i], cmap='gray')        \n",
        "        plt.grid(False) \n",
        "        plt.show()"
      ],
      "execution_count": 0,
      "outputs": []
    },
    {
      "metadata": {
        "scrolled": true,
        "id": "AOJuFgFwRVF2",
        "colab_type": "code",
        "colab": {}
      },
      "cell_type": "code",
      "source": [
        "print(imgs_test.shape)"
      ],
      "execution_count": 0,
      "outputs": []
    },
    {
      "metadata": {
        "scrolled": true,
        "id": "DstrrexhRVF3",
        "colab_type": "code",
        "colab": {}
      },
      "cell_type": "code",
      "source": [
        "from tflearn.data_utils import to_categorical \n",
        "labels_test = to_categorical(labels_test, 3)  "
      ],
      "execution_count": 0,
      "outputs": []
    },
    {
      "metadata": {
        "id": "TTTmbaMVRVF7",
        "colab_type": "code",
        "colab": {}
      },
      "cell_type": "code",
      "source": [
        "print(labels_test.shape)"
      ],
      "execution_count": 0,
      "outputs": []
    },
    {
      "metadata": {
        "colab_type": "text",
        "id": "GPX7Lf4AfogW"
      },
      "cell_type": "markdown",
      "source": [
        "# Training V. Testing"
      ]
    },
    {
      "metadata": {
        "id": "pxKiPiF9RVGA",
        "colab_type": "code",
        "colab": {}
      },
      "cell_type": "code",
      "source": [
        "print(imgs_train.shape, labels_train.shape, imgs_test.shape, labels_test.shape)  \n",
        "print(labels_train[:10, ...])  "
      ],
      "execution_count": 0,
      "outputs": []
    },
    {
      "metadata": {
        "colab_type": "code",
        "id": "MC98cPX0YK8u",
        "colab": {}
      },
      "cell_type": "code",
      "source": [
        "input_layer = input_data([None, 240, 320, 3])\n",
        "\n",
        "\n",
        "conv1 = conv_2d(input_layer, 32, 7, strides=2, activation='relu')\n",
        "\n",
        "\n",
        "pool1 = max_pool_2d(conv1, 3, 2)\n",
        "\n",
        "\n",
        "residual_block1 = residual_block(pool1, \n",
        "                                 32, \n",
        "                                 3, \n",
        "                                 3) \n",
        "\n",
        "\n",
        "residual_block2 = residual_block(residual_block1, \n",
        "                                 64, \n",
        "                                 3, \n",
        "                                 4, \n",
        "                                 2) \n",
        "\n",
        "\n",
        "residual_block3 = residual_block(residual_block2,\n",
        "                                 128,\n",
        "                                 3,\n",
        "                                 6, \n",
        "                                 2)\n",
        "\n",
        "\n",
        "residual_block4 = residual_block(residual_block3,\n",
        "                                 256,\n",
        "                                 3,\n",
        "                                 3,\n",
        "                                 2)\n",
        "\n",
        "\n",
        "gap = global_avg_pool(residual_block4)\n",
        "\n",
        "\n",
        "output_layer = fully_connected(gap, 3, activation='softmax')"
      ],
      "execution_count": 0,
      "outputs": []
    },
    {
      "metadata": {
        "colab_type": "code",
        "id": "UqxlIqOYYN-p",
        "colab": {}
      },
      "cell_type": "code",
      "source": [
        "network = regression(output_layer, optimizer='adam', \n",
        "                     loss='categorical_crossentropy', learning_rate=.0001)"
      ],
      "execution_count": 0,
      "outputs": []
    },
    {
      "metadata": {
        "colab_type": "code",
        "id": "579L7FtPYOpY",
        "colab": {}
      },
      "cell_type": "code",
      "source": [
        "model = tflearn.DNN(network, tensorboard_verbose=2)"
      ],
      "execution_count": 0,
      "outputs": []
    },
    {
      "metadata": {
        "colab_type": "code",
        "id": "7_hjFZm9YkRO",
        "colab": {}
      },
      "cell_type": "code",
      "source": [
        "install_tensorboard_dep()\n",
        "start_tensorboard()"
      ],
      "execution_count": 0,
      "outputs": []
    },
    {
      "metadata": {
        "colab_type": "code",
        "id": "OhZpE2hHYm-Q",
        "colab": {}
      },
      "cell_type": "code",
      "source": [
        "model.fit(imgs_train, \n",
        "          labels_train, \n",
        "          n_epoch=25, \n",
        "          shuffle=True,  \n",
        "          validation_set=(imgs_test, labels_test),  \n",
        "          show_metric=True, \n",
        "          batch_size=20,  \n",
        "          run_id='three_group_diff')  \n",
        "\n",
        "model.save('three_group_diff_ResNet')"
      ],
      "execution_count": 0,
      "outputs": []
    }
  ]
}