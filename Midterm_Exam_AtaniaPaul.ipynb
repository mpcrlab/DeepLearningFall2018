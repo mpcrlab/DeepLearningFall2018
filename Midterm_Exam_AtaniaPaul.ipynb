{
  "nbformat": 4,
  "nbformat_minor": 0,
  "metadata": {
    "colab": {
      "name": "Midterm_Exam_AtaniaPaul.ipynb",
      "version": "0.3.2",
      "provenance": [],
      "collapsed_sections": []
    },
    "kernelspec": {
      "name": "python3",
      "display_name": "Python 3"
    }
  },
  "cells": [
    {
      "metadata": {
        "id": "iNSpjYmX5mWf",
        "colab_type": "text"
      },
      "cell_type": "markdown",
      "source": [
        "## Short Answer  \n",
        "Please answer each of the following questions with **at least 2-3 complete sentences**. "
      ]
    },
    {
      "metadata": {
        "id": "MGyFLxgs51Xf",
        "colab_type": "text"
      },
      "cell_type": "markdown",
      "source": [
        "1. Why do we use a validation dataset during training, and what can the performance between the validation dataset and the training set tell us?"
      ]
    },
    {
      "metadata": {
        "id": "93wCMCDY683i",
        "colab_type": "text"
      },
      "cell_type": "markdown",
      "source": [
        "Validation set is used to tune the parameters. We do this to make sure that the data is clean, correct and useful. To make sure the data is something we can trust to make imformed decisions. "
      ]
    },
    {
      "metadata": {
        "id": "re5eTNQr6Fxd",
        "colab_type": "text"
      },
      "cell_type": "markdown",
      "source": [
        "2. What is the major difference between a fully-connected layer and a convolutional layer in terms of the scale of patterns they look for in their input?"
      ]
    },
    {
      "metadata": {
        "id": "DX2PcLVw-xDY",
        "colab_type": "text"
      },
      "cell_type": "markdown",
      "source": [
        "The fully connected layer is the output layer. The convolutional layer consist of a rectangular grid of neurons. it requires that the previous layer also be a rectangular grid of neurons. the fully connected layer take all the neurons in the previous layer and connects it to every single neuron it has."
      ]
    },
    {
      "metadata": {
        "id": "zG152jCS-U8u",
        "colab_type": "text"
      },
      "cell_type": "markdown",
      "source": [
        "3. If you performed 128 convolutions with filter size 3x3 and a stride of 1 on an input that is 100x100x64 and padded the inputs, what would the output shape be of this layer? "
      ]
    },
    {
      "metadata": {
        "id": "OM512xe169UB",
        "colab_type": "text"
      },
      "cell_type": "markdown",
      "source": [
        "the output shape of the layer would be 100X100X128"
      ]
    },
    {
      "metadata": {
        "id": "lwAfXXVftxha",
        "colab_type": "text"
      },
      "cell_type": "markdown",
      "source": [
        "4. Matrix A has a shape of 250x200 and matrix B has a shape of 250x100. Can you perform a matrix multiplication between A and B in that order without performing any other operations first (True or False)?"
      ]
    },
    {
      "metadata": {
        "id": "bltfeNcwuQLY",
        "colab_type": "text"
      },
      "cell_type": "markdown",
      "source": [
        "false"
      ]
    },
    {
      "metadata": {
        "id": "Hu5inws1uR1q",
        "colab_type": "text"
      },
      "cell_type": "markdown",
      "source": [
        "5. Matrix A has a shape of 3x5 and matrix B has a shape of 3x5. Can these two matrices be added together elementwise (True or False)?"
      ]
    },
    {
      "metadata": {
        "id": "B3vs5FZzuif4",
        "colab_type": "text"
      },
      "cell_type": "markdown",
      "source": [
        "true"
      ]
    },
    {
      "metadata": {
        "id": "pUYm9hVr20YC",
        "colab_type": "code",
        "colab": {}
      },
      "cell_type": "code",
      "source": [
        "try:\n",
        "  import tflearn\n",
        "except ImportError:\n",
        "  !pip3 install -q tflearn\n",
        "  import tflearn"
      ],
      "execution_count": 0,
      "outputs": []
    },
    {
      "metadata": {
        "id": "ZpyYpjZ22-l2",
        "colab_type": "code",
        "colab": {}
      },
      "cell_type": "code",
      "source": [
        "import numpy as np\n",
        "import os\n",
        "from google.colab import drive\n",
        "from tflearn.layers.core import input_data, dropout, fully_connected\n",
        "from tflearn.layers.conv import conv_2d\n",
        "from tflearn.activations import relu\n",
        "from tflearn.layers.normalization import batch_normalization as bn\n",
        "from tflearn.layers.estimator import regression\n",
        "from tflearn.data_utils import to_categorical\n",
        "import matplotlib.pyplot as plt"
      ],
      "execution_count": 0,
      "outputs": []
    },
    {
      "metadata": {
        "id": "P2Y1rXO-ul0Z",
        "colab_type": "text"
      },
      "cell_type": "markdown",
      "source": [
        "In the line below, create a matrix full of zeros with 90 rows and 50 columns. Then print the row with index 5 in this matrix."
      ]
    },
    {
      "metadata": {
        "id": "Up_hy6TTuyN-",
        "colab_type": "code",
        "colab": {
          "base_uri": "https://localhost:8080/",
          "height": 136
        },
        "outputId": "857db502-5137-4d75-ba91-267aa083f98a"
      },
      "cell_type": "code",
      "source": [
        "np.zeros([90, 50])"
      ],
      "execution_count": 46,
      "outputs": [
        {
          "output_type": "execute_result",
          "data": {
            "text/plain": [
              "array([[0., 0., 0., ..., 0., 0., 0.],\n",
              "       [0., 0., 0., ..., 0., 0., 0.],\n",
              "       [0., 0., 0., ..., 0., 0., 0.],\n",
              "       ...,\n",
              "       [0., 0., 0., ..., 0., 0., 0.],\n",
              "       [0., 0., 0., ..., 0., 0., 0.],\n",
              "       [0., 0., 0., ..., 0., 0., 0.]])"
            ]
          },
          "metadata": {
            "tags": []
          },
          "execution_count": 46
        }
      ]
    },
    {
      "metadata": {
        "id": "tmoJU_Bi3bv6",
        "colab_type": "code",
        "colab": {}
      },
      "cell_type": "code",
      "source": [
        "# load in the flowers dataset\n",
        "import tflearn.datasets.oxflower17 as oxflower17\n",
        "X, Y = oxflower17.load_data(one_hot=True, resize_pics=(100, 100))"
      ],
      "execution_count": 0,
      "outputs": []
    },
    {
      "metadata": {
        "id": "WR6dvrEH7vEr",
        "colab_type": "text"
      },
      "cell_type": "markdown",
      "source": [
        "In the line below, print the shapes of the data and labels. These shapes will help you later when defining the network."
      ]
    },
    {
      "metadata": {
        "id": "8ObkCv7i7sph",
        "colab_type": "code",
        "colab": {
          "base_uri": "https://localhost:8080/",
          "height": 34
        },
        "outputId": "359e698d-65cd-40c3-c09d-911169610556"
      },
      "cell_type": "code",
      "source": [
        "print(X.shape, Y.shape)"
      ],
      "execution_count": 48,
      "outputs": [
        {
          "output_type": "stream",
          "text": [
            "(1360, 100, 100, 3) (1360, 17)\n"
          ],
          "name": "stdout"
        }
      ]
    },
    {
      "metadata": {
        "id": "IIxdyyjDIKBQ",
        "colab_type": "code",
        "colab": {}
      },
      "cell_type": "code",
      "source": [
        "pic_index = 500"
      ],
      "execution_count": 0,
      "outputs": []
    },
    {
      "metadata": {
        "id": "XRI4GaK9_eDc",
        "colab_type": "text"
      },
      "cell_type": "markdown",
      "source": [
        "Below, show the image with index 500 in the dataset X."
      ]
    },
    {
      "metadata": {
        "id": "O3BT8Hbl_znT",
        "colab_type": "code",
        "colab": {
          "base_uri": "https://localhost:8080/",
          "height": 366
        },
        "outputId": "76414727-f09d-4130-c3fd-d216647fa6cb"
      },
      "cell_type": "code",
      "source": [
        "plt.imshow(X[500, ...])"
      ],
      "execution_count": 50,
      "outputs": [
        {
          "output_type": "execute_result",
          "data": {
            "text/plain": [
              "<matplotlib.image.AxesImage at 0x7fb3d307d278>"
            ]
          },
          "metadata": {
            "tags": []
          },
          "execution_count": 50
        },
        {
          "output_type": "display_data",
          "data": {
            "image/png": "[encoded data removed]",
            "text/plain": [
              "<matplotlib.figure.Figure at 0x7fb3d30be828>"
            ]
          },
          "metadata": {
            "tags": []
          }
        }
      ]
    },
    {
      "metadata": {
        "id": "QNK49T4gG8tN",
        "colab_type": "code",
        "colab": {}
      },
      "cell_type": "code",
      "source": [
        "random_img = X[500, ...] "
      ],
      "execution_count": 0,
      "outputs": []
    },
    {
      "metadata": {
        "id": "PnVAUvxq_2vc",
        "colab_type": "text"
      },
      "cell_type": "markdown",
      "source": [
        "In the line below, plot a histogram of X using an appropriate number of bins."
      ]
    },
    {
      "metadata": {
        "id": "VC0eiuhP_-jE",
        "colab_type": "code",
        "colab": {
          "base_uri": "https://localhost:8080/",
          "height": 4226
        },
        "outputId": "fd5a16c6-75df-4992-e54a-d5abdffbe011"
      },
      "cell_type": "code",
      "source": [
        "plt.hist(X.flatten(), bins=500) "
      ],
      "execution_count": 106,
      "outputs": [
        {
          "output_type": "execute_result",
          "data": {
            "text/plain": [
              "(array([8.00000e+00, 3.90000e+01, 6.10000e+01, 1.10000e+02, 1.83000e+02,\n",
              "        2.62000e+02, 3.81000e+02, 5.19000e+02, 5.96000e+02, 5.98000e+02,\n",
              "        6.74000e+02, 7.63000e+02, 8.77000e+02, 1.07000e+03, 1.20000e+03,\n",
              "        1.49800e+03, 1.85500e+03, 2.14200e+03, 2.46100e+03, 3.07600e+03,\n",
              "        3.24900e+03, 3.65600e+03, 3.98400e+03, 4.43700e+03, 4.82100e+03,\n",
              "        5.31000e+03, 5.70800e+03, 5.93900e+03, 6.46000e+03, 6.89800e+03,\n",
              "        7.25300e+03, 7.73200e+03, 8.09200e+03, 8.65000e+03, 9.16600e+03,\n",
              "        9.53900e+03, 1.01640e+04, 1.07410e+04, 1.12980e+04, 1.19480e+04,\n",
              "        1.25970e+04, 1.30490e+04, 1.37180e+04, 1.42340e+04, 1.49020e+04,\n",
              "        1.58110e+04, 1.67360e+04, 1.78800e+04, 1.84930e+04, 1.94580e+04,\n",
              "        2.02400e+04, 2.18270e+04, 2.29090e+04, 2.40060e+04, 2.57770e+04,\n",
              "        2.74850e+04, 2.93670e+04, 3.18030e+04, 3.31820e+04, 3.67980e+04,\n",
              "        4.03300e+04, 4.30310e+04, 4.57860e+04, 5.01670e+04, 5.37520e+04,\n",
              "        5.76000e+04, 5.93440e+04, 6.26780e+04, 6.47550e+04, 6.79970e+04,\n",
              "        7.14200e+04, 7.52120e+04, 7.91580e+04, 8.19110e+04, 8.68570e+04,\n",
              "        8.98910e+04, 9.28580e+04, 9.64320e+04, 9.85860e+04, 1.00506e+05,\n",
              "        1.02513e+05, 1.02165e+05, 1.03463e+05, 1.03554e+05, 1.04396e+05,\n",
              "        1.04726e+05, 1.07410e+05, 1.11286e+05, 1.16634e+05, 1.22658e+05,\n",
              "        1.29368e+05, 1.38563e+05, 1.45466e+05, 1.55910e+05, 1.64060e+05,\n",
              "        1.75553e+05, 1.91457e+05, 2.08439e+05, 2.22526e+05, 2.36950e+05,\n",
              "        2.57586e+05, 2.74605e+05, 2.74967e+05, 2.72966e+05, 2.71362e+05,\n",
              "        2.70519e+05, 2.64166e+05, 2.62285e+05, 2.61006e+05, 2.58746e+05,\n",
              "        2.57265e+05, 2.53243e+05, 2.53145e+05, 2.53338e+05, 2.49946e+05,\n",
              "        2.46812e+05, 2.44969e+05, 2.44397e+05, 2.44131e+05, 2.43833e+05,\n",
              "        2.40569e+05, 2.40383e+05, 2.37840e+05, 2.40447e+05, 2.37352e+05,\n",
              "        2.36497e+05, 2.33561e+05, 2.31983e+05, 2.32797e+05, 2.32245e+05,\n",
              "        2.30509e+05, 2.31099e+05, 2.29440e+05, 2.27834e+05, 2.27017e+05,\n",
              "        2.25395e+05, 2.23625e+05, 2.23902e+05, 2.24156e+05, 2.20067e+05,\n",
              "        2.21868e+05, 2.21033e+05, 2.20808e+05, 2.16469e+05, 2.17151e+05,\n",
              "        2.17625e+05, 2.15848e+05, 2.14337e+05, 2.13726e+05, 2.13543e+05,\n",
              "        2.10070e+05, 2.11266e+05, 2.11431e+05, 2.08717e+05, 2.07355e+05,\n",
              "        2.07625e+05, 2.05362e+05, 2.05874e+05, 2.05817e+05, 2.02655e+05,\n",
              "        2.02624e+05, 2.02002e+05, 2.00797e+05, 1.98149e+05, 1.98294e+05,\n",
              "        1.97531e+05, 1.95387e+05, 1.93771e+05, 1.93864e+05, 1.93229e+05,\n",
              "        1.90684e+05, 1.90549e+05, 1.88846e+05, 1.88762e+05, 1.86723e+05,\n",
              "        1.86786e+05, 1.84802e+05, 1.83917e+05, 1.83378e+05, 1.82789e+05,\n",
              "        1.79671e+05, 1.79391e+05, 1.78819e+05, 1.78311e+05, 1.77584e+05,\n",
              "        1.76218e+05, 1.74612e+05, 1.73913e+05, 1.72596e+05, 1.70802e+05,\n",
              "        1.70039e+05, 1.69169e+05, 1.68304e+05, 1.67881e+05, 1.66863e+05,\n",
              "        1.65951e+05, 1.64082e+05, 1.64028e+05, 1.62681e+05, 1.62069e+05,\n",
              "        1.60443e+05, 1.59971e+05, 1.58580e+05, 1.56544e+05, 1.56133e+05,\n",
              "        1.55109e+05, 1.53558e+05, 1.53374e+05, 1.52963e+05, 1.51678e+05,\n",
              "        1.49404e+05, 1.48925e+05, 1.48003e+05, 1.47653e+05, 1.45360e+05,\n",
              "        1.45198e+05, 1.44138e+05, 1.42641e+05, 1.42015e+05, 1.40871e+05,\n",
              "        1.40415e+05, 1.39115e+05, 1.38313e+05, 1.37802e+05, 1.35275e+05,\n",
              "        1.36182e+05, 1.35231e+05, 1.33280e+05, 1.32671e+05, 1.31335e+05,\n",
              "        1.30840e+05, 1.30923e+05, 1.28981e+05, 1.28177e+05, 1.28015e+05,\n",
              "        1.27026e+05, 1.25301e+05, 1.25545e+05, 1.24599e+05, 1.23167e+05,\n",
              "        1.22331e+05, 1.21651e+05, 1.21247e+05, 1.20485e+05, 1.19364e+05,\n",
              "        1.19871e+05, 1.18695e+05, 1.17498e+05, 1.16754e+05, 1.15502e+05,\n",
              "        1.15530e+05, 1.14269e+05, 1.14561e+05, 1.13314e+05, 1.13584e+05,\n",
              "        1.11249e+05, 1.11273e+05, 1.09250e+05, 1.10276e+05, 1.08106e+05,\n",
              "        1.06691e+05, 1.06656e+05, 1.04603e+05, 1.05033e+05, 1.03865e+05,\n",
              "        1.03874e+05, 1.02990e+05, 1.02537e+05, 1.01358e+05, 1.00897e+05,\n",
              "        9.88960e+04, 9.93330e+04, 9.85750e+04, 9.75920e+04, 9.71650e+04,\n",
              "        9.71330e+04, 9.57670e+04, 9.42410e+04, 9.33420e+04, 9.34120e+04,\n",
              "        9.25560e+04, 9.13250e+04, 9.10880e+04, 8.95340e+04, 8.97830e+04,\n",
              "        8.87690e+04, 8.82230e+04, 8.76570e+04, 8.62100e+04, 8.53150e+04,\n",
              "        8.40210e+04, 8.20420e+04, 8.03900e+04, 7.83050e+04, 7.75010e+04,\n",
              "        7.59790e+04, 7.54710e+04, 7.35820e+04, 7.25440e+04, 7.11150e+04,\n",
              "        7.00100e+04, 6.91820e+04, 6.71940e+04, 6.59870e+04, 6.39750e+04,\n",
              "        6.22050e+04, 6.11060e+04, 6.00610e+04, 5.90320e+04, 5.79930e+04,\n",
              "        5.73750e+04, 5.56900e+04, 5.61300e+04, 5.43560e+04, 5.29790e+04,\n",
              "        5.19860e+04, 5.02460e+04, 4.91870e+04, 4.81100e+04, 4.75240e+04,\n",
              "        4.62940e+04, 4.50580e+04, 4.45630e+04, 4.37730e+04, 4.29680e+04,\n",
              "        4.16840e+04, 4.14020e+04, 4.03770e+04, 3.98340e+04, 3.89090e+04,\n",
              "        3.74340e+04, 3.64140e+04, 3.58320e+04, 3.51930e+04, 3.41250e+04,\n",
              "        3.35470e+04, 3.28230e+04, 3.19550e+04, 3.14450e+04, 3.09250e+04,\n",
              "        2.95580e+04, 2.90870e+04, 2.87510e+04, 2.74880e+04, 2.70690e+04,\n",
              "        2.66120e+04, 2.58540e+04, 2.52870e+04, 2.43750e+04, 2.40620e+04,\n",
              "        2.32960e+04, 2.26720e+04, 2.26050e+04, 2.19610e+04, 2.13410e+04,\n",
              "        2.09050e+04, 2.04900e+04, 1.99970e+04, 1.92550e+04, 1.89190e+04,\n",
              "        1.81830e+04, 1.76640e+04, 1.73400e+04, 1.69040e+04, 1.66440e+04,\n",
              "        1.60020e+04, 1.56820e+04, 1.51980e+04, 1.50770e+04, 1.50370e+04,\n",
              "        1.45340e+04, 1.43370e+04, 1.40620e+04, 1.37650e+04, 1.29200e+04,\n",
              "        1.27690e+04, 1.26610e+04, 1.22200e+04, 1.17010e+04, 1.12310e+04,\n",
              "        1.12270e+04, 1.08600e+04, 1.04920e+04, 1.04920e+04, 1.00740e+04,\n",
              "        1.00440e+04, 9.85500e+03, 9.61500e+03, 9.05800e+03, 9.38700e+03,\n",
              "        8.70700e+03, 9.10600e+03, 8.51800e+03, 8.41800e+03, 7.88200e+03,\n",
              "        7.44500e+03, 7.15300e+03, 6.64300e+03, 6.33200e+03, 6.11400e+03,\n",
              "        6.06400e+03, 5.85800e+03, 5.49200e+03, 5.33100e+03, 4.94000e+03,\n",
              "        4.82300e+03, 4.78300e+03, 4.41800e+03, 4.45700e+03, 4.29000e+03,\n",
              "        3.97300e+03, 3.87100e+03, 3.96300e+03, 3.54800e+03, 3.55000e+03,\n",
              "        3.37700e+03, 3.17800e+03, 3.10700e+03, 3.07600e+03, 2.91800e+03,\n",
              "        2.84200e+03, 2.81900e+03, 2.58700e+03, 2.45000e+03, 2.46200e+03,\n",
              "        2.27900e+03, 2.05600e+03, 2.03300e+03, 1.71500e+03, 1.68800e+03,\n",
              "        1.55500e+03, 1.47900e+03, 1.42700e+03, 1.31800e+03, 1.24300e+03,\n",
              "        1.19600e+03, 1.16500e+03, 1.08200e+03, 9.71000e+02, 9.12000e+02,\n",
              "        8.95000e+02, 8.02000e+02, 7.42000e+02, 7.25000e+02, 7.26000e+02,\n",
              "        6.21000e+02, 6.17000e+02, 6.47000e+02, 5.60000e+02, 5.14000e+02,\n",
              "        5.04000e+02, 5.38000e+02, 5.34000e+02, 5.60000e+02, 4.99000e+02,\n",
              "        4.96000e+02, 5.74000e+02, 5.30000e+02, 4.27000e+02, 4.79000e+02,\n",
              "        4.70000e+02, 4.93000e+02, 4.46000e+02, 4.99000e+02, 4.28000e+02,\n",
              "        3.64000e+02, 3.78000e+02, 3.86000e+02, 3.63000e+02, 2.93000e+02,\n",
              "        2.95000e+02, 3.15000e+02, 2.82000e+02, 2.60000e+02, 3.44000e+02,\n",
              "        2.90000e+02, 2.41000e+02, 2.00000e+02, 1.93000e+02, 1.76000e+02,\n",
              "        1.60000e+02, 1.23000e+02, 1.03000e+02, 1.00000e+02, 7.00000e+01,\n",
              "        4.60000e+01, 4.10000e+01, 2.50000e+01, 1.40000e+01, 2.00000e+01,\n",
              "        8.00000e+00, 1.20000e+01, 2.00000e+00, 2.00000e+00, 2.00000e+00,\n",
              "        0.00000e+00, 0.00000e+00, 4.00000e+00, 0.00000e+00, 1.00000e+00]),\n",
              " array([-2.42054272e+00, -2.40710025e+00, -2.39365778e+00, -2.38021531e+00,\n",
              "        -2.36677285e+00, -2.35333038e+00, -2.33988791e+00, -2.32644544e+00,\n",
              "        -2.31300298e+00, -2.29956051e+00, -2.28611804e+00, -2.27267557e+00,\n",
              "        -2.25923310e+00, -2.24579064e+00, -2.23234817e+00, -2.21890570e+00,\n",
              "        -2.20546323e+00, -2.19202077e+00, -2.17857830e+00, -2.16513583e+00,\n",
              "        -2.15169336e+00, -2.13825090e+00, -2.12480843e+00, -2.11136596e+00,\n",
              "        -2.09792349e+00, -2.08448102e+00, -2.07103856e+00, -2.05759609e+00,\n",
              "        -2.04415362e+00, -2.03071115e+00, -2.01726869e+00, -2.00382622e+00,\n",
              "        -1.99038375e+00, -1.97694128e+00, -1.96349882e+00, -1.95005635e+00,\n",
              "        -1.93661388e+00, -1.92317141e+00, -1.90972894e+00, -1.89628648e+00,\n",
              "        -1.88284401e+00, -1.86940154e+00, -1.85595907e+00, -1.84251661e+00,\n",
              "        -1.82907414e+00, -1.81563167e+00, -1.80218920e+00, -1.78874674e+00,\n",
              "        -1.77530427e+00, -1.76186180e+00, -1.74841933e+00, -1.73497686e+00,\n",
              "        -1.72153440e+00, -1.70809193e+00, -1.69464946e+00, -1.68120699e+00,\n",
              "        -1.66776453e+00, -1.65432206e+00, -1.64087959e+00, -1.62743712e+00,\n",
              "        -1.61399466e+00, -1.60055219e+00, -1.58710972e+00, -1.57366725e+00,\n",
              "        -1.56022478e+00, -1.54678232e+00, -1.53333985e+00, -1.51989738e+00,\n",
              "        -1.50645491e+00, -1.49301245e+00, -1.47956998e+00, -1.46612751e+00,\n",
              "        -1.45268504e+00, -1.43924258e+00, -1.42580011e+00, -1.41235764e+00,\n",
              "        -1.39891517e+00, -1.38547270e+00, -1.37203024e+00, -1.35858777e+00,\n",
              "        -1.34514530e+00, -1.33170283e+00, -1.31826037e+00, -1.30481790e+00,\n",
              "        -1.29137543e+00, -1.27793296e+00, -1.26449050e+00, -1.25104803e+00,\n",
              "        -1.23760556e+00, -1.22416309e+00, -1.21072062e+00, -1.19727816e+00,\n",
              "        -1.18383569e+00, -1.17039322e+00, -1.15695075e+00, -1.14350829e+00,\n",
              "        -1.13006582e+00, -1.11662335e+00, -1.10318088e+00, -1.08973842e+00,\n",
              "        -1.07629595e+00, -1.06285348e+00, -1.04941101e+00, -1.03596854e+00,\n",
              "        -1.02252608e+00, -1.00908361e+00, -9.95641142e-01, -9.82198674e-01,\n",
              "        -9.68756207e-01, -9.55313739e-01, -9.41871271e-01, -9.28428803e-01,\n",
              "        -9.14986336e-01, -9.01543868e-01, -8.88101400e-01, -8.74658933e-01,\n",
              "        -8.61216465e-01, -8.47773997e-01, -8.34331530e-01, -8.20889062e-01,\n",
              "        -8.07446594e-01, -7.94004127e-01, -7.80561659e-01, -7.67119191e-01,\n",
              "        -7.53676723e-01, -7.40234256e-01, -7.26791788e-01, -7.13349320e-01,\n",
              "        -6.99906853e-01, -6.86464385e-01, -6.73021917e-01, -6.59579450e-01,\n",
              "        -6.46136982e-01, -6.32694514e-01, -6.19252047e-01, -6.05809579e-01,\n",
              "        -5.92367111e-01, -5.78924644e-01, -5.65482176e-01, -5.52039708e-01,\n",
              "        -5.38597240e-01, -5.25154773e-01, -5.11712305e-01, -4.98269837e-01,\n",
              "        -4.84827370e-01, -4.71384902e-01, -4.57942434e-01, -4.44499967e-01,\n",
              "        -4.31057499e-01, -4.17615031e-01, -4.04172564e-01, -3.90730096e-01,\n",
              "        -3.77287628e-01, -3.63845160e-01, -3.50402693e-01, -3.36960225e-01,\n",
              "        -3.23517757e-01, -3.10075290e-01, -2.96632822e-01, -2.83190354e-01,\n",
              "        -2.69747887e-01, -2.56305419e-01, -2.42862951e-01, -2.29420484e-01,\n",
              "        -2.15978016e-01, -2.02535548e-01, -1.89093081e-01, -1.75650613e-01,\n",
              "        -1.62208145e-01, -1.48765677e-01, -1.35323210e-01, -1.21880742e-01,\n",
              "        -1.08438274e-01, -9.49958067e-02, -8.15533390e-02, -6.81108713e-02,\n",
              "        -5.46684036e-02, -4.12259359e-02, -2.77834682e-02, -1.43410006e-02,\n",
              "        -8.98532867e-04,  1.25439348e-02,  2.59864025e-02,  3.94288702e-02,\n",
              "         5.28713379e-02,  6.63138056e-02,  7.97562733e-02,  9.31987410e-02,\n",
              "         1.06641209e-01,  1.20083676e-01,  1.33526144e-01,  1.46968612e-01,\n",
              "         1.60411079e-01,  1.73853547e-01,  1.87296015e-01,  2.00738482e-01,\n",
              "         2.14180950e-01,  2.27623418e-01,  2.41065886e-01,  2.54508353e-01,\n",
              "         2.67950821e-01,  2.81393289e-01,  2.94835756e-01,  3.08278224e-01,\n",
              "         3.21720692e-01,  3.35163159e-01,  3.48605627e-01,  3.62048095e-01,\n",
              "         3.75490562e-01,  3.88933030e-01,  4.02375498e-01,  4.15817966e-01,\n",
              "         4.29260433e-01,  4.42702901e-01,  4.56145369e-01,  4.69587836e-01,\n",
              "         4.83030304e-01,  4.96472772e-01,  5.09915239e-01,  5.23357707e-01,\n",
              "         5.36800175e-01,  5.50242642e-01,  5.63685110e-01,  5.77127578e-01,\n",
              "         5.90570045e-01,  6.04012513e-01,  6.17454981e-01,  6.30897449e-01,\n",
              "         6.44339916e-01,  6.57782384e-01,  6.71224852e-01,  6.84667319e-01,\n",
              "         6.98109787e-01,  7.11552255e-01,  7.24994722e-01,  7.38437190e-01,\n",
              "         7.51879658e-01,  7.65322125e-01,  7.78764593e-01,  7.92207061e-01,\n",
              "         8.05649529e-01,  8.19091996e-01,  8.32534464e-01,  8.45976932e-01,\n",
              "         8.59419399e-01,  8.72861867e-01,  8.86304335e-01,  8.99746802e-01,\n",
              "         9.13189270e-01,  9.26631738e-01,  9.40074205e-01,  9.53516673e-01,\n",
              "         9.66959141e-01,  9.80401608e-01,  9.93844076e-01,  1.00728654e+00,\n",
              "         1.02072901e+00,  1.03417148e+00,  1.04761395e+00,  1.06105641e+00,\n",
              "         1.07449888e+00,  1.08794135e+00,  1.10138382e+00,  1.11482629e+00,\n",
              "         1.12826875e+00,  1.14171122e+00,  1.15515369e+00,  1.16859616e+00,\n",
              "         1.18203862e+00,  1.19548109e+00,  1.20892356e+00,  1.22236603e+00,\n",
              "         1.23580849e+00,  1.24925096e+00,  1.26269343e+00,  1.27613590e+00,\n",
              "         1.28957837e+00,  1.30302083e+00,  1.31646330e+00,  1.32990577e+00,\n",
              "         1.34334824e+00,  1.35679070e+00,  1.37023317e+00,  1.38367564e+00,\n",
              "         1.39711811e+00,  1.41056057e+00,  1.42400304e+00,  1.43744551e+00,\n",
              "         1.45088798e+00,  1.46433045e+00,  1.47777291e+00,  1.49121538e+00,\n",
              "         1.50465785e+00,  1.51810032e+00,  1.53154278e+00,  1.54498525e+00,\n",
              "         1.55842772e+00,  1.57187019e+00,  1.58531265e+00,  1.59875512e+00,\n",
              "         1.61219759e+00,  1.62564006e+00,  1.63908253e+00,  1.65252499e+00,\n",
              "         1.66596746e+00,  1.67940993e+00,  1.69285240e+00,  1.70629486e+00,\n",
              "         1.71973733e+00,  1.73317980e+00,  1.74662227e+00,  1.76006473e+00,\n",
              "         1.77350720e+00,  1.78694967e+00,  1.80039214e+00,  1.81383461e+00,\n",
              "         1.82727707e+00,  1.84071954e+00,  1.85416201e+00,  1.86760448e+00,\n",
              "         1.88104694e+00,  1.89448941e+00,  1.90793188e+00,  1.92137435e+00,\n",
              "         1.93481681e+00,  1.94825928e+00,  1.96170175e+00,  1.97514422e+00,\n",
              "         1.98858669e+00,  2.00202915e+00,  2.01547162e+00,  2.02891409e+00,\n",
              "         2.04235656e+00,  2.05579902e+00,  2.06924149e+00,  2.08268396e+00,\n",
              "         2.09612643e+00,  2.10956889e+00,  2.12301136e+00,  2.13645383e+00,\n",
              "         2.14989630e+00,  2.16333877e+00,  2.17678123e+00,  2.19022370e+00,\n",
              "         2.20366617e+00,  2.21710864e+00,  2.23055110e+00,  2.24399357e+00,\n",
              "         2.25743604e+00,  2.27087851e+00,  2.28432097e+00,  2.29776344e+00,\n",
              "         2.31120591e+00,  2.32464838e+00,  2.33809085e+00,  2.35153331e+00,\n",
              "         2.36497578e+00,  2.37841825e+00,  2.39186072e+00,  2.40530318e+00,\n",
              "         2.41874565e+00,  2.43218812e+00,  2.44563059e+00,  2.45907305e+00,\n",
              "         2.47251552e+00,  2.48595799e+00,  2.49940046e+00,  2.51284293e+00,\n",
              "         2.52628539e+00,  2.53972786e+00,  2.55317033e+00,  2.56661280e+00,\n",
              "         2.58005526e+00,  2.59349773e+00,  2.60694020e+00,  2.62038267e+00,\n",
              "         2.63382513e+00,  2.64726760e+00,  2.66071007e+00,  2.67415254e+00,\n",
              "         2.68759501e+00,  2.70103747e+00,  2.71447994e+00,  2.72792241e+00,\n",
              "         2.74136488e+00,  2.75480734e+00,  2.76824981e+00,  2.78169228e+00,\n",
              "         2.79513475e+00,  2.80857721e+00,  2.82201968e+00,  2.83546215e+00,\n",
              "         2.84890462e+00,  2.86234708e+00,  2.87578955e+00,  2.88923202e+00,\n",
              "         2.90267449e+00,  2.91611696e+00,  2.92955942e+00,  2.94300189e+00,\n",
              "         2.95644436e+00,  2.96988683e+00,  2.98332929e+00,  2.99677176e+00,\n",
              "         3.01021423e+00,  3.02365670e+00,  3.03709916e+00,  3.05054163e+00,\n",
              "         3.06398410e+00,  3.07742657e+00,  3.09086904e+00,  3.10431150e+00,\n",
              "         3.11775397e+00,  3.13119644e+00,  3.14463891e+00,  3.15808137e+00,\n",
              "         3.17152384e+00,  3.18496631e+00,  3.19840878e+00,  3.21185124e+00,\n",
              "         3.22529371e+00,  3.23873618e+00,  3.25217865e+00,  3.26562112e+00,\n",
              "         3.27906358e+00,  3.29250605e+00,  3.30594852e+00,  3.31939099e+00,\n",
              "         3.33283345e+00,  3.34627592e+00,  3.35971839e+00,  3.37316086e+00,\n",
              "         3.38660332e+00,  3.40004579e+00,  3.41348826e+00,  3.42693073e+00,\n",
              "         3.44037320e+00,  3.45381566e+00,  3.46725813e+00,  3.48070060e+00,\n",
              "         3.49414307e+00,  3.50758553e+00,  3.52102800e+00,  3.53447047e+00,\n",
              "         3.54791294e+00,  3.56135540e+00,  3.57479787e+00,  3.58824034e+00,\n",
              "         3.60168281e+00,  3.61512528e+00,  3.62856774e+00,  3.64201021e+00,\n",
              "         3.65545268e+00,  3.66889515e+00,  3.68233761e+00,  3.69578008e+00,\n",
              "         3.70922255e+00,  3.72266502e+00,  3.73610748e+00,  3.74954995e+00,\n",
              "         3.76299242e+00,  3.77643489e+00,  3.78987736e+00,  3.80331982e+00,\n",
              "         3.81676229e+00,  3.83020476e+00,  3.84364723e+00,  3.85708969e+00,\n",
              "         3.87053216e+00,  3.88397463e+00,  3.89741710e+00,  3.91085956e+00,\n",
              "         3.92430203e+00,  3.93774450e+00,  3.95118697e+00,  3.96462944e+00,\n",
              "         3.97807190e+00,  3.99151437e+00,  4.00495684e+00,  4.01839931e+00,\n",
              "         4.03184177e+00,  4.04528424e+00,  4.05872671e+00,  4.07216918e+00,\n",
              "         4.08561164e+00,  4.09905411e+00,  4.11249658e+00,  4.12593905e+00,\n",
              "         4.13938152e+00,  4.15282398e+00,  4.16626645e+00,  4.17970892e+00,\n",
              "         4.19315139e+00,  4.20659385e+00,  4.22003632e+00,  4.23347879e+00,\n",
              "         4.24692126e+00,  4.26036372e+00,  4.27380619e+00,  4.28724866e+00,\n",
              "         4.30069113e+00]),\n",
              " <a list of 500 Patch objects>)"
            ]
          },
          "metadata": {
            "tags": []
          },
          "execution_count": 106
        },
        {
          "output_type": "display_data",
          "data": {
            "image/png": "[encoded data removed]",
            "text/plain": [
              "<matplotlib.figure.Figure at 0x7fb3d1c98b00>"
            ]
          },
          "metadata": {
            "tags": []
          }
        }
      ]
    },
    {
      "metadata": {
        "id": "SjCcP-6L7y8p",
        "colab_type": "text"
      },
      "cell_type": "markdown",
      "source": [
        "In the line below, normalize the images by subtracting the mean and dividing by the standard deviation of every pixel. "
      ]
    },
    {
      "metadata": {
        "id": "0U-KUqry8Cac",
        "colab_type": "code",
        "colab": {}
      },
      "cell_type": "code",
      "source": [
        "X_mean = np.mean(X, 0) \n",
        "X -= X_mean \n",
        "X /= np.std(X, 0) "
      ],
      "execution_count": 0,
      "outputs": []
    },
    {
      "metadata": {
        "id": "nTEjVMFZ8DOx",
        "colab_type": "text"
      },
      "cell_type": "markdown",
      "source": [
        "You will now create a convolutional neural network to predict the flower species from the images. In the line below, create an input layer for the network based on the shape of the images. "
      ]
    },
    {
      "metadata": {
        "id": "sQthDsKE8LxC",
        "colab_type": "code",
        "colab": {}
      },
      "cell_type": "code",
      "source": [
        "input_layer = input_data(shape=[None, 500, 500, 3])"
      ],
      "execution_count": 0,
      "outputs": []
    },
    {
      "metadata": {
        "id": "3CfNKx5x8TxX",
        "colab_type": "text"
      },
      "cell_type": "markdown",
      "source": [
        "In the line below, finish the line and create a convolutional layer to take in the input layer and slide 64 filters with shape 7x7 around it using the relu activation function. You might find the documentation for the conv_2d function helpful: http://tflearn.org/layers/conv/"
      ]
    },
    {
      "metadata": {
        "id": "zRbpB5md8yxk",
        "colab_type": "code",
        "colab": {}
      },
      "cell_type": "code",
      "source": [
        "# have 64, 7x7 filters over the input images\n",
        "conv1 = conv_2d(input_layer, 64, 7, activation='relu')"
      ],
      "execution_count": 0,
      "outputs": []
    },
    {
      "metadata": {
        "id": "43kfwW7Y8zM5",
        "colab_type": "text"
      },
      "cell_type": "markdown",
      "source": [
        "In the line below, I have created a second convolutional layer which will take in the first convolutional layer's feature maps as input. Write a comment to indicate 1) how many filters this layer has, 2) what the filter size is, and 3) what the height and width of each output feature map should be based on the stride."
      ]
    },
    {
      "metadata": {
        "id": "x_X6B8rf9hGu",
        "colab_type": "code",
        "colab": {}
      },
      "cell_type": "code",
      "source": [
        "# the filter size is 3x3\n",
        "# the layer has 128 filters\n",
        "# there's a stride of 4 the feauture map is 25x25\n",
        "conv2 = conv_2d(conv1, 128, 3, activation='relu', strides=4)"
      ],
      "execution_count": 0,
      "outputs": []
    },
    {
      "metadata": {
        "id": "Xx7Fj-5_94ud",
        "colab_type": "text"
      },
      "cell_type": "markdown",
      "source": [
        "In the line below, replace the question marks with appropriate values, keeping in mind this will be the output layer of the network."
      ]
    },
    {
      "metadata": {
        "id": "R53S9-Eh93dM",
        "colab_type": "code",
        "colab": {}
      },
      "cell_type": "code",
      "source": [
        "output_layer = fully_connected(conv2, 85, activation='softmax')"
      ],
      "execution_count": 0,
      "outputs": []
    },
    {
      "metadata": {
        "id": "JPTFKggu-as_",
        "colab_type": "text"
      },
      "cell_type": "markdown",
      "source": [
        "In the line below, remove the question mark and replace it with an appropriate value for the learning rate."
      ]
    },
    {
      "metadata": {
        "id": "Ci_ibCK7-OBO",
        "colab_type": "code",
        "colab": {}
      },
      "cell_type": "code",
      "source": [
        "opt = regression(output_layer, optimizer='adam', learning_rate=0.005, loss='categorical_crossentropy')"
      ],
      "execution_count": 0,
      "outputs": []
    },
    {
      "metadata": {
        "id": "llDk0Kp2-gRZ",
        "colab_type": "text"
      },
      "cell_type": "markdown",
      "source": [
        "You don't need to do anything for the line below. "
      ]
    },
    {
      "metadata": {
        "id": "zGl3WLoy-kvY",
        "colab_type": "code",
        "colab": {}
      },
      "cell_type": "code",
      "source": [
        "model = tflearn.DNN(opt)"
      ],
      "execution_count": 0,
      "outputs": []
    },
    {
      "metadata": {
        "id": "2xOQFvu7-n7d",
        "colab_type": "text"
      },
      "cell_type": "markdown",
      "source": [
        "In the line below, replace each question mark with appropriate values and write a comment next to each line describing what it does (you only need to comment the lines I write *comment here* after.)."
      ]
    },
    {
      "metadata": {
        "id": "wrdtg6fM-urv",
        "colab_type": "code",
        "colab": {
          "base_uri": "https://localhost:8080/",
          "height": 476
        },
        "outputId": "ffad96c6-24e3-4793-93d1-1c7edd0f728a"
      },
      "cell_type": "code",
      "source": [
        "model.fit(X, # input images for training\n",
        "          Y, # desired labels for each training input image\n",
        "          validation_set=0.1, # validation images and their corresponding labels\n",
        "          show_metric=True, # shows the validation performance in tensorboard\n",
        "          n_epoch=10, # number of times to go through the whole dataset in increments of batch_size\n",
        "          batch_size=75, # how many images to send to network each training iteration\n",
        "          snapshot_step=200)"
      ],
      "execution_count": 134,
      "outputs": [
        {
          "output_type": "error",
          "ename": "IndexError",
          "evalue": "ignored",
          "traceback": [
            "\u001b[0;31m---------------------------------------------------------------------------\u001b[0m",
            "\u001b[0;31mIndexError\u001b[0m                                Traceback (most recent call last)",
            "\u001b[0;32m<ipython-input-134-75516970b63b>\u001b[0m in \u001b[0;36m<module>\u001b[0;34m()\u001b[0m\n\u001b[1;32m      5\u001b[0m           \u001b[0mn_epoch\u001b[0m\u001b[0;34m=\u001b[0m\u001b[0;36m10\u001b[0m\u001b[0;34m,\u001b[0m \u001b[0;31m# number of times to go through the whole dataset in increments of batch_size\u001b[0m\u001b[0;34m\u001b[0m\u001b[0m\n\u001b[1;32m      6\u001b[0m           \u001b[0mbatch_size\u001b[0m\u001b[0;34m=\u001b[0m\u001b[0;36m75\u001b[0m\u001b[0;34m,\u001b[0m \u001b[0;31m# how many images to send to network each training iteration\u001b[0m\u001b[0;34m\u001b[0m\u001b[0m\n\u001b[0;32m----> 7\u001b[0;31m           snapshot_step=200)\n\u001b[0m",
            "\u001b[0;32m/usr/local/lib/python3.6/dist-packages/tflearn/models/dnn.py\u001b[0m in \u001b[0;36mfit\u001b[0;34m(self, X_inputs, Y_targets, n_epoch, validation_set, show_metric, batch_size, shuffle, snapshot_epoch, snapshot_step, excl_trainops, validation_batch_size, run_id, callbacks)\u001b[0m\n\u001b[1;32m    182\u001b[0m         \u001b[0;31m# TODO: check memory impact for large data and multiple optimizers\u001b[0m\u001b[0;34m\u001b[0m\u001b[0;34m\u001b[0m\u001b[0m\n\u001b[1;32m    183\u001b[0m         feed_dict = feed_dict_builder(X_inputs, Y_targets, self.inputs,\n\u001b[0;32m--> 184\u001b[0;31m                                       self.targets)\n\u001b[0m\u001b[1;32m    185\u001b[0m         \u001b[0mfeed_dicts\u001b[0m \u001b[0;34m=\u001b[0m \u001b[0;34m[\u001b[0m\u001b[0mfeed_dict\u001b[0m \u001b[0;32mfor\u001b[0m \u001b[0mi\u001b[0m \u001b[0;32min\u001b[0m \u001b[0mself\u001b[0m\u001b[0;34m.\u001b[0m\u001b[0mtrain_ops\u001b[0m\u001b[0;34m]\u001b[0m\u001b[0;34m\u001b[0m\u001b[0m\n\u001b[1;32m    186\u001b[0m         \u001b[0mval_feed_dicts\u001b[0m \u001b[0;34m=\u001b[0m \u001b[0;32mNone\u001b[0m\u001b[0;34m\u001b[0m\u001b[0m\n",
            "\u001b[0;32m/usr/local/lib/python3.6/dist-packages/tflearn/utils.py\u001b[0m in \u001b[0;36mfeed_dict_builder\u001b[0;34m(X, Y, net_inputs, net_targets)\u001b[0m\n\u001b[1;32m    281\u001b[0m                 \u001b[0mX\u001b[0m \u001b[0;34m=\u001b[0m \u001b[0;34m[\u001b[0m\u001b[0mX\u001b[0m\u001b[0;34m]\u001b[0m\u001b[0;34m\u001b[0m\u001b[0m\n\u001b[1;32m    282\u001b[0m             \u001b[0;32mfor\u001b[0m \u001b[0mi\u001b[0m\u001b[0;34m,\u001b[0m \u001b[0mx\u001b[0m \u001b[0;32min\u001b[0m \u001b[0menumerate\u001b[0m\u001b[0;34m(\u001b[0m\u001b[0mX\u001b[0m\u001b[0;34m)\u001b[0m\u001b[0;34m:\u001b[0m\u001b[0;34m\u001b[0m\u001b[0m\n\u001b[0;32m--> 283\u001b[0;31m                 \u001b[0mfeed_dict\u001b[0m\u001b[0;34m[\u001b[0m\u001b[0mnet_inputs\u001b[0m\u001b[0;34m[\u001b[0m\u001b[0mi\u001b[0m\u001b[0;34m]\u001b[0m\u001b[0;34m]\u001b[0m \u001b[0;34m=\u001b[0m \u001b[0mx\u001b[0m\u001b[0;34m\u001b[0m\u001b[0m\n\u001b[0m\u001b[1;32m    284\u001b[0m         \u001b[0;32melse\u001b[0m\u001b[0;34m:\u001b[0m\u001b[0;34m\u001b[0m\u001b[0m\n\u001b[1;32m    285\u001b[0m             \u001b[0;31m# If a dict is provided\u001b[0m\u001b[0;34m\u001b[0m\u001b[0;34m\u001b[0m\u001b[0m\n",
            "\u001b[0;31mIndexError\u001b[0m: list index out of range"
          ]
        }
      ]
    },
    {
      "metadata": {
        "id": "XoXRZ3_F3xEH",
        "colab_type": "text"
      },
      "cell_type": "markdown",
      "source": [
        "Download this notebook and upload it to your branch on the class github. "
      ]
    },
    {
      "metadata": {
        "id": "M2-sxxivAPSI",
        "colab_type": "code",
        "colab": {}
      },
      "cell_type": "code",
      "source": [
        ""
      ],
      "execution_count": 0,
      "outputs": []
    }
  ]
}