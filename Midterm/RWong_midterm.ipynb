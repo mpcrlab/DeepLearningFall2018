{
  "nbformat": 4,
  "nbformat_minor": 0,
  "metadata": {
    "colab": {
      "name": "midterm.ipynb",
      "version": "0.3.2",
      "provenance": [],
      "collapsed_sections": []
    },
    "kernelspec": {
      "name": "python3",
      "display_name": "Python 3"
    }
  },
  "cells": [
    {
      "metadata": {
        "id": "iNSpjYmX5mWf",
        "colab_type": "text"
      },
      "cell_type": "markdown",
      "source": [
        "## Short Answer  \n",
        "Please answer each of the following questions with **at least 2-3 complete sentences**. "
      ]
    },
    {
      "metadata": {
        "id": "MGyFLxgs51Xf",
        "colab_type": "text"
      },
      "cell_type": "markdown",
      "source": [
        "1. Why do we use a validation dataset during training, and what can the performance between the validation dataset and the training set tell us?"
      ]
    },
    {
      "metadata": {
        "id": "93wCMCDY683i",
        "colab_type": "text"
      },
      "cell_type": "markdown",
      "source": [
        "Data validation is vital to ensure the data is clean, correct and useful. This is crucial because the validated dataset can then be trusted and used to make informed decisions and decisive actions."
      ]
    },
    {
      "metadata": {
        "id": "re5eTNQr6Fxd",
        "colab_type": "text"
      },
      "cell_type": "markdown",
      "source": [
        "2. What is the major difference between a fully-connected layer and a convolutional layer in terms of the scale of patterns they look for in their input?"
      ]
    },
    {
      "metadata": {
        "id": "DX2PcLVw-xDY",
        "colab_type": "text"
      },
      "cell_type": "markdown",
      "source": [
        " A fully connected layer takes single neurons and classifies the data into various classes. Convolutional layers consist of a grid of neurons scanning the input images."
      ]
    },
    {
      "metadata": {
        "id": "zG152jCS-U8u",
        "colab_type": "text"
      },
      "cell_type": "markdown",
      "source": [
        "3. If you performed 128 convolutions with filter size 3x3 and a stride of 1 on an input that is 100x100x64 and padded the inputs, what would the output shape be of this layer? "
      ]
    },
    {
      "metadata": {
        "id": "OM512xe169UB",
        "colab_type": "text"
      },
      "cell_type": "markdown",
      "source": [
        "100 x 100 x 64"
      ]
    },
    {
      "metadata": {
        "id": "lwAfXXVftxha",
        "colab_type": "text"
      },
      "cell_type": "markdown",
      "source": [
        "4. Matrix A has a shape of 250x200 and matrix B has a shape of 250x100. Can you perform a matrix multiplication between A and B in that order without performing any other operations first (True or False)?"
      ]
    },
    {
      "metadata": {
        "id": "bltfeNcwuQLY",
        "colab_type": "text"
      },
      "cell_type": "markdown",
      "source": [
        "False"
      ]
    },
    {
      "metadata": {
        "id": "Hu5inws1uR1q",
        "colab_type": "text"
      },
      "cell_type": "markdown",
      "source": [
        "5. Matrix A has a shape of 3x5 and matrix B has a shape of 3x5. Can these two matrices be added together elementwise (True or False)?"
      ]
    },
    {
      "metadata": {
        "id": "B3vs5FZzuif4",
        "colab_type": "text"
      },
      "cell_type": "markdown",
      "source": [
        "True"
      ]
    },
    {
      "metadata": {
        "id": "pUYm9hVr20YC",
        "colab_type": "code",
        "colab": {}
      },
      "cell_type": "code",
      "source": [
        "try:\n",
        "  import tflearn\n",
        "except ImportError:\n",
        "  !pip3 install -q tflearn\n",
        "  import tflearn"
      ],
      "execution_count": 0,
      "outputs": []
    },
    {
      "metadata": {
        "id": "ZpyYpjZ22-l2",
        "colab_type": "code",
        "colab": {}
      },
      "cell_type": "code",
      "source": [
        "import numpy as np\n",
        "import os\n",
        "from google.colab import drive\n",
        "from tflearn.layers.core import input_data, dropout, fully_connected\n",
        "from tflearn.layers.conv import conv_2d\n",
        "from tflearn.activations import relu\n",
        "from tflearn.layers.normalization import batch_normalization as batch_norm\n",
        "from tflearn.layers.estimator import regression\n",
        "from tflearn.data_utils import to_categorical\n",
        "import tensorflow as tf\n",
        "import matplotlib.pyplot as plt"
      ],
      "execution_count": 0,
      "outputs": []
    },
    {
      "metadata": {
        "id": "P2Y1rXO-ul0Z",
        "colab_type": "text"
      },
      "cell_type": "markdown",
      "source": [
        "In the line below, create a matrix full of zeros with 90 rows and 50 columns. Then print the row with index 5 in this matrix."
      ]
    },
    {
      "metadata": {
        "id": "Up_hy6TTuyN-",
        "colab_type": "code",
        "colab": {}
      },
      "cell_type": "code",
      "source": [
        "matrix_filter1 = np.zeros([90, 50])"
      ],
      "execution_count": 0,
      "outputs": []
    },
    {
      "metadata": {
        "id": "tmoJU_Bi3bv6",
        "colab_type": "code",
        "colab": {}
      },
      "cell_type": "code",
      "source": [
        "# load in the flowers dataset\n",
        "import tflearn.datasets.oxflower17 as oxflower17\n",
        "X, Y = oxflower17.load_data(one_hot=True, resize_pics=(100, 100))"
      ],
      "execution_count": 0,
      "outputs": []
    },
    {
      "metadata": {
        "id": "WR6dvrEH7vEr",
        "colab_type": "text"
      },
      "cell_type": "markdown",
      "source": [
        "In the line below, print the shapes of the data and labels. These shapes will help you later when defining the network."
      ]
    },
    {
      "metadata": {
        "id": "8ObkCv7i7sph",
        "colab_type": "code",
        "colab": {
          "base_uri": "https://localhost:8080/",
          "height": 51
        },
        "outputId": "1d78333a-335d-4781-a871-8e2204cae686"
      },
      "cell_type": "code",
      "source": [
        "print(X.shape)\n",
        "print(Y.shape)"
      ],
      "execution_count": 5,
      "outputs": [
        {
          "output_type": "stream",
          "text": [
            "(1360, 100, 100, 3)\n",
            "(1360, 17)\n"
          ],
          "name": "stdout"
        }
      ]
    },
    {
      "metadata": {
        "id": "XRI4GaK9_eDc",
        "colab_type": "text"
      },
      "cell_type": "markdown",
      "source": [
        "Below, show the image with index 500 in the dataset X."
      ]
    },
    {
      "metadata": {
        "id": "O3BT8Hbl_znT",
        "colab_type": "code",
        "colab": {
          "base_uri": "https://localhost:8080/",
          "height": 349
        },
        "outputId": "454b8863-7b08-41df-ac48-0aff1cdb957d"
      },
      "cell_type": "code",
      "source": [
        "plt.imshow(X[500, ...])\n",
        "plt.grid(False)"
      ],
      "execution_count": 6,
      "outputs": [
        {
          "output_type": "display_data",
          "data": {
            "image/png": "[encoded data removed]",
            "text/plain": [
              "<matplotlib.figure.Figure at 0x7fcbf00d3630>"
            ]
          },
          "metadata": {
            "tags": []
          }
        }
      ]
    },
    {
      "metadata": {
        "id": "PnVAUvxq_2vc",
        "colab_type": "text"
      },
      "cell_type": "markdown",
      "source": [
        "In the line below, plot a histogram of X using an appropriate number of bins."
      ]
    },
    {
      "metadata": {
        "id": "VC0eiuhP_-jE",
        "colab_type": "code",
        "colab": {
          "base_uri": "https://localhost:8080/",
          "height": 568
        },
        "outputId": "02c3e43d-077e-412a-a683-bf934cfcc293"
      },
      "cell_type": "code",
      "source": [
        "plt.hist(X.flatten(), bins=30)"
      ],
      "execution_count": 7,
      "outputs": [
        {
          "output_type": "execute_result",
          "data": {
            "text/plain": [
              "(array([2713461., 2078823., 2299271., 2019997., 2242501., 1960605.,\n",
              "        2121790., 1812629., 1968721., 1656968., 1766220., 1488864.,\n",
              "        1581689., 1309614., 1357210., 1114208., 1174547.,  987113.,\n",
              "        1045965.,  890057.,  964791.,  820053.,  871080.,  742259.,\n",
              "         798549.,  655609.,  666629.,  510483.,  530715.,  649579.]),\n",
              " array([0.        , 0.03333333, 0.06666667, 0.1       , 0.13333333,\n",
              "        0.16666667, 0.2       , 0.23333333, 0.26666667, 0.3       ,\n",
              "        0.33333333, 0.36666667, 0.4       , 0.43333333, 0.46666667,\n",
              "        0.5       , 0.53333333, 0.56666667, 0.6       , 0.63333333,\n",
              "        0.66666667, 0.7       , 0.73333333, 0.76666667, 0.8       ,\n",
              "        0.83333333, 0.86666667, 0.9       , 0.93333333, 0.96666667,\n",
              "        1.        ]),\n",
              " <a list of 30 Patch objects>)"
            ]
          },
          "metadata": {
            "tags": []
          },
          "execution_count": 7
        },
        {
          "output_type": "display_data",
          "data": {
            "image/png": "[encoded data removed]",
            "text/plain": [
              "<matplotlib.figure.Figure at 0x7fcbef88c7f0>"
            ]
          },
          "metadata": {
            "tags": []
          }
        }
      ]
    },
    {
      "metadata": {
        "id": "SjCcP-6L7y8p",
        "colab_type": "text"
      },
      "cell_type": "markdown",
      "source": [
        "In the line below, normalize the images by subtracting the mean and dividing by the standard deviation of every pixel. "
      ]
    },
    {
      "metadata": {
        "id": "0U-KUqry8Cac",
        "colab_type": "code",
        "colab": {}
      },
      "cell_type": "code",
      "source": [
        "X -= np.mean(X, 0)\n",
        "X /=np.std(X, 0)"
      ],
      "execution_count": 0,
      "outputs": []
    },
    {
      "metadata": {
        "id": "nTEjVMFZ8DOx",
        "colab_type": "text"
      },
      "cell_type": "markdown",
      "source": [
        "You will now create a convolutional neural network to predict the flower species from the images. In the line below, create an input layer for the network based on the shape of the images. "
      ]
    },
    {
      "metadata": {
        "id": "sQthDsKE8LxC",
        "colab_type": "code",
        "colab": {}
      },
      "cell_type": "code",
      "source": [
        "tf.reset_default_graph()\n",
        "input_layer = input_data([None, 100, 100, 3])"
      ],
      "execution_count": 0,
      "outputs": []
    },
    {
      "metadata": {
        "id": "3CfNKx5x8TxX",
        "colab_type": "text"
      },
      "cell_type": "markdown",
      "source": [
        "In the line below, finish the line and create a convolutional layer to take in the input layer and slide 64 filters with shape 7x7 around it using the relu activation function. You might find the documentation for the conv_2d function helpful: http://tflearn.org/layers/conv/"
      ]
    },
    {
      "metadata": {
        "id": "zRbpB5md8yxk",
        "colab_type": "code",
        "colab": {
          "base_uri": "https://localhost:8080/",
          "height": 88
        },
        "outputId": "15e396e5-0eab-4a20-98da-3f434b4b77fb"
      },
      "cell_type": "code",
      "source": [
        "conv1 = conv_2d(input_layer, 64, 7, activation='linear')\n",
        "batch_norm1 = batch_norm(conv1)\n",
        "relu1 = relu(batch_norm1)"
      ],
      "execution_count": 10,
      "outputs": [
        {
          "output_type": "stream",
          "text": [
            "WARNING:tensorflow:From /usr/local/lib/python3.6/dist-packages/tflearn/initializations.py:119: UniformUnitScaling.__init__ (from tensorflow.python.ops.init_ops) is deprecated and will be removed in a future version.\n",
            "Instructions for updating:\n",
            "Use tf.initializers.variance_scaling instead with distribution=uniform to get equivalent behavior.\n"
          ],
          "name": "stdout"
        }
      ]
    },
    {
      "metadata": {
        "id": "43kfwW7Y8zM5",
        "colab_type": "text"
      },
      "cell_type": "markdown",
      "source": [
        "In the line below, I have created a second convolutional layer which will take in the first convolutional layer's feature maps as input. Write a comment to indicate 1) how many filters this layer has, 2) what the filter size is, and 3) what the height and width of each output feature map should be based on the stride."
      ]
    },
    {
      "metadata": {
        "id": "x_X6B8rf9hGu",
        "colab_type": "code",
        "colab": {}
      },
      "cell_type": "code",
      "source": [
        "# 128 filters\n",
        "# 3 by 3 filter size\n",
        "# 128 by 3 by 3 output feature map\n",
        "conv2 = conv_2d(conv1, 128, 3, activation='relu', strides=4)"
      ],
      "execution_count": 0,
      "outputs": []
    },
    {
      "metadata": {
        "id": "Xx7Fj-5_94ud",
        "colab_type": "text"
      },
      "cell_type": "markdown",
      "source": [
        "In the line below, replace the question marks with appropriate values, keeping in mind this will be the output layer of the network."
      ]
    },
    {
      "metadata": {
        "id": "R53S9-Eh93dM",
        "colab_type": "code",
        "colab": {}
      },
      "cell_type": "code",
      "source": [
        "output_layer = fully_connected(conv2, 17, activation='softmax')"
      ],
      "execution_count": 0,
      "outputs": []
    },
    {
      "metadata": {
        "id": "JPTFKggu-as_",
        "colab_type": "text"
      },
      "cell_type": "markdown",
      "source": [
        "In the line below, remove the question mark and replace it with an appropriate value for the learning rate."
      ]
    },
    {
      "metadata": {
        "id": "Ci_ibCK7-OBO",
        "colab_type": "code",
        "outputId": "ce814820-6c8b-469e-fdca-a0fe7ef8d979",
        "colab": {
          "base_uri": "https://localhost:8080/",
          "height": 88
        }
      },
      "cell_type": "code",
      "source": [
        "opt = regression(output_layer, optimizer='adam', learning_rate=0.0001, loss='categorical_crossentropy')"
      ],
      "execution_count": 13,
      "outputs": [
        {
          "output_type": "stream",
          "text": [
            "WARNING:tensorflow:From /usr/local/lib/python3.6/dist-packages/tflearn/objectives.py:66: calling reduce_sum (from tensorflow.python.ops.math_ops) with keep_dims is deprecated and will be removed in a future version.\n",
            "Instructions for updating:\n",
            "keep_dims is deprecated, use keepdims instead\n"
          ],
          "name": "stdout"
        }
      ]
    },
    {
      "metadata": {
        "id": "llDk0Kp2-gRZ",
        "colab_type": "text"
      },
      "cell_type": "markdown",
      "source": [
        "You don't need to do anything for the line below. "
      ]
    },
    {
      "metadata": {
        "id": "zGl3WLoy-kvY",
        "colab_type": "code",
        "colab": {}
      },
      "cell_type": "code",
      "source": [
        "model = tflearn.DNN(opt)"
      ],
      "execution_count": 0,
      "outputs": []
    },
    {
      "metadata": {
        "id": "2xOQFvu7-n7d",
        "colab_type": "text"
      },
      "cell_type": "markdown",
      "source": [
        "In the line below, replace each question mark with appropriate values and write a comment next to each line describing what it does (you only need to comment the lines I write *comment here* after.)."
      ]
    },
    {
      "metadata": {
        "id": "wrdtg6fM-urv",
        "colab_type": "code",
        "colab": {
          "base_uri": "https://localhost:8080/",
          "height": 122
        },
        "outputId": "cf61a0f1-5d73-46b6-b9c0-54d1647a9b35"
      },
      "cell_type": "code",
      "source": [
        "model.fit(X, # input images for training\n",
        "          Y, # desired labels for each training input image\n",
        "          validation_set=0.1, # validation images and their corresponding labels\n",
        "          show_metric=True, \n",
        "          n_epoch=10,  # number of times to go through the whole dataset in increments of batch_size\n",
        "          batch_size=75,  # how many images to send to network each training iteration\n",
        "          snapshot_step=200)"
      ],
      "execution_count": 15,
      "outputs": [
        {
          "output_type": "stream",
          "text": [
            "Training Step: 169  | total loss: \u001b[1m\u001b[32m0.21102\u001b[0m\u001b[0m | time: 76.930s\n",
            "| Adam | epoch: 010 | loss: 0.21102 - acc: 0.9834 -- iter: 1200/1224\n",
            "Training Step: 170  | total loss: \u001b[1m\u001b[32m0.19221\u001b[0m\u001b[0m | time: 86.068s\n",
            "| Adam | epoch: 010 | loss: 0.19221 - acc: 0.9850 | val_loss: 1.95892 - val_acc: 0.4926 -- iter: 1224/1224\n",
            "--\n"
          ],
          "name": "stdout"
        }
      ]
    },
    {
      "metadata": {
        "id": "XoXRZ3_F3xEH",
        "colab_type": "text"
      },
      "cell_type": "markdown",
      "source": [
        "Download this notebook and upload it to your branch on the class github. "
      ]
    },
    {
      "metadata": {
        "id": "M2-sxxivAPSI",
        "colab_type": "code",
        "colab": {}
      },
      "cell_type": "code",
      "source": [
        ""
      ],
      "execution_count": 0,
      "outputs": []
    }
  ]
}