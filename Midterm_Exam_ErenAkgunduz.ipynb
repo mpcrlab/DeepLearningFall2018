{
  "nbformat": 4,
  "nbformat_minor": 0,
  "metadata": {
    "colab": {
      "name": "Midterm_Exam_ErenAkgunduz.ipynb",
      "version": "0.3.2",
      "provenance": [],
      "collapsed_sections": []
    },
    "kernelspec": {
      "name": "python3",
      "display_name": "Python 3"
    },
    "accelerator": "GPU"
  },
  "cells": [
    {
      "metadata": {
        "id": "iNSpjYmX5mWf",
        "colab_type": "text"
      },
      "cell_type": "markdown",
      "source": [
        "## Short Answer  \n",
        "Please answer each of the following questions with **at least 2-3 complete sentences**. "
      ]
    },
    {
      "metadata": {
        "id": "MGyFLxgs51Xf",
        "colab_type": "text"
      },
      "cell_type": "markdown",
      "source": [
        "1. Why do we use a validation dataset during training, and what can the performance between the validation dataset and the training set tell us?"
      ]
    },
    {
      "metadata": {
        "id": "93wCMCDY683i",
        "colab_type": "text"
      },
      "cell_type": "markdown",
      "source": [
        "The validation dataset allows for a frame of reference to determine a successful performance with the training set. Comparisons between the two enables you to proceed with the training set that aligned the best with the standard set by the validation dataset into testing on random, real-world data."
      ]
    },
    {
      "metadata": {
        "id": "re5eTNQr6Fxd",
        "colab_type": "text"
      },
      "cell_type": "markdown",
      "source": [
        "2. What is the major difference between a fully-connected layer and a convolutional layer in terms of the scale of patterns they look for in their input?"
      ]
    },
    {
      "metadata": {
        "id": "DX2PcLVw-xDY",
        "colab_type": "text"
      },
      "cell_type": "markdown",
      "source": [
        "Fully connected neural networks need to learn occurences of a pattern separately and independently each time. By contrast, convolutional neural networks use weight sharing and pooling to detect recurring patterns regardless of the location where it is iterated. This allows CNNs to be more efficient with analyzing images and defining them with labels."
      ]
    },
    {
      "metadata": {
        "id": "zG152jCS-U8u",
        "colab_type": "text"
      },
      "cell_type": "markdown",
      "source": [
        "3. If you performed 128 convolutions with filter size 3x3 and a stride of 1 on an input that is 100x100x64 and padded the inputs, what would the output shape be of this layer? "
      ]
    },
    {
      "metadata": {
        "id": "OM512xe169UB",
        "colab_type": "text"
      },
      "cell_type": "markdown",
      "source": [
        ""
      ]
    },
    {
      "metadata": {
        "id": "lwAfXXVftxha",
        "colab_type": "text"
      },
      "cell_type": "markdown",
      "source": [
        "4. Matrix A has a shape of 250x200 and matrix B has a shape of 250x100. Can you perform a matrix multiplication between A and B in that order without performing any other operations first (True or False)?"
      ]
    },
    {
      "metadata": {
        "id": "bltfeNcwuQLY",
        "colab_type": "text"
      },
      "cell_type": "markdown",
      "source": [
        "False – you can not multiply these matrices yet. In order to do so, the number of columns in matrix A must be the same as the number of rows in matrix B. This can be achieved by transposing matrix A so that the shape of the elements in terms of number of rows and columns is flipped – this transposed matrix A will have 250 columns that can be multiplied with matrix B's 250 rows."
      ]
    },
    {
      "metadata": {
        "id": "Hu5inws1uR1q",
        "colab_type": "text"
      },
      "cell_type": "markdown",
      "source": [
        "5. Matrix A has a shape of 3x5 and matrix B has a shape of 3x5. Can these two matrices be added together elementwise (True or False)?"
      ]
    },
    {
      "metadata": {
        "id": "B3vs5FZzuif4",
        "colab_type": "text"
      },
      "cell_type": "markdown",
      "source": [
        "True – these matrices can be added together elementwise. This is because they have the same shape. Addition and subtraction element-by-element for all elements of both matrices is only possible when they both have exactly the same shape, such as matrix A and matrix B in this case."
      ]
    },
    {
      "metadata": {
        "id": "pUYm9hVr20YC",
        "colab_type": "code",
        "colab": {}
      },
      "cell_type": "code",
      "source": [
        "try:\n",
        "  import tflearn\n",
        "except ImportError:\n",
        "  !pip3 install -q tflearn\n",
        "  import tflearn"
      ],
      "execution_count": 0,
      "outputs": []
    },
    {
      "metadata": {
        "id": "ZpyYpjZ22-l2",
        "colab_type": "code",
        "colab": {}
      },
      "cell_type": "code",
      "source": [
        "import numpy as np\n",
        "import os\n",
        "from google.colab import drive\n",
        "from tflearn.layers.core import input_data, dropout, fully_connected\n",
        "from tflearn.layers.conv import conv_2d\n",
        "from tflearn.activations import relu\n",
        "from tflearn.layers.normalization import batch_normalization as bn\n",
        "from tflearn.layers.estimator import regression\n",
        "from tflearn.data_utils import to_categorical\n",
        "import matplotlib.pyplot as plt"
      ],
      "execution_count": 0,
      "outputs": []
    },
    {
      "metadata": {
        "id": "P2Y1rXO-ul0Z",
        "colab_type": "text"
      },
      "cell_type": "markdown",
      "source": [
        "In the line below, create a matrix full of zeros with 90 rows and 50 columns. Then print the row with index 5 in this matrix."
      ]
    },
    {
      "metadata": {
        "id": "Up_hy6TTuyN-",
        "colab_type": "code",
        "colab": {
          "base_uri": "https://localhost:8080/",
          "height": 68
        },
        "outputId": "1815d739-6c2d-4dff-ba53-89abed43f580"
      },
      "cell_type": "code",
      "source": [
        "a = np.zeros([90, 50])\n",
        "print(a[5])"
      ],
      "execution_count": 7,
      "outputs": [
        {
          "output_type": "stream",
          "text": [
            "[0. 0. 0. 0. 0. 0. 0. 0. 0. 0. 0. 0. 0. 0. 0. 0. 0. 0. 0. 0. 0. 0. 0. 0.\n",
            " 0. 0. 0. 0. 0. 0. 0. 0. 0. 0. 0. 0. 0. 0. 0. 0. 0. 0. 0. 0. 0. 0. 0. 0.\n",
            " 0. 0.]\n"
          ],
          "name": "stdout"
        }
      ]
    },
    {
      "metadata": {
        "id": "tmoJU_Bi3bv6",
        "colab_type": "code",
        "colab": {
          "base_uri": "https://localhost:8080/",
          "height": 119
        },
        "outputId": "02a5498a-fb0c-44b8-c1b7-ab57ef3295a8"
      },
      "cell_type": "code",
      "source": [
        "# load in the flowers dataset\n",
        "import tflearn.datasets.oxflower17 as oxflower17\n",
        "X, Y = oxflower17.load_data(one_hot=True, resize_pics=(100, 100))"
      ],
      "execution_count": 5,
      "outputs": [
        {
          "output_type": "stream",
          "text": [
            "Downloading Oxford 17 category Flower Dataset, Please wait...\n"
          ],
          "name": "stdout"
        },
        {
          "output_type": "stream",
          "text": [
            "100.0% 60276736 / 60270631\n"
          ],
          "name": "stderr"
        },
        {
          "output_type": "stream",
          "text": [
            "('Succesfully downloaded', '17flowers.tgz', 60270631, 'bytes.')\n",
            "File Extracted\n",
            "Starting to parse images...\n",
            "Parsing Done!\n"
          ],
          "name": "stdout"
        }
      ]
    },
    {
      "metadata": {
        "id": "WR6dvrEH7vEr",
        "colab_type": "text"
      },
      "cell_type": "markdown",
      "source": [
        "In the line below, print the shapes of the data and labels. These shapes will help you later when defining the network."
      ]
    },
    {
      "metadata": {
        "id": "8ObkCv7i7sph",
        "colab_type": "code",
        "colab": {
          "base_uri": "https://localhost:8080/",
          "height": 34
        },
        "outputId": "5340b0b6-d9b3-4378-89ca-fe90d53055a9"
      },
      "cell_type": "code",
      "source": [
        "print(X.shape, Y.shape)"
      ],
      "execution_count": 6,
      "outputs": [
        {
          "output_type": "stream",
          "text": [
            "(1360, 100, 100, 3) (1360, 17)\n"
          ],
          "name": "stdout"
        }
      ]
    },
    {
      "metadata": {
        "id": "XRI4GaK9_eDc",
        "colab_type": "text"
      },
      "cell_type": "markdown",
      "source": [
        "Below, show the image with index 500 in the dataset X."
      ]
    },
    {
      "metadata": {
        "id": "O3BT8Hbl_znT",
        "colab_type": "code",
        "colab": {
          "base_uri": "https://localhost:8080/",
          "height": 349
        },
        "outputId": "ef503c91-4c9f-44f2-886f-6dcb449033f7"
      },
      "cell_type": "code",
      "source": [
        "image = X[500, ...]\n",
        "plt.imshow(image)\n",
        "plt.show()"
      ],
      "execution_count": 8,
      "outputs": [
        {
          "output_type": "display_data",
          "data": {
            "image/png": "[encoded data removed]",
            "text/plain": [
              "<matplotlib.figure.Figure at 0x7f97c25ae5c0>"
            ]
          },
          "metadata": {
            "tags": []
          }
        }
      ]
    },
    {
      "metadata": {
        "id": "PnVAUvxq_2vc",
        "colab_type": "text"
      },
      "cell_type": "markdown",
      "source": [
        "In the line below, plot a histogram of X using an appropriate number of bins."
      ]
    },
    {
      "metadata": {
        "id": "VC0eiuhP_-jE",
        "colab_type": "code",
        "colab": {
          "base_uri": "https://localhost:8080/",
          "height": 466
        },
        "outputId": "2136f3e0-4620-4f62-c34f-d54ef72789b7"
      },
      "cell_type": "code",
      "source": [
        "plt.hist(X[:, 0, 0], bins=10)"
      ],
      "execution_count": 52,
      "outputs": [
        {
          "output_type": "execute_result",
          "data": {
            "text/plain": [
              "([array([194., 261., 242., 211., 157., 118.,  75.,  46.,  19.,  37.]),\n",
              "  array([205., 236., 207., 227., 199., 114.,  76.,  38.,  26.,  32.]),\n",
              "  array([ 90., 380., 266., 226., 133.,  99.,  54.,  35.,  23.,  54.])],\n",
              " array([-1.50624454, -1.05685717, -0.6074698 , -0.15808243,  0.29130495,\n",
              "         0.74069232,  1.19007969,  1.63946706,  2.08885443,  2.5382418 ,\n",
              "         2.98762918]),\n",
              " <a list of 3 Lists of Patches objects>)"
            ]
          },
          "metadata": {
            "tags": []
          },
          "execution_count": 52
        },
        {
          "output_type": "display_data",
          "data": {
            "image/png": "[encoded data removed]",
            "text/plain": [
              "<matplotlib.figure.Figure at 0x7f97bf619c50>"
            ]
          },
          "metadata": {
            "tags": []
          }
        }
      ]
    },
    {
      "metadata": {
        "id": "SjCcP-6L7y8p",
        "colab_type": "text"
      },
      "cell_type": "markdown",
      "source": [
        "In the line below, normalize the images by subtracting the mean and dividing by the standard deviation of every pixel. "
      ]
    },
    {
      "metadata": {
        "id": "dWyowpKnA5a5",
        "colab_type": "code",
        "colab": {}
      },
      "cell_type": "code",
      "source": [
        "X -= np.mean(X, 0)\n",
        "X /= np.std(X, 0)"
      ],
      "execution_count": 0,
      "outputs": []
    },
    {
      "metadata": {
        "id": "nTEjVMFZ8DOx",
        "colab_type": "text"
      },
      "cell_type": "markdown",
      "source": [
        "You will now create a convolutional neural network to predict the flower species from the images. In the line below, create an input layer for the network based on the shape of the images. "
      ]
    },
    {
      "metadata": {
        "id": "sQthDsKE8LxC",
        "colab_type": "code",
        "colab": {}
      },
      "cell_type": "code",
      "source": [
        "input_layer = tflearn.input_data([None, 100, 100, 3])"
      ],
      "execution_count": 0,
      "outputs": []
    },
    {
      "metadata": {
        "id": "3CfNKx5x8TxX",
        "colab_type": "text"
      },
      "cell_type": "markdown",
      "source": [
        "In the line below, finish the line and create a convolutional layer to take in the input layer and slide 64 filters with shape 7x7 around it using the relu activation function. You might find the documentation for the conv_2d function helpful: http://tflearn.org/layers/conv/"
      ]
    },
    {
      "metadata": {
        "id": "zRbpB5md8yxk",
        "colab_type": "code",
        "colab": {}
      },
      "cell_type": "code",
      "source": [
        "conv1 = conv_2d(input_layer, 64, 7, activation='relu')"
      ],
      "execution_count": 0,
      "outputs": []
    },
    {
      "metadata": {
        "id": "43kfwW7Y8zM5",
        "colab_type": "text"
      },
      "cell_type": "markdown",
      "source": [
        "In the line below, I have created a second convolutional layer which will take in the first convolutional layer's feature maps as input. Write a comment to indicate 1) how many filters this layer has, 2) what the filter size is, and 3) what the height and width of each output feature map should be based on the stride."
      ]
    },
    {
      "metadata": {
        "id": "x_X6B8rf9hGu",
        "colab_type": "code",
        "colab": {}
      },
      "cell_type": "code",
      "source": [
        "# 128\n",
        "# 3x3\n",
        "conv2 = conv_2d(conv1, 128, 3, activation='relu', strides=4)"
      ],
      "execution_count": 0,
      "outputs": []
    },
    {
      "metadata": {
        "id": "Xx7Fj-5_94ud",
        "colab_type": "text"
      },
      "cell_type": "markdown",
      "source": [
        "In the line below, replace the question marks with appropriate values, keeping in mind this will be the output layer of the network."
      ]
    },
    {
      "metadata": {
        "id": "R53S9-Eh93dM",
        "colab_type": "code",
        "colab": {}
      },
      "cell_type": "code",
      "source": [
        "output_layer = fully_connected(conv2, 10, activation='softmax')"
      ],
      "execution_count": 0,
      "outputs": []
    },
    {
      "metadata": {
        "id": "JPTFKggu-as_",
        "colab_type": "text"
      },
      "cell_type": "markdown",
      "source": [
        "In the line below, remove the question mark and replace it with an appropriate value for the learning rate."
      ]
    },
    {
      "metadata": {
        "id": "Ci_ibCK7-OBO",
        "colab_type": "code",
        "colab": {}
      },
      "cell_type": "code",
      "source": [
        "opt = regression(output_layer, optimizer='adam', learning_rate=0.0001, loss='categorical_crossentropy')"
      ],
      "execution_count": 0,
      "outputs": []
    },
    {
      "metadata": {
        "id": "llDk0Kp2-gRZ",
        "colab_type": "text"
      },
      "cell_type": "markdown",
      "source": [
        "You don't need to do anything for the line below. "
      ]
    },
    {
      "metadata": {
        "id": "zGl3WLoy-kvY",
        "colab_type": "code",
        "colab": {}
      },
      "cell_type": "code",
      "source": [
        "model = tflearn.DNN(opt)"
      ],
      "execution_count": 0,
      "outputs": []
    },
    {
      "metadata": {
        "id": "2xOQFvu7-n7d",
        "colab_type": "text"
      },
      "cell_type": "markdown",
      "source": [
        "In the line below, replace each question mark with appropriate values and write a comment next to each line describing what it does (you only need to comment the lines I write *comment here* after.)."
      ]
    },
    {
      "metadata": {
        "id": "AXoO22rGMege",
        "colab_type": "code",
        "colab": {}
      },
      "cell_type": "code",
      "source": [
        "model.fit(X, # data to be input\n",
        "          Y, # labels for that data\n",
        "          validation_set=0.1, # 10% will be used for validation\n",
        "          show_metric=True, \n",
        "          n_epoch=10,  # amount of times the network will go through the dataset\n",
        "          batch_size=75,  # the number of images it will send to the network in a single training session\n",
        "          snapshot_step=100)"
      ],
      "execution_count": 0,
      "outputs": []
    },
    {
      "metadata": {
        "id": "XoXRZ3_F3xEH",
        "colab_type": "text"
      },
      "cell_type": "markdown",
      "source": [
        "Download this notebook and upload it to your branch on the class github. "
      ]
    }
  ]
}