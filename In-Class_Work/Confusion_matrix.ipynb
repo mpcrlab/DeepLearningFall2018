{
  "nbformat": 4,
  "nbformat_minor": 0,
  "metadata": {
    "colab": {
      "name": "Confusion_matrix.ipynb",
      "version": "0.3.2",
      "provenance": []
    },
    "kernelspec": {
      "name": "python3",
      "display_name": "Python 3"
    }
  },
  "cells": [
    {
      "metadata": {
        "id": "IllagN22Gs_L",
        "colab_type": "code",
        "colab": {}
      },
      "cell_type": "code",
      "source": [
        "try:\n",
        "  import tflearn  # try to import tflearn\n",
        "except ImportError:\n",
        "  !pip3 install -q tflearn # install tflearn first\n",
        "  import tflearn # then import it "
      ],
      "execution_count": 0,
      "outputs": []
    },
    {
      "metadata": {
        "id": "c6xWTWJgHR-3",
        "colab_type": "code",
        "colab": {}
      },
      "cell_type": "code",
      "source": [
        "import matplotlib.pyplot as plt # used for plotting images\n",
        "import numpy as np # to do math functions\n",
        "import os, sys  # to interact with filesystem\n",
        "import tensorflow as tf  # tensorflow during training\n",
        "from tflearn.activations import relu # rectified linear activation function\n",
        "\n",
        "# normalizes data \n",
        "from tflearn.layers.normalization import batch_normalization as bn\n",
        "from scipy.misc import imread, bytescale, imresize  # image manipulation functions\n",
        "from tflearn.layers.core import input_data, dropout, fully_connected\n",
        "from tflearn.layers.conv import conv_2d, max_pool_2d, global_avg_pool\n",
        "from tflearn.layers.estimator import regression  # trainer for the network\n",
        "\n",
        "# turns scalar label into vector where appropriate class is value 1 and others 0\n",
        "from tflearn.data_utils import to_categorical  \n",
        "\n",
        "# makes new images from the ones we have by flipping them, rotating, etc.\n",
        "from tflearn.data_augmentation import ImageAugmentation\n",
        "\n",
        "# to visualize the data space\n",
        "from tensorflow.contrib.tensorboard.plugins import projector"
      ],
      "execution_count": 0,
      "outputs": []
    },
    {
      "metadata": {
        "id": "dS8-8EeJMHpU",
        "colab_type": "code",
        "outputId": "bc9e156e-ef30-429c-ed0c-a237c8ac26d9",
        "colab": {
          "base_uri": "https://localhost:8080/",
          "height": 125
        }
      },
      "cell_type": "code",
      "source": [
        "# import dataset loader from tflearn\n",
        "import tflearn.datasets.oxflower17 as oxflower17\n",
        "\n",
        "# load the data in as X and the labels in as Y\n",
        "X, Y = oxflower17.load_data(one_hot=True, resize_pics=(150, 150))"
      ],
      "execution_count": 3,
      "outputs": [
        {
          "output_type": "stream",
          "text": [
            "Downloading Oxford 17 category Flower Dataset, Please wait...\n"
          ],
          "name": "stdout"
        },
        {
          "output_type": "stream",
          "text": [
            "100.0% 60276736 / 60270631\n"
          ],
          "name": "stderr"
        },
        {
          "output_type": "stream",
          "text": [
            "('Succesfully downloaded', '17flowers.tgz', 60270631, 'bytes.')\n",
            "File Extracted\n",
            "Starting to parse images...\n",
            "Parsing Done!\n"
          ],
          "name": "stdout"
        }
      ]
    },
    {
      "metadata": {
        "id": "0CJRlACRQ2Ye",
        "colab_type": "code",
        "colab": {}
      },
      "cell_type": "code",
      "source": [
        "tf.reset_default_graph()"
      ],
      "execution_count": 0,
      "outputs": []
    },
    {
      "metadata": {
        "id": "7hH-LQfT3gC5",
        "colab_type": "code",
        "outputId": "0dc3b597-2a78-448b-da29-f2b81902cec1",
        "colab": {
          "base_uri": "https://localhost:8080/",
          "height": 91
        }
      },
      "cell_type": "code",
      "source": [
        "# tflearn documentation --- http://tflearn.org/\n",
        "\n",
        "# create input layer that takes in images and augments them as well\n",
        "in_layer = input_data(shape=[None, 150, 150, 3])\n",
        "\n",
        "# have 64, 7x7 filters slide over the input images\n",
        "conv1 = conv_2d(in_layer, 64, 7, activation='linear', name='c1')\n",
        "\n",
        "# normalize conv1 layer feature maps\n",
        "batch_norm1 = bn(conv1, name='bn1')\n",
        "\n",
        "# perform relu activation function\n",
        "relu1 = relu(batch_norm1)\n",
        "\n",
        "# max pooling \n",
        "pool1 = max_pool_2d(relu1, 3, 2)\n",
        "\n",
        "# second conv layer with 128, 3x3 filters\n",
        "conv2 = conv_2d(pool1, 128, 3, activation='linear', name='c2')\n",
        "\n",
        "# second normalization layer\n",
        "batch_norm2 = bn(conv2, name='bn2')\n",
        "\n",
        "# second relu layer\n",
        "relu2 = relu(batch_norm2)\n",
        "\n",
        "# max pooling layer 2\n",
        "pool2 = max_pool_2d(relu2, 3, 2)\n",
        "\n",
        "# conv3 layer\n",
        "conv3 = conv_2d(pool2, 256, 3, activation='linear', name='c3')\n",
        "\n",
        "# normalize c3 layer\n",
        "batch_norm3 = bn(conv3, name='bn3')\n",
        "\n",
        "# relu on normalized c3 heat maps --- num_images x 37 x 37 x 256\n",
        "relu3 = relu(batch_norm3)\n",
        "\n",
        "# take the average of each of the 256 feature maps --- num_images x 1 x 1 x 256\n",
        "gap = global_avg_pool(relu3)\n",
        "\n",
        "# output layer --- softmax turns output values into probabilities\n",
        "out_layer = fully_connected(gap, 17, activation='softmax', name='fc')"
      ],
      "execution_count": 6,
      "outputs": [
        {
          "output_type": "stream",
          "text": [
            "WARNING:tensorflow:From /usr/local/lib/python3.6/dist-packages/tflearn/initializations.py:119: UniformUnitScaling.__init__ (from tensorflow.python.ops.init_ops) is deprecated and will be removed in a future version.\n",
            "Instructions for updating:\n",
            "Use tf.initializers.variance_scaling instead with distribution=uniform to get equivalent behavior.\n"
          ],
          "name": "stdout"
        }
      ]
    },
    {
      "metadata": {
        "id": "bVwk2oE79Tg-",
        "colab_type": "code",
        "outputId": "4d708b69-1ce9-425b-cacf-dbc80b639229",
        "colab": {
          "base_uri": "https://localhost:8080/",
          "height": 91
        }
      },
      "cell_type": "code",
      "source": [
        "# describe how to optimize the network's weights\n",
        "network = regression(out_layer, optimizer='adam', \n",
        "                     loss='categorical_crossentropy', learning_rate=.001)"
      ],
      "execution_count": 7,
      "outputs": [
        {
          "output_type": "stream",
          "text": [
            "WARNING:tensorflow:From /usr/local/lib/python3.6/dist-packages/tflearn/objectives.py:66: calling reduce_sum (from tensorflow.python.ops.math_ops) with keep_dims is deprecated and will be removed in a future version.\n",
            "Instructions for updating:\n",
            "keep_dims is deprecated, use keepdims instead\n"
          ],
          "name": "stdout"
        }
      ]
    },
    {
      "metadata": {
        "id": "figxwaet9tSJ",
        "colab_type": "code",
        "colab": {}
      },
      "cell_type": "code",
      "source": [
        "# build the network based on the description above\n",
        "model = tflearn.DNN(network, tensorboard_verbose=2)"
      ],
      "execution_count": 0,
      "outputs": []
    },
    {
      "metadata": {
        "id": "i_6285AD-zVY",
        "colab_type": "code",
        "colab": {}
      },
      "cell_type": "code",
      "source": [
        "# skip if already saved and want to test it later\n",
        "model.fit(X, # input data\n",
        "          Y, # corresponding labels\n",
        "          n_epoch=50, # number of times to go through entire dataset\n",
        "          shuffle=True,   # shuffle the images each epoch\n",
        "          validation_set=0.1,  # use 10% for validation\n",
        "          show_metric=True, # show validation accuracy/loss in tensorboard\n",
        "          batch_size=50,   # go through dataset 50 examples at a time\n",
        "          run_id='OxfordFlowers_CNN')  # name that will show up on tensorboard\n",
        "model.save('flower_model_run1') # save the trained model"
      ],
      "execution_count": 0,
      "outputs": []
    },
    {
      "metadata": {
        "id": "j5TQ9dkTQ5tT",
        "colab_type": "code",
        "colab": {}
      },
      "cell_type": "code",
      "source": [
        "#model.load('flower_model_run1') # load the saved model"
      ],
      "execution_count": 0,
      "outputs": []
    },
    {
      "metadata": {
        "id": "oErK0gGyRt3m",
        "colab_type": "code",
        "colab": {}
      },
      "cell_type": "code",
      "source": [
        "num_classes = 17\n",
        "conf_mat = np.zeros([num_classes, num_classes])"
      ],
      "execution_count": 0,
      "outputs": []
    },
    {
      "metadata": {
        "id": "mqczt_VCRe0B",
        "colab_type": "code",
        "colab": {}
      },
      "cell_type": "code",
      "source": [
        "for val_sample in range(X.shape[0]): # loop through validation samples\n",
        "  x = X[val_sample, ...]  # that sample\n",
        "  y = Y[val_sample, ...] # that sample's label\n",
        "  \n",
        "  y = np.argmax(y)  # get the position of the 1 in the label vector\n",
        "  \n",
        "  output = model.predict(x[None, ...]) # have the model predict on the sample\n",
        "  \n",
        "  output = np.argmax(output) # get the class based on highest value in the output vector\n",
        "  \n",
        "  conf_mat[y, output] += 1"
      ],
      "execution_count": 0,
      "outputs": []
    },
    {
      "metadata": {
        "id": "RKj7m1T1SjTC",
        "colab_type": "code",
        "colab": {
          "base_uri": "https://localhost:8080/",
          "height": 629
        },
        "outputId": "5edf8741-dbc9-45db-eb45-c5168ba31f2d"
      },
      "cell_type": "code",
      "source": [
        "conf_mat"
      ],
      "execution_count": 12,
      "outputs": [
        {
          "output_type": "execute_result",
          "data": {
            "text/plain": [
              "array([[ 0.,  0.,  0.,  0.,  0.,  0.,  0.,  0.,  0.,  0.,  5.,  0., 69.,\n",
              "         0.,  0.,  0.,  6.],\n",
              "       [ 0.,  0.,  0.,  0.,  0.,  0.,  0.,  0.,  0.,  0., 31.,  6., 43.,\n",
              "         0.,  0.,  0.,  0.],\n",
              "       [ 0.,  0.,  0.,  0.,  0.,  0.,  0.,  0.,  0.,  0., 56.,  3., 21.,\n",
              "         0.,  0.,  0.,  0.],\n",
              "       [ 0.,  0.,  0.,  0.,  0.,  0.,  0.,  0.,  0.,  0.,  4.,  2., 65.,\n",
              "         0.,  0.,  0.,  9.],\n",
              "       [ 0.,  0.,  0.,  0.,  0.,  0.,  0.,  0.,  0.,  0.,  1.,  0., 55.,\n",
              "         0.,  0.,  0., 24.],\n",
              "       [ 0.,  0.,  0.,  0.,  0.,  1.,  0.,  0.,  0.,  0.,  2.,  2., 75.,\n",
              "         0.,  0.,  0.,  0.],\n",
              "       [ 0.,  0.,  0.,  0.,  0.,  0.,  0.,  0.,  0.,  0.,  4.,  0., 58.,\n",
              "         0.,  0.,  0., 18.],\n",
              "       [ 0.,  0.,  0.,  0.,  0.,  0.,  0.,  0.,  0.,  0., 24.,  2., 54.,\n",
              "         0.,  0.,  0.,  0.],\n",
              "       [ 0.,  0.,  0.,  0.,  0.,  0.,  0.,  0.,  0.,  0., 33.,  1., 46.,\n",
              "         0.,  0.,  0.,  0.],\n",
              "       [ 0.,  0.,  0.,  0.,  0.,  0.,  0.,  0.,  0.,  0., 17.,  1., 61.,\n",
              "         0.,  0.,  0.,  1.],\n",
              "       [ 0.,  0.,  0.,  0.,  0.,  0.,  0.,  0.,  0.,  0., 38.,  3., 39.,\n",
              "         0.,  0.,  0.,  0.],\n",
              "       [ 0.,  0.,  0.,  0.,  0.,  0.,  0.,  0.,  0.,  0., 41.,  8., 31.,\n",
              "         0.,  0.,  0.,  0.],\n",
              "       [ 0.,  0.,  0.,  0.,  0.,  0.,  0.,  0.,  0.,  0., 19.,  0., 61.,\n",
              "         0.,  0.,  0.,  0.],\n",
              "       [ 0.,  0.,  0.,  0.,  0.,  0.,  0.,  0.,  0.,  0.,  9.,  9., 59.,\n",
              "         0.,  0.,  0.,  3.],\n",
              "       [ 0.,  0.,  0.,  0.,  0.,  0.,  0.,  0.,  0.,  0.,  7.,  2., 70.,\n",
              "         0.,  0.,  0.,  1.],\n",
              "       [ 0.,  0.,  0.,  0.,  0.,  0.,  0.,  0.,  0.,  0., 20.,  0., 60.,\n",
              "         0.,  0.,  0.,  0.],\n",
              "       [ 0.,  0.,  0.,  0.,  0.,  0.,  0.,  0.,  0.,  0.,  2.,  0., 70.,\n",
              "         0.,  0.,  0.,  8.]])"
            ]
          },
          "metadata": {
            "tags": []
          },
          "execution_count": 12
        }
      ]
    },
    {
      "metadata": {
        "id": "Jlw_GPcRS9cR",
        "colab_type": "code",
        "colab": {
          "base_uri": "https://localhost:8080/",
          "height": 361
        },
        "outputId": "84205c23-5185-4c36-80f5-faa9df5e224c"
      },
      "cell_type": "code",
      "source": [
        "plt.imshow(conf_mat, cmap='gray')\n",
        "plt.grid(False)\n",
        "plt.ylabel('Actual Label')\n",
        "plt.xlabel('Predicted Label')\n",
        "plt.show()"
      ],
      "execution_count": 15,
      "outputs": [
        {
          "output_type": "display_data",
          "data": {
            "image/png": "[encoded data removed]",
            "text/plain": [
              "<matplotlib.figure.Figure at 0x7f39c0f452b0>"
            ]
          },
          "metadata": {
            "tags": []
          }
        }
      ]
    },
    {
      "metadata": {
        "id": "5fix5o-vTD9B",
        "colab_type": "code",
        "colab": {}
      },
      "cell_type": "code",
      "source": [
        ""
      ],
      "execution_count": 0,
      "outputs": []
    }
  ]
}