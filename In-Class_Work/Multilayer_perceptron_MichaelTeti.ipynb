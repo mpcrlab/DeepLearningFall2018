{
  "nbformat": 4,
  "nbformat_minor": 0,
  "metadata": {
    "colab": {
      "name": "Multilayer_perceptron_MichaelTeti.ipynb",
      "version": "0.3.2",
      "provenance": [],
      "private_outputs": true,
      "collapsed_sections": []
    },
    "kernelspec": {
      "name": "python3",
      "display_name": "Python 3"
    },
    "accelerator": "GPU"
  },
  "cells": [
    {
      "metadata": {
        "id": "gSNtavBg_tcl",
        "colab_type": "code",
        "colab": {}
      },
      "cell_type": "code",
      "source": [
        "import tensorflow as tf # import tensorflow\n",
        "from tensorflow.contrib.tensorboard.plugins import projector # used to visualize data\n",
        "import datetime \n",
        "import numpy as np  # used for math operations\n",
        "from scipy.misc import bytescale\n",
        "import matplotlib.pyplot as plt # used to plot\n",
        "import os # used to perform operations within the operating system"
      ],
      "execution_count": 0,
      "outputs": []
    },
    {
      "metadata": {
        "id": "DkHaFRCPBIxY",
        "colab_type": "code",
        "colab": {}
      },
      "cell_type": "code",
      "source": [
        "!pip3 install -q tflearn # install tflearn\n",
        "import tflearn"
      ],
      "execution_count": 0,
      "outputs": []
    },
    {
      "metadata": {
        "id": "QWsMvFhI76si",
        "colab_type": "code",
        "colab": {}
      },
      "cell_type": "code",
      "source": [
        "from google.colab import drive \n",
        "drive.mount('/content/drive') # mount drive"
      ],
      "execution_count": 0,
      "outputs": []
    },
    {
      "metadata": {
        "id": "0PIcRIrTAK71",
        "colab_type": "code",
        "colab": {}
      },
      "cell_type": "code",
      "source": [
        "# navigate to the class folder you made in your Google Drive\n",
        "# navigate to drive/My Drive/Data_Science_and_Deep_Learning for Max Planck class\n",
        "os.chdir('drive/My Drive/DeepLearningFall2018')"
      ],
      "execution_count": 0,
      "outputs": []
    },
    {
      "metadata": {
        "id": "vkhW-CubAakB",
        "colab_type": "code",
        "colab": {}
      },
      "cell_type": "code",
      "source": [
        "# see what is in this directory\n",
        "os.listdir()"
      ],
      "execution_count": 0,
      "outputs": []
    },
    {
      "metadata": {
        "id": "Ka0Y_wfdBiyb",
        "colab_type": "code",
        "colab": {}
      },
      "cell_type": "code",
      "source": [
        "# load in mnist dataset through tflearn\n",
        "import tflearn.datasets.mnist as mnist # import dataset\n",
        "X, Y, testX, testY = mnist.load_data(one_hot=True) # load in training and testing sets"
      ],
      "execution_count": 0,
      "outputs": []
    },
    {
      "metadata": {
        "id": "mgpdGg8oC9Zt",
        "colab_type": "code",
        "colab": {}
      },
      "cell_type": "code",
      "source": [
        "# print the shapes of training and testing sets\n",
        "print(X.shape, Y.shape, testX.shape, testY.shape)"
      ],
      "execution_count": 0,
      "outputs": []
    },
    {
      "metadata": {
        "id": "d6j_IQH3DPLW",
        "colab_type": "code",
        "colab": {}
      },
      "cell_type": "code",
      "source": [
        "print(Y[:10, ...]) # print the first 10 labels - value of 1 in appropriate spot for that image"
      ],
      "execution_count": 0,
      "outputs": []
    },
    {
      "metadata": {
        "id": "Lbw10YinELcf",
        "colab_type": "code",
        "colab": {}
      },
      "cell_type": "code",
      "source": [
        "# change the background to white and number to black\n",
        "X, testX = 1. - X, 1. - testX"
      ],
      "execution_count": 0,
      "outputs": []
    },
    {
      "metadata": {
        "id": "PxItPGbSE8v9",
        "colab_type": "code",
        "colab": {}
      },
      "cell_type": "code",
      "source": [
        "def montage(x, return_grid=False):\n",
        "  '''Function that takes in a 2D tensor of images x\n",
        "     with shape n x d, where n is the number of images\n",
        "     and d is the number of pixels, and puts them \n",
        "     together as a single image.'''\n",
        "  \n",
        "  num = int(np.sqrt(x.shape[0]))\n",
        "  m = int(np.ceil(np.sqrt(x.shape[1])))\n",
        "  n = m\n",
        "  grid = np.zeros([num*m, num*n])\n",
        "  \n",
        "  for i in range(num):\n",
        "    for j in range(num):\n",
        "      grid[i*m:i*m+m, j*n:j*n+n] = bytescale(x[i*num+j, ...].reshape([28, 28]))\n",
        "      \n",
        "  if return_grid:\n",
        "    return grid\n",
        "      \n",
        "  fig = plt.figure(figsize=(15, 15))\n",
        "  a1 = fig.add_subplot(111)\n",
        "  a1.imshow(grid)\n",
        "  a1.grid(False)\n",
        "  plt.show()\n",
        "  return "
      ],
      "execution_count": 0,
      "outputs": []
    },
    {
      "metadata": {
        "id": "ASZYpKvDF8j-",
        "colab_type": "code",
        "colab": {}
      },
      "cell_type": "code",
      "source": [
        "montage(X[:500, :])"
      ],
      "execution_count": 0,
      "outputs": []
    },
    {
      "metadata": {
        "id": "Oaf_-AmbGs8l",
        "colab_type": "code",
        "colab": {}
      },
      "cell_type": "code",
      "source": [
        "# plot a histogram of the values of the first 1000 images\n",
        "plt.hist(X[:1000, :].flatten(), bins=10)\n",
        "plt.show()"
      ],
      "execution_count": 0,
      "outputs": []
    },
    {
      "metadata": {
        "id": "3NvHmImdIEFd",
        "colab_type": "code",
        "colab": {}
      },
      "cell_type": "code",
      "source": [
        "mean = np.mean(X, 0) # take the mean of each pixel in the training set\n",
        "X -= mean  # center pixel values of training set around 0"
      ],
      "execution_count": 0,
      "outputs": []
    },
    {
      "metadata": {
        "id": "mn87cj8gI6LP",
        "colab_type": "code",
        "colab": {}
      },
      "cell_type": "code",
      "source": [
        "# center pixel values of test set around 0\n",
        "testX -= mean"
      ],
      "execution_count": 0,
      "outputs": []
    },
    {
      "metadata": {
        "id": "ROx0zJxjJW3X",
        "colab_type": "code",
        "colab": {}
      },
      "cell_type": "code",
      "source": [
        "# plot a histogram of the values in the normalized training set\n",
        "plt.hist(X[:1000, :].flatten(), bins=10)\n",
        "plt.show()"
      ],
      "execution_count": 0,
      "outputs": []
    },
    {
      "metadata": {
        "id": "qv3U3nJYKtcw",
        "colab_type": "code",
        "colab": {}
      },
      "cell_type": "code",
      "source": [
        "montage(X[:100, :])"
      ],
      "execution_count": 0,
      "outputs": []
    },
    {
      "metadata": {
        "id": "D5XPn7Mdw4-y",
        "colab_type": "code",
        "colab": {}
      },
      "cell_type": "code",
      "source": [
        "def install_tensorboard_dep():\n",
        "  '''This function installs the necessary software to get tensorboard\n",
        "     working on colaboratory.'''\n",
        "  \n",
        "  if 'ngrok-stable-linux-amd64.zip' not in os.listdir():\n",
        "    !wget https://bin.equinox.io/c/4VmDzA7iaHb/ngrok-stable-linux-amd64.zip\n",
        "    !unzip ngrok-stable-linux-amd64.zip\n",
        "    os.system('n')\n",
        "    \n",
        "  return"
      ],
      "execution_count": 0,
      "outputs": []
    },
    {
      "metadata": {
        "id": "LL2-6uCH6JkO",
        "colab_type": "code",
        "colab": {}
      },
      "cell_type": "code",
      "source": [
        "def start_tensorboard():\n",
        "  # This function starts tensorboard so you can visualize training.\n",
        "  \n",
        "  LOG_DIR = '/tmp/tflearn_logs'\n",
        "  get_ipython().system_raw('tensorboard --logdir {} --host 0.0.0.0 --port 6006 &'.format(LOG_DIR))\n",
        "  get_ipython().system_raw('./ngrok http 6006 &')\n",
        "  ! curl -s http://localhost:4040/api/tunnels | python3 -c \\\n",
        "  \"import sys, json; print(json.load(sys.stdin)['tunnels'][0]['public_url'])\"\n",
        "  \n",
        "  return"
      ],
      "execution_count": 0,
      "outputs": []
    },
    {
      "metadata": {
        "id": "owGdvBoMxHuh",
        "colab_type": "code",
        "colab": {}
      },
      "cell_type": "code",
      "source": [
        "def viz_mnist_embedding(tensor, images, labels):\n",
        "  '''Takes in a TF variable tensor, along with images and their \n",
        "     corresponding labels and sets up the projector to \n",
        "     visualize the data space.'''\n",
        "  \n",
        "  tb_dir = '/tmp/tflearn_logs'\n",
        "  sess = tf.Session()\n",
        "  sess.run(tensor.initializer)\n",
        "  summary_writer = tf.summary.FileWriter(tb_dir)\n",
        "  config = projector.ProjectorConfig()\n",
        "  embedding = config.embeddings.add()\n",
        "  embedding.tensor_name = tensor.name\n",
        "  embedding.metadata_path = os.path.join(tb_dir, 'metadata.tsv')\n",
        "  embedding.sprite.image_path = os.path.join(tb_dir, 'mnistdigits.png') \n",
        "  embedding.sprite.single_image_dim.extend([28,28])\n",
        "  projector.visualize_embeddings(summary_writer, config)\n",
        "  saver = tf.train.Saver([tensor])\n",
        "  saver.save(sess, os.path.join(tb_dir, 'mnist_fc.ckpt'), 1)\n",
        "  \n",
        "  image_grid = montage(images, True)\n",
        "  plt.imsave(os.path.join(tb_dir, 'mnistdigits.png'), image_grid, cmap='gray')\n",
        "  \n",
        "  with open(os.path.join(tb_dir, 'metadata.tsv'),'w') as f:\n",
        "    f.write(\"Index\\tLabel\\n\")\n",
        "    for index,label in enumerate(labels):\n",
        "      f.write(\"%d\\t%d\\n\" % (index,label))\n",
        "  f.close()\n",
        "\n",
        "  return"
      ],
      "execution_count": 0,
      "outputs": []
    },
    {
      "metadata": {
        "id": "6FQqhXDkH72R",
        "colab_type": "code",
        "colab": {}
      },
      "cell_type": "code",
      "source": [
        "tf.reset_default_graph()  # reset the graph if running more than once"
      ],
      "execution_count": 0,
      "outputs": []
    },
    {
      "metadata": {
        "id": "NhRxFFreJf6f",
        "colab_type": "code",
        "colab": {}
      },
      "cell_type": "code",
      "source": [
        "# make the input layer of the network\n",
        "input_layer = tflearn.input_data(shape=[None, 784])"
      ],
      "execution_count": 0,
      "outputs": []
    },
    {
      "metadata": {
        "id": "DbU_VwHozZaB",
        "colab_type": "code",
        "colab": {}
      },
      "cell_type": "code",
      "source": [
        "# make a variable for the visualization\n",
        "emb = tf.Variable(X[:2000, :], name='input_images')"
      ],
      "execution_count": 0,
      "outputs": []
    },
    {
      "metadata": {
        "id": "1ZL8z9Y4zpxg",
        "colab_type": "code",
        "colab": {}
      },
      "cell_type": "code",
      "source": [
        "# first hidden layer\n",
        "hidden1 = tflearn.fully_connected(input_layer,  # input to this layer \n",
        "                                  500, # number of nodes looking at input\n",
        "                                  activation='tanh', # hyperbolic tangent activation function\n",
        "                                  name='fc1', # name of this layer - optional\n",
        "                                  regularizer='L2') # keeps layer from relying too heavily on any given weight\n",
        "\n",
        "# dropout for first hidden layer --- keep 70%\n",
        "# helps generalization by not allowing nodes to rely too heavily on certain nodes in previous layer\n",
        "hidden1 = tflearn.dropout(hidden1, 0.7)\n",
        "\n",
        "# make the second hidden layer\n",
        "hidden2 = tflearn.fully_connected(hidden1, \n",
        "                                  500, \n",
        "                                  activation='tanh', \n",
        "                                  name='fc2', \n",
        "                                  regularizer='L2')\n",
        "\n",
        "# dropout for second layer --- keep 70% of values\n",
        "hidden2 = tflearn.dropout(hidden2, 0.7)\n",
        "\n",
        "# make the third hidden layer\n",
        "hidden3 = tflearn.fully_connected(hidden2, \n",
        "                                  500, \n",
        "                                  activation='tanh', \n",
        "                                  name='fc3')\n",
        "\n",
        "# dropout for third layer --- keep 70% of values\n",
        "hidden3 = tflearn.dropout(hidden3, 0.7)\n",
        "\n",
        "# make the output layer \n",
        "output = tflearn.fully_connected(hidden3, \n",
        "                                 10, # number of nodes = number of classes in output layer\n",
        "                                 activation='softmax', # used in output layer - turns activations into class probabilities\n",
        "                                 name='output_layer')"
      ],
      "execution_count": 0,
      "outputs": []
    },
    {
      "metadata": {
        "id": "NbVKX-fL3Gy0",
        "colab_type": "code",
        "colab": {}
      },
      "cell_type": "code",
      "source": [
        "# describe the optimizer --- learning rate between 1e-5 and .1\n",
        "sgd = tflearn.SGD(learning_rate=0.1)"
      ],
      "execution_count": 0,
      "outputs": []
    },
    {
      "metadata": {
        "id": "hA_wE4Ov4LST",
        "colab_type": "code",
        "colab": {}
      },
      "cell_type": "code",
      "source": [
        "# describe how to update weights\n",
        "network = tflearn.regression(output, optimizer=sgd, loss='categorical_crossentropy')"
      ],
      "execution_count": 0,
      "outputs": []
    },
    {
      "metadata": {
        "id": "FqSQOVXa4kXM",
        "colab_type": "code",
        "colab": {}
      },
      "cell_type": "code",
      "source": [
        "tensorboard_name = 'mnist_fc_tflearn'  # name for tensorboard run\n",
        "viz_mnist_embedding(emb, X[:2000, :], np.argmax(Y[:2000, :], 1))"
      ],
      "execution_count": 0,
      "outputs": []
    },
    {
      "metadata": {
        "id": "xpQAbdVc5ilM",
        "colab_type": "code",
        "colab": {}
      },
      "cell_type": "code",
      "source": [
        "install_tensorboard_dep() # install tensorboard dependencies"
      ],
      "execution_count": 0,
      "outputs": []
    },
    {
      "metadata": {
        "id": "Wfw99MNN533c",
        "colab_type": "code",
        "colab": {}
      },
      "cell_type": "code",
      "source": [
        "start_tensorboard()  # start tensorboard to visualize training/model/etc."
      ],
      "execution_count": 0,
      "outputs": []
    },
    {
      "metadata": {
        "id": "6Mn2N0sW57_z",
        "colab_type": "code",
        "colab": {}
      },
      "cell_type": "code",
      "source": [
        "# build the model based on architecture/parameters described above\n",
        "model = tflearn.DNN(network, tensorboard_verbose=3) "
      ],
      "execution_count": 0,
      "outputs": []
    },
    {
      "metadata": {
        "id": "UBUika6dF1mO",
        "colab_type": "code",
        "colab": {}
      },
      "cell_type": "code",
      "source": [
        "model.fit(X,  # training data\n",
        "          Y,  # training labels\n",
        "          n_epoch=10,  # number of times to go through dataset\n",
        "          validation_set=(testX, testY),  # validation dataset/labels\n",
        "          batch_size=150,  # number of practice images to look at at one time\n",
        "          snapshot_step=200,  # how often to test of validation\n",
        "          show_metric=True,\n",
        "          run_id='mnist_fc_3layers')  # what to show model under in tensorboard"
      ],
      "execution_count": 0,
      "outputs": []
    },
    {
      "metadata": {
        "id": "eXEP-h5iLOpc",
        "colab_type": "code",
        "colab": {}
      },
      "cell_type": "code",
      "source": [
        "model.save('mnist_fc_3layers_model')  # save the trained model"
      ],
      "execution_count": 0,
      "outputs": []
    },
    {
      "metadata": {
        "id": "iVg6-1SHHfan",
        "colab_type": "code",
        "colab": {}
      },
      "cell_type": "code",
      "source": [
        "# load in trained model\n",
        "from tensorflow.python import pywrap_tensorflow\n",
        "reader = pywrap_tensorflow.NewCheckpointReader('mnist_fc_3layers_model')\n",
        "model_vars = reader.get_variable_to_shape_map() # get weights of trained model"
      ],
      "execution_count": 0,
      "outputs": []
    },
    {
      "metadata": {
        "id": "WZqtJbcAMYqu",
        "colab_type": "code",
        "colab": {}
      },
      "cell_type": "code",
      "source": [
        "print(model_vars) # print out model variables"
      ],
      "execution_count": 0,
      "outputs": []
    },
    {
      "metadata": {
        "id": "3l42tNdvL5Xj",
        "colab_type": "code",
        "colab": {}
      },
      "cell_type": "code",
      "source": [
        "# get weights of first hidden layer\n",
        "hidden1_w = reader.get_tensor('fc1/W')"
      ],
      "execution_count": 0,
      "outputs": []
    },
    {
      "metadata": {
        "id": "nlsa9bnvMWTz",
        "colab_type": "code",
        "colab": {}
      },
      "cell_type": "code",
      "source": [
        "# print shape of first hidden layer's weights\n",
        "print(hidden1_w.shape)"
      ],
      "execution_count": 0,
      "outputs": []
    },
    {
      "metadata": {
        "id": "FGXllw57Ms6L",
        "colab_type": "code",
        "colab": {}
      },
      "cell_type": "code",
      "source": [
        "hidden1_w = hidden1_w.T  # transpose hidden weights to go into montage function"
      ],
      "execution_count": 0,
      "outputs": []
    },
    {
      "metadata": {
        "id": "R6IgWmIwNHQa",
        "colab_type": "code",
        "colab": {}
      },
      "cell_type": "code",
      "source": [
        "print(hidden1_w.shape)"
      ],
      "execution_count": 0,
      "outputs": []
    },
    {
      "metadata": {
        "id": "vLe0XpEQNQQD",
        "colab_type": "code",
        "colab": {}
      },
      "cell_type": "code",
      "source": [
        "montage(hidden1_w)  # view weights of first hidden layer"
      ],
      "execution_count": 0,
      "outputs": []
    },
    {
      "metadata": {
        "id": "8oRz-sOoCa6n",
        "colab_type": "code",
        "colab": {}
      },
      "cell_type": "code",
      "source": [
        ""
      ],
      "execution_count": 0,
      "outputs": []
    }
  ]
}