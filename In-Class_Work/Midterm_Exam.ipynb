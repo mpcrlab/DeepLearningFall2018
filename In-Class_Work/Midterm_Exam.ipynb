{
  "nbformat": 4,
  "nbformat_minor": 0,
  "metadata": {
    "colab": {
      "name": "Midterm_Exam.ipynb",
      "version": "0.3.2",
      "provenance": [],
      "collapsed_sections": []
    },
    "kernelspec": {
      "name": "python3",
      "display_name": "Python 3"
    }
  },
  "cells": [
    {
      "metadata": {
        "id": "iNSpjYmX5mWf",
        "colab_type": "text"
      },
      "cell_type": "markdown",
      "source": [
        "## Short Answer  \n",
        "Please answer each of the following questions with **at least 2-3 complete sentences**. "
      ]
    },
    {
      "metadata": {
        "id": "MGyFLxgs51Xf",
        "colab_type": "text"
      },
      "cell_type": "markdown",
      "source": [
        "1. Why do we use a validation dataset during training, and what can the performance between the validation dataset and the training set tell us?"
      ]
    },
    {
      "metadata": {
        "id": "93wCMCDY683i",
        "colab_type": "text"
      },
      "cell_type": "markdown",
      "source": [
        "Using the validation set will show an unbiased estimate of the skill of the final model."
      ]
    },
    {
      "metadata": {
        "id": "re5eTNQr6Fxd",
        "colab_type": "text"
      },
      "cell_type": "markdown",
      "source": [
        "2. What is the major difference between a fully-connected layer and a convolutional layer in terms of the scale of patterns they look for in their input?"
      ]
    },
    {
      "metadata": {
        "id": "DX2PcLVw-xDY",
        "colab_type": "text"
      },
      "cell_type": "markdown",
      "source": [
        "In fully-connected layers each neuron is connected to every other neuron and is used to classify images based on each gathered feature where as in convolutional layers the output represents high-level features of the input image. The convolution layer extracts features from the image where as fully connected layers classify the image."
      ]
    },
    {
      "metadata": {
        "id": "zG152jCS-U8u",
        "colab_type": "text"
      },
      "cell_type": "markdown",
      "source": [
        "3. If you performed 128 convolutions with filter size 3x3 and a stride of 1 on an input that is 100x100x64 and padded the inputs, what would the output shape be of this layer? "
      ]
    },
    {
      "metadata": {
        "id": "OM512xe169UB",
        "colab_type": "text"
      },
      "cell_type": "markdown",
      "source": [
        "256"
      ]
    },
    {
      "metadata": {
        "id": "lwAfXXVftxha",
        "colab_type": "text"
      },
      "cell_type": "markdown",
      "source": [
        "4. Matrix A has a shape of 250x200 and matrix B has a shape of 250x100. Can you perform a matrix multiplication between A and B in that order without performing any other operations first (True or False)?"
      ]
    },
    {
      "metadata": {
        "id": "bltfeNcwuQLY",
        "colab_type": "text"
      },
      "cell_type": "markdown",
      "source": [
        "False"
      ]
    },
    {
      "metadata": {
        "id": "Hu5inws1uR1q",
        "colab_type": "text"
      },
      "cell_type": "markdown",
      "source": [
        "5. Matrix A has a shape of 3x5 and matrix B has a shape of 3x5. Can these two matrices be added together elementwise (True or False)?"
      ]
    },
    {
      "metadata": {
        "id": "B3vs5FZzuif4",
        "colab_type": "text"
      },
      "cell_type": "markdown",
      "source": [
        "True"
      ]
    },
    {
      "metadata": {
        "id": "pUYm9hVr20YC",
        "colab_type": "code",
        "colab": {}
      },
      "cell_type": "code",
      "source": [
        "try:\n",
        "  import tflearn\n",
        "except ImportError:\n",
        "  !pip3 install -q tflearn\n",
        "  import tflearn"
      ],
      "execution_count": 0,
      "outputs": []
    },
    {
      "metadata": {
        "id": "ZpyYpjZ22-l2",
        "colab_type": "code",
        "colab": {}
      },
      "cell_type": "code",
      "source": [
        "import numpy as np\n",
        "import os\n",
        "from google.colab import drive\n",
        "from tflearn.layers.core import input_data, dropout, fully_connected\n",
        "from tflearn.layers.conv import conv_2d\n",
        "from tflearn.activations import relu\n",
        "from tflearn.layers.normalization import batch_normalization as bn\n",
        "from tflearn.layers.estimator import regression\n",
        "from tflearn.data_utils import to_categorical\n",
        "import matplotlib.pyplot as plt"
      ],
      "execution_count": 0,
      "outputs": []
    },
    {
      "metadata": {
        "id": "P2Y1rXO-ul0Z",
        "colab_type": "text"
      },
      "cell_type": "markdown",
      "source": [
        "In the line below, create a matrix full of zeros with 90 rows and 50 columns. Then print the row with index 5 in this matrix."
      ]
    },
    {
      "metadata": {
        "id": "Up_hy6TTuyN-",
        "colab_type": "code",
        "outputId": "2388793b-2472-4e6d-d0bc-20c81918878b",
        "colab": {
          "base_uri": "https://localhost:8080/",
          "height": 138
        }
      },
      "cell_type": "code",
      "source": [
        "# np.zeros(shape, dtype=float)\n",
        "A = np.zeros([90, 50])\n",
        "print(A)"
      ],
      "execution_count": 3,
      "outputs": [
        {
          "output_type": "stream",
          "text": [
            "[[0. 0. 0. ... 0. 0. 0.]\n",
            " [0. 0. 0. ... 0. 0. 0.]\n",
            " [0. 0. 0. ... 0. 0. 0.]\n",
            " ...\n",
            " [0. 0. 0. ... 0. 0. 0.]\n",
            " [0. 0. 0. ... 0. 0. 0.]\n",
            " [0. 0. 0. ... 0. 0. 0.]]\n"
          ],
          "name": "stdout"
        }
      ]
    },
    {
      "metadata": {
        "id": "jv2Qy46B9Iz6",
        "colab_type": "code",
        "outputId": "c1289903-9f00-40f1-af09-b61304e4987b",
        "colab": {
          "base_uri": "https://localhost:8080/",
          "height": 138
        }
      },
      "cell_type": "code",
      "source": [
        "B = A[5:, 5:]\n",
        "print(B)"
      ],
      "execution_count": 4,
      "outputs": [
        {
          "output_type": "stream",
          "text": [
            "[[0. 0. 0. ... 0. 0. 0.]\n",
            " [0. 0. 0. ... 0. 0. 0.]\n",
            " [0. 0. 0. ... 0. 0. 0.]\n",
            " ...\n",
            " [0. 0. 0. ... 0. 0. 0.]\n",
            " [0. 0. 0. ... 0. 0. 0.]\n",
            " [0. 0. 0. ... 0. 0. 0.]]\n"
          ],
          "name": "stdout"
        }
      ]
    },
    {
      "metadata": {
        "id": "tmoJU_Bi3bv6",
        "colab_type": "code",
        "colab": {
          "base_uri": "https://localhost:8080/",
          "height": 121
        },
        "outputId": "9a00991e-2bbd-490d-854e-6c8df40d01d6"
      },
      "cell_type": "code",
      "source": [
        "# load in the flowers dataset\n",
        "import tflearn.datasets.oxflower17 as oxflower17\n",
        "X, Y = oxflower17.load_data(one_hot=True, resize_pics=(100, 100))"
      ],
      "execution_count": 5,
      "outputs": [
        {
          "output_type": "stream",
          "text": [
            "Downloading Oxford 17 category Flower Dataset, Please wait...\n"
          ],
          "name": "stdout"
        },
        {
          "output_type": "stream",
          "text": [
            "100.0% 60276736 / 60270631\n"
          ],
          "name": "stderr"
        },
        {
          "output_type": "stream",
          "text": [
            "('Succesfully downloaded', '17flowers.tgz', 60270631, 'bytes.')\n",
            "File Extracted\n",
            "Starting to parse images...\n",
            "Parsing Done!\n"
          ],
          "name": "stdout"
        }
      ]
    },
    {
      "metadata": {
        "id": "WR6dvrEH7vEr",
        "colab_type": "text"
      },
      "cell_type": "markdown",
      "source": [
        "In the line below, print the shapes of the data and labels. These shapes will help you later when defining the network."
      ]
    },
    {
      "metadata": {
        "id": "8ObkCv7i7sph",
        "colab_type": "code",
        "outputId": "ad6954e2-4d0e-4df7-b4a4-c0472f3257ff",
        "colab": {
          "base_uri": "https://localhost:8080/",
          "height": 35
        }
      },
      "cell_type": "code",
      "source": [
        "print(X.shape, Y.shape)"
      ],
      "execution_count": 6,
      "outputs": [
        {
          "output_type": "stream",
          "text": [
            "(1360, 100, 100, 3) (1360, 17)\n"
          ],
          "name": "stdout"
        }
      ]
    },
    {
      "metadata": {
        "id": "XRI4GaK9_eDc",
        "colab_type": "text"
      },
      "cell_type": "markdown",
      "source": [
        "Below, show the image with index 500 in the dataset X."
      ]
    },
    {
      "metadata": {
        "id": "GqIWgACFNBHm",
        "colab_type": "code",
        "colab": {}
      },
      "cell_type": "code",
      "source": [
        "from scipy.misc import imread, bytescale, imresize  # image manipulation function"
      ],
      "execution_count": 0,
      "outputs": []
    },
    {
      "metadata": {
        "id": "pOkKkJkTMguW",
        "colab_type": "code",
        "outputId": "1ffba407-b5bc-446d-a60d-16338edb4b10",
        "colab": {
          "base_uri": "https://localhost:8080/",
          "height": 349
        }
      },
      "cell_type": "code",
      "source": [
        "new_img = X[500, ...]\n",
        "img_show = bytescale(new_img, 0, 1) # make values in new_img go between 0 and 1 to show it in matplotlib\n",
        "plt.imshow(img_show)  # tell it what to show\n",
        "plt.grid(False)  # get rid of the gridlines since this is not a graph\n",
        "plt.show()  # show the image"
      ],
      "execution_count": 8,
      "outputs": [
        {
          "output_type": "display_data",
          "data": {
            "image/png": "[encoded data removed]",
            "text/plain": [
              "<matplotlib.figure.Figure at 0x7fe03e2aefd0>"
            ]
          },
          "metadata": {
            "tags": []
          }
        }
      ]
    },
    {
      "metadata": {
        "id": "PnVAUvxq_2vc",
        "colab_type": "text"
      },
      "cell_type": "markdown",
      "source": [
        "In the line below, plot a histogram of X using an appropriate number of bins."
      ]
    },
    {
      "metadata": {
        "id": "VC0eiuhP_-jE",
        "colab_type": "code",
        "colab": {}
      },
      "cell_type": "code",
      "source": [
        "def histogram(data):\n",
        "    '''This function takes in a vector called data and \n",
        "        plots a histogram using the values.'''\n",
        "    \n",
        "    fig = plt.figure(figsize=(7, 5))\n",
        "    plot1 = fig.add_subplot(111)\n",
        "    plot1.set_xlabel('Value')\n",
        "    plot1.set_ylabel('Frequency')\n",
        "    plt.hist(data, bins=100)\n",
        "    plt.show()"
      ],
      "execution_count": 0,
      "outputs": []
    },
    {
      "metadata": {
        "id": "ZsBBQbpE_kpr",
        "colab_type": "code",
        "outputId": "c8241174-6dbf-4629-d355-87aaad9316e9",
        "colab": {
          "base_uri": "https://localhost:8080/",
          "height": 831
        }
      },
      "cell_type": "code",
      "source": [
        "plt.hist(X.flatten(), bins=100) # view histogram of raw data"
      ],
      "execution_count": 10,
      "outputs": [
        {
          "output_type": "execute_result",
          "data": {
            "text/plain": [
              "(array([1023807.,  859027.,  556376.,  805667.,  518191.,  773047.,\n",
              "         511660.,  766909.,  515143.,  761728.,  760039.,  504322.,\n",
              "         755636.,  504213.,  749644.,  495744.,  738940.,  493979.,\n",
              "         738643.,  481943.,  715483.,  708261.,  466463.,  690962.,\n",
              "         454340.,  675021.,  447417.,  661922.,  437363.,  645908.,\n",
              "         631306.,  414497.,  611165.,  399699.,  592186.,  389096.,\n",
              "         575654.,  378357.,  556008.,  364084.,  536543.,  528070.,\n",
              "         345290.,  509525.,  329923.,  483146.,  315537.,  460295.,\n",
              "         300994.,  439190.,  426596.,  278764.,  408848.,  266514.,\n",
              "         393593.,  259049.,  382063.,  252132.,  367737.,  240572.,\n",
              "         355003.,  348131.,  229329.,  339001.,  223084.,  332332.,\n",
              "         218057.,  323622.,  215908.,  316346.,  313040.,  204700.,\n",
              "         302313.,  198297.,  292725.,  190997.,  282838.,  187088.,\n",
              "         279494.,  181900.,  272311.,  268920.,  172274.,  252521.,\n",
              "         168751.,  240514.,  157318.,  229965.,  146716.,  211497.,\n",
              "         199404.,  126885.,  184194.,  120888.,  184249.,  112997.,\n",
              "         169484.,  115579.,  181373.,  295724.]),\n",
              " array([0.  , 0.01, 0.02, 0.03, 0.04, 0.05, 0.06, 0.07, 0.08, 0.09, 0.1 ,\n",
              "        0.11, 0.12, 0.13, 0.14, 0.15, 0.16, 0.17, 0.18, 0.19, 0.2 , 0.21,\n",
              "        0.22, 0.23, 0.24, 0.25, 0.26, 0.27, 0.28, 0.29, 0.3 , 0.31, 0.32,\n",
              "        0.33, 0.34, 0.35, 0.36, 0.37, 0.38, 0.39, 0.4 , 0.41, 0.42, 0.43,\n",
              "        0.44, 0.45, 0.46, 0.47, 0.48, 0.49, 0.5 , 0.51, 0.52, 0.53, 0.54,\n",
              "        0.55, 0.56, 0.57, 0.58, 0.59, 0.6 , 0.61, 0.62, 0.63, 0.64, 0.65,\n",
              "        0.66, 0.67, 0.68, 0.69, 0.7 , 0.71, 0.72, 0.73, 0.74, 0.75, 0.76,\n",
              "        0.77, 0.78, 0.79, 0.8 , 0.81, 0.82, 0.83, 0.84, 0.85, 0.86, 0.87,\n",
              "        0.88, 0.89, 0.9 , 0.91, 0.92, 0.93, 0.94, 0.95, 0.96, 0.97, 0.98,\n",
              "        0.99, 1.  ]),\n",
              " <a list of 100 Patch objects>)"
            ]
          },
          "metadata": {
            "tags": []
          },
          "execution_count": 10
        },
        {
          "output_type": "display_data",
          "data": {
            "image/png": "[encoded data removed]",
            "text/plain": [
              "<matplotlib.figure.Figure at 0x7fe03e259940>"
            ]
          },
          "metadata": {
            "tags": []
          }
        }
      ]
    },
    {
      "metadata": {
        "id": "SjCcP-6L7y8p",
        "colab_type": "text"
      },
      "cell_type": "markdown",
      "source": [
        "In the line below, normalize the images by subtracting the mean and dividing by the standard deviation of every pixel. "
      ]
    },
    {
      "metadata": {
        "id": "0U-KUqry8Cac",
        "colab_type": "code",
        "colab": {}
      },
      "cell_type": "code",
      "source": [
        "# preprocess by subtracting mean and dividing by standard deviation\n",
        "X -= np.mean(X, 0) # center each pixel value around 0\n",
        "X /= np.std(X, 0)  # squash each pixel to between -1 and 1"
      ],
      "execution_count": 0,
      "outputs": []
    },
    {
      "metadata": {
        "id": "nTEjVMFZ8DOx",
        "colab_type": "text"
      },
      "cell_type": "markdown",
      "source": [
        "You will now create a convolutional neural network to predict the flower species from the images. In the line below, create an input layer for the network based on the shape of the images. "
      ]
    },
    {
      "metadata": {
        "id": "Z0qSLUgKAZFq",
        "colab_type": "code",
        "colab": {}
      },
      "cell_type": "code",
      "source": [
        "import tensorflow as tf "
      ],
      "execution_count": 0,
      "outputs": []
    },
    {
      "metadata": {
        "id": "sQthDsKE8LxC",
        "colab_type": "code",
        "colab": {}
      },
      "cell_type": "code",
      "source": [
        "# create a layer to view data space in tensorboard\n",
        "emb = tf.Variable(X[::10, ...], name='input_flower_images')"
      ],
      "execution_count": 0,
      "outputs": []
    },
    {
      "metadata": {
        "id": "3CfNKx5x8TxX",
        "colab_type": "text"
      },
      "cell_type": "markdown",
      "source": [
        "In the line below, finish the line and create a convolutional layer to take in the input layer and slide 64 filters with shape 7x7 around it using the relu activation function. You might find the documentation for the conv_2d function helpful: http://tflearn.org/layers/conv/"
      ]
    },
    {
      "metadata": {
        "id": "PnBVjWALDrBZ",
        "colab_type": "code",
        "colab": {}
      },
      "cell_type": "code",
      "source": [
        "from tflearn.data_augmentation import ImageAugmentation\n",
        "img_aug = ImageAugmentation()\n",
        "in_layer = input_data(shape=[None, 150, 150, 3], data_augmentation=img_aug)"
      ],
      "execution_count": 0,
      "outputs": []
    },
    {
      "metadata": {
        "id": "zRbpB5md8yxk",
        "colab_type": "code",
        "colab": {
          "base_uri": "https://localhost:8080/",
          "height": 89
        },
        "outputId": "7254bf35-e2b4-41e2-daf5-2cbefa7bc7ea"
      },
      "cell_type": "code",
      "source": [
        "conv1 = conv_2d(in_layer, 64, 7, activation='linear', name='c1')"
      ],
      "execution_count": 15,
      "outputs": [
        {
          "output_type": "stream",
          "text": [
            "WARNING:tensorflow:From /usr/local/lib/python3.6/dist-packages/tflearn/initializations.py:119: UniformUnitScaling.__init__ (from tensorflow.python.ops.init_ops) is deprecated and will be removed in a future version.\n",
            "Instructions for updating:\n",
            "Use tf.initializers.variance_scaling instead with distribution=uniform to get equivalent behavior.\n"
          ],
          "name": "stdout"
        }
      ]
    },
    {
      "metadata": {
        "id": "43kfwW7Y8zM5",
        "colab_type": "text"
      },
      "cell_type": "markdown",
      "source": [
        "In the line below, I have created a second convolutional layer which will take in the first convolutional layer's feature maps as input. Write a comment to indicate 1) how many filters this layer has, 2) what the filter size is, and 3) what the height and width of each output feature map should be based on the stride."
      ]
    },
    {
      "metadata": {
        "id": "x_X6B8rf9hGu",
        "colab_type": "code",
        "colab": {}
      },
      "cell_type": "code",
      "source": [
        "# second conv layer with 128, 3x3 filters\n",
        "# 3x3\n",
        "# 150, 150\n",
        "conv2 = conv_2d(conv1, 128, 3, activation='relu', strides=4)"
      ],
      "execution_count": 0,
      "outputs": []
    },
    {
      "metadata": {
        "id": "Xx7Fj-5_94ud",
        "colab_type": "text"
      },
      "cell_type": "markdown",
      "source": [
        "In the line below, replace the question marks with appropriate values, keeping in mind this will be the output layer of the network."
      ]
    },
    {
      "metadata": {
        "id": "R53S9-Eh93dM",
        "colab_type": "code",
        "colab": {}
      },
      "cell_type": "code",
      "source": [
        "output_layer = fully_connected(conv2, 3, activation='softmax')"
      ],
      "execution_count": 0,
      "outputs": []
    },
    {
      "metadata": {
        "id": "JPTFKggu-as_",
        "colab_type": "text"
      },
      "cell_type": "markdown",
      "source": [
        "In the line below, remove the question mark and replace it with an appropriate value for the learning rate."
      ]
    },
    {
      "metadata": {
        "id": "Ci_ibCK7-OBO",
        "colab_type": "code",
        "colab": {}
      },
      "cell_type": "code",
      "source": [
        "opt = regression(output_layer, optimizer='adam', learning_rate=0.0001, loss='categorical_crossentropy')"
      ],
      "execution_count": 0,
      "outputs": []
    },
    {
      "metadata": {
        "id": "llDk0Kp2-gRZ",
        "colab_type": "text"
      },
      "cell_type": "markdown",
      "source": [
        "You don't need to do anything for the line below. "
      ]
    },
    {
      "metadata": {
        "id": "zGl3WLoy-kvY",
        "colab_type": "code",
        "colab": {}
      },
      "cell_type": "code",
      "source": [
        "model = tflearn.DNN(opt)"
      ],
      "execution_count": 0,
      "outputs": []
    },
    {
      "metadata": {
        "id": "2xOQFvu7-n7d",
        "colab_type": "text"
      },
      "cell_type": "markdown",
      "source": [
        "In the line below, replace each question mark with appropriate values and write a comment next to each line describing what it does (you only need to comment the lines I write *comment here* after.)."
      ]
    },
    {
      "metadata": {
        "id": "wrdtg6fM-urv",
        "colab_type": "code",
        "outputId": "cc3371de-bedb-4e3f-9341-630b1dae28b3",
        "colab": {
          "base_uri": "https://localhost:8080/",
          "height": 462
        }
      },
      "cell_type": "code",
      "source": [
        "model.fit(X, # input data\n",
        "          Y, # corresponding labels\n",
        "          validation_set=0.1, # use 10% for validation\n",
        "          show_metric=True, \n",
        "          n_epoch=10,  # number of times to go through entire dataset\n",
        "          batch_size=75,  # go through dataset 75 examples at a time\n",
        "          snapshot_step=200)"
      ],
      "execution_count": 26,
      "outputs": [
        {
          "output_type": "error",
          "ename": "IndexError",
          "evalue": "ignored",
          "traceback": [
            "\u001b[0;31m---------------------------------------------------------------------------\u001b[0m",
            "\u001b[0;31mIndexError\u001b[0m                                Traceback (most recent call last)",
            "\u001b[0;32m<ipython-input-26-eec3cdc3f3fc>\u001b[0m in \u001b[0;36m<module>\u001b[0;34m()\u001b[0m\n\u001b[1;32m      5\u001b[0m           \u001b[0mn_epoch\u001b[0m\u001b[0;34m=\u001b[0m\u001b[0;36m10\u001b[0m\u001b[0;34m,\u001b[0m  \u001b[0;31m# number of times to go through entire dataset\u001b[0m\u001b[0;34m\u001b[0m\u001b[0m\n\u001b[1;32m      6\u001b[0m           \u001b[0mbatch_size\u001b[0m\u001b[0;34m=\u001b[0m\u001b[0;36m75\u001b[0m\u001b[0;34m,\u001b[0m  \u001b[0;31m# go through dataset 75 examples at a time\u001b[0m\u001b[0;34m\u001b[0m\u001b[0m\n\u001b[0;32m----> 7\u001b[0;31m           snapshot_step=200)\n\u001b[0m",
            "\u001b[0;32m/usr/local/lib/python3.6/dist-packages/tflearn/models/dnn.py\u001b[0m in \u001b[0;36mfit\u001b[0;34m(self, X_inputs, Y_targets, n_epoch, validation_set, show_metric, batch_size, shuffle, snapshot_epoch, snapshot_step, excl_trainops, validation_batch_size, run_id, callbacks)\u001b[0m\n\u001b[1;32m    182\u001b[0m         \u001b[0;31m# TODO: check memory impact for large data and multiple optimizers\u001b[0m\u001b[0;34m\u001b[0m\u001b[0;34m\u001b[0m\u001b[0m\n\u001b[1;32m    183\u001b[0m         feed_dict = feed_dict_builder(X_inputs, Y_targets, self.inputs,\n\u001b[0;32m--> 184\u001b[0;31m                                       self.targets)\n\u001b[0m\u001b[1;32m    185\u001b[0m         \u001b[0mfeed_dicts\u001b[0m \u001b[0;34m=\u001b[0m \u001b[0;34m[\u001b[0m\u001b[0mfeed_dict\u001b[0m \u001b[0;32mfor\u001b[0m \u001b[0mi\u001b[0m \u001b[0;32min\u001b[0m \u001b[0mself\u001b[0m\u001b[0;34m.\u001b[0m\u001b[0mtrain_ops\u001b[0m\u001b[0;34m]\u001b[0m\u001b[0;34m\u001b[0m\u001b[0m\n\u001b[1;32m    186\u001b[0m         \u001b[0mval_feed_dicts\u001b[0m \u001b[0;34m=\u001b[0m \u001b[0;32mNone\u001b[0m\u001b[0;34m\u001b[0m\u001b[0m\n",
            "\u001b[0;32m/usr/local/lib/python3.6/dist-packages/tflearn/utils.py\u001b[0m in \u001b[0;36mfeed_dict_builder\u001b[0;34m(X, Y, net_inputs, net_targets)\u001b[0m\n\u001b[1;32m    318\u001b[0m                 \u001b[0mY\u001b[0m \u001b[0;34m=\u001b[0m \u001b[0;34m[\u001b[0m\u001b[0mY\u001b[0m\u001b[0;34m]\u001b[0m\u001b[0;34m\u001b[0m\u001b[0m\n\u001b[1;32m    319\u001b[0m             \u001b[0;32mfor\u001b[0m \u001b[0mi\u001b[0m\u001b[0;34m,\u001b[0m \u001b[0my\u001b[0m \u001b[0;32min\u001b[0m \u001b[0menumerate\u001b[0m\u001b[0;34m(\u001b[0m\u001b[0mY\u001b[0m\u001b[0;34m)\u001b[0m\u001b[0;34m:\u001b[0m\u001b[0;34m\u001b[0m\u001b[0m\n\u001b[0;32m--> 320\u001b[0;31m                 \u001b[0mfeed_dict\u001b[0m\u001b[0;34m[\u001b[0m\u001b[0mnet_targets\u001b[0m\u001b[0;34m[\u001b[0m\u001b[0mi\u001b[0m\u001b[0;34m]\u001b[0m\u001b[0;34m]\u001b[0m \u001b[0;34m=\u001b[0m \u001b[0my\u001b[0m\u001b[0;34m\u001b[0m\u001b[0m\n\u001b[0m\u001b[1;32m    321\u001b[0m         \u001b[0;32melse\u001b[0m\u001b[0;34m:\u001b[0m\u001b[0;34m\u001b[0m\u001b[0m\n\u001b[1;32m    322\u001b[0m             \u001b[0;31m# If a dict is provided\u001b[0m\u001b[0;34m\u001b[0m\u001b[0;34m\u001b[0m\u001b[0m\n",
            "\u001b[0;31mIndexError\u001b[0m: list index out of range"
          ]
        }
      ]
    },
    {
      "metadata": {
        "id": "XoXRZ3_F3xEH",
        "colab_type": "text"
      },
      "cell_type": "markdown",
      "source": [
        "Download this notebook and upload it to your branch on the class github. "
      ]
    },
    {
      "metadata": {
        "id": "M2-sxxivAPSI",
        "colab_type": "code",
        "colab": {}
      },
      "cell_type": "code",
      "source": [
        ""
      ],
      "execution_count": 0,
      "outputs": []
    }
  ]
}