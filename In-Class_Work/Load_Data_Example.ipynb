{
  "nbformat": 4,
  "nbformat_minor": 0,
  "metadata": {
    "colab": {
      "name": "Load_Data_Example.ipynb",
      "version": "0.3.2",
      "provenance": [],
      "collapsed_sections": []
    },
    "kernelspec": {
      "name": "python3",
      "display_name": "Python 3"
    },
    "accelerator": "GPU"
  },
  "cells": [
    {
      "metadata": {
        "id": "kueEPJ-YAsE1",
        "colab_type": "code",
        "colab": {}
      },
      "cell_type": "code",
      "source": [
        "import numpy as np\n",
        "from scipy.misc import imread, imresize\n",
        "from glob import glob # helps find files in a folder\n",
        "import os  # to navigate through filesystem\n",
        "from google.colab import drive # needed to connect to drive\n",
        "import matplotlib.pyplot as plt # need to plot images\n",
        "import os, sys\n",
        "import glob\n",
        "from scipy.misc import imread, imresize, imshow"
      ],
      "execution_count": 0,
      "outputs": []
    },
    {
      "metadata": {
        "id": "G9ZhThZbBuD4",
        "colab_type": "code",
        "colab": {
          "base_uri": "https://localhost:8080/",
          "height": 124
        },
        "outputId": "aeae69d3-b92b-4921-c736-7ff0afb07535"
      },
      "cell_type": "code",
      "source": [
        "drive.mount('/content/drive') # mounts drive to colaboratory"
      ],
      "execution_count": 2,
      "outputs": [
        {
          "output_type": "stream",
          "text": [
            "Go to this URL in a browser: https://accounts.google.com/o/oauth2/auth?client_id=947318989803-6bn6qk8qdgf4n4g3pfee6491hc0brc4i.apps.googleusercontent.com&redirect_uri=urn%3Aietf%3Awg%3Aoauth%3A2.0%3Aoob&scope=email%20https%3A%2F%2Fwww.googleapis.com%2Fauth%2Fdocs.test%20https%3A%2F%2Fwww.googleapis.com%2Fauth%2Fdrive%20https%3A%2F%2Fwww.googleapis.com%2Fauth%2Fdrive.photos.readonly%20https%3A%2F%2Fwww.googleapis.com%2Fauth%2Fpeopleapi.readonly&response_type=code\n",
            "\n",
            "Enter your authorization code:\n",
            "··········\n",
            "Mounted at /content/drive\n"
          ],
          "name": "stdout"
        }
      ]
    },
    {
      "metadata": {
        "id": "0H6uQPkzB7nX",
        "colab_type": "code",
        "colab": {}
      },
      "cell_type": "code",
      "source": [
        "# navigate through filesystem to class folder\n",
        "os.chdir('drive/My Drive/DeepLearningFall2018/')"
      ],
      "execution_count": 0,
      "outputs": []
    },
    {
      "metadata": {
        "id": "t2JFDwNnCYdw",
        "colab_type": "code",
        "colab": {
          "base_uri": "https://localhost:8080/",
          "height": 624
        },
        "outputId": "f1c64805-d239-4980-db21-f13d9c738712"
      },
      "cell_type": "code",
      "source": [
        "os.listdir() # list all files and folders in this location"
      ],
      "execution_count": 4,
      "outputs": [
        {
          "output_type": "execute_result",
          "data": {
            "text/plain": [
              "['ngrok',\n",
              " 'DeepLearningFall2018Pretest.gdoc',\n",
              " 'DeepLearning_Fall2018_HW1.ipynb',\n",
              " 'Linear Algebra Overview.gslides',\n",
              " 'turing.jpeg',\n",
              " 'Basic_Operations.ipynb',\n",
              " 'Python Numpy_Intro.ipynb',\n",
              " 'perceptron_image.png',\n",
              " 'Perceptrons.ipynb',\n",
              " 'DeepLearning_Fall2018_HW1_answerkey.ipynb',\n",
              " 'linear_data.csv',\n",
              " 'DIS_Schedule.gsheet',\n",
              " 'Homework2_answers.ipynb',\n",
              " 'Convolutional Neural Networks Lecture 2.gslides',\n",
              " 'cifar-10-batches-py',\n",
              " 'DeepLearningFall2018_schedule.gsheet',\n",
              " 'Colab_Intro.ipynb',\n",
              " 'iris_flower_data.csv',\n",
              " \"Midterm_Practice2_teacher's edition.ipynb\",\n",
              " 'Midterm_Practice2.ipynb',\n",
              " 'Midterm_Practice.ipynb',\n",
              " 'Midterm_Practice_TeachersEdition.ipynb',\n",
              " 'CNN_MichaelTeti.ipynb',\n",
              " 'Midterm_Exam.ipynb',\n",
              " 'Midterm_Exam_Answers.ipynb',\n",
              " 'Grades.gsheet',\n",
              " 'mnist',\n",
              " 'ngrok-stable-linux-amd64.zip',\n",
              " 'Multilayer_perceptron_MichaelTeti.ipynb',\n",
              " 'Evolution of CNNs.gslides',\n",
              " 'Data',\n",
              " '__pycache__',\n",
              " 'residual_block.py',\n",
              " 'residual_block.ipynb',\n",
              " 'Load_Data_Example.ipynb']"
            ]
          },
          "metadata": {
            "tags": []
          },
          "execution_count": 4
        }
      ]
    },
    {
      "metadata": {
        "id": "CUWClDjJrftD",
        "colab_type": "code",
        "colab": {}
      },
      "cell_type": "code",
      "source": [
        "from residual_block import *"
      ],
      "execution_count": 0,
      "outputs": []
    },
    {
      "metadata": {
        "id": "t9GGVcrDXsAJ",
        "colab_type": "code",
        "colab": {}
      },
      "cell_type": "code",
      "source": [
        "def img_reader(dir, imsz, file_ex=None, sort=False):\n",
        "    ''' A function that reads in images contained\n",
        "        in each folder in dir, resizes them to\n",
        "        imsz[0] x imsz[1], and attaches a label to\n",
        "        each image based on the folder it came from.\n",
        "\n",
        "        Args:\n",
        "             dir: directory where the image folders are\n",
        "                  located.\n",
        "             imsz: a list of length 2, where each number\n",
        "                   represents the height and width each\n",
        "                   image will be resized to. If all images\n",
        "                   are the same size and don't need to be\n",
        "                   resized, just put the size they already\n",
        "                   are.\n",
        "              file_ex: if the images you want to compile\n",
        "                       are all of the same extension and/or\n",
        "                       there are other file types in the\n",
        "                       folders that you don't want to read,\n",
        "                       you can include the extension as file_ex.\n",
        "                       Example, file_ex = '.jpg'\n",
        "    '''\n",
        "    \n",
        "    main_dir = os.getcwd()\n",
        "    \n",
        "    if file_ex is None:\n",
        "        file_ex = '*'\n",
        "    else:\n",
        "        file_ex = '*' + file_ex\n",
        "\n",
        "    folders = os.listdir(dir)\n",
        "    os.chdir(dir)\n",
        "    num_ims=sum([len(files) for r, d, files in os.walk(os.getcwd())])\n",
        "    imgs = np.zeros([num_ims, imsz[0], imsz[1], 3])\n",
        "    labels = np.zeros([num_ims, 1])\n",
        "\n",
        "    for subdir, folder in enumerate(folders):\n",
        "        os.chdir(dir + '/' + folder)\n",
        "        files = glob.glob(file_ex)\n",
        "        if sort:\n",
        "            files.sort()\n",
        "\n",
        "        for i, file in enumerate(files):\n",
        "            if os.path.isfile(file):\n",
        "                img = imread(file)\n",
        "                img = imresize(img, [imsz[0], imsz[1]])\n",
        "                imgs[i, ...] = img\n",
        "                labels[i, 0] = subdir\n",
        "\n",
        "    os.chdir(main_dir)            \n",
        "    return imgs, labels"
      ],
      "execution_count": 0,
      "outputs": []
    },
    {
      "metadata": {
        "id": "79nWbLBBeTr2",
        "colab_type": "code",
        "colab": {
          "base_uri": "https://localhost:8080/",
          "height": 35
        },
        "outputId": "5856dbd0-a785-42b7-ba0a-b39c14aec75d"
      },
      "cell_type": "code",
      "source": [
        "os.getcwd() # see what folder you are in"
      ],
      "execution_count": 8,
      "outputs": [
        {
          "output_type": "execute_result",
          "data": {
            "text/plain": [
              "'/content/drive/My Drive/DeepLearningFall2018'"
            ]
          },
          "metadata": {
            "tags": []
          },
          "execution_count": 8
        }
      ]
    },
    {
      "metadata": {
        "id": "I1lfeUWSeYat",
        "colab_type": "code",
        "colab": {}
      },
      "cell_type": "code",
      "source": [
        "os.chdir('Data') # go into Data folder where my two folders are with the images"
      ],
      "execution_count": 0,
      "outputs": []
    },
    {
      "metadata": {
        "id": "UIYm_LohCdH4",
        "colab_type": "code",
        "colab": {
          "base_uri": "https://localhost:8080/",
          "height": 619
        },
        "outputId": "c35e4768-9ca8-4297-e327-b9fd0515ecd6"
      },
      "cell_type": "code",
      "source": [
        "X, Y = img_reader(os.getcwd(), [150, 150])  # get images and labels as X and Y "
      ],
      "execution_count": 10,
      "outputs": [
        {
          "output_type": "stream",
          "text": [
            "/usr/local/lib/python3.6/dist-packages/scipy/misc/pilutil.py:482: FutureWarning: Conversion of the second argument of issubdtype from `int` to `np.signedinteger` is deprecated. In future, it will be treated as `np.int64 == np.dtype(int).type`.\n",
            "  if issubdtype(ts, int):\n",
            "/usr/local/lib/python3.6/dist-packages/scipy/misc/pilutil.py:485: FutureWarning: Conversion of the second argument of issubdtype from `float` to `np.floating` is deprecated. In future, it will be treated as `np.float64 == np.dtype(float).type`.\n",
            "  elif issubdtype(type(size), float):\n"
          ],
          "name": "stderr"
        },
        {
          "output_type": "error",
          "ename": "KeyboardInterrupt",
          "evalue": "ignored",
          "traceback": [
            "\u001b[0;31m---------------------------------------------------------------------------\u001b[0m",
            "\u001b[0;31mKeyboardInterrupt\u001b[0m                         Traceback (most recent call last)",
            "\u001b[0;32m<ipython-input-10-16395fc826b1>\u001b[0m in \u001b[0;36m<module>\u001b[0;34m()\u001b[0m\n\u001b[0;32m----> 1\u001b[0;31m \u001b[0mX\u001b[0m\u001b[0;34m,\u001b[0m \u001b[0mY\u001b[0m \u001b[0;34m=\u001b[0m \u001b[0mimg_reader\u001b[0m\u001b[0;34m(\u001b[0m\u001b[0mos\u001b[0m\u001b[0;34m.\u001b[0m\u001b[0mgetcwd\u001b[0m\u001b[0;34m(\u001b[0m\u001b[0;34m)\u001b[0m\u001b[0;34m,\u001b[0m \u001b[0;34m[\u001b[0m\u001b[0;36m150\u001b[0m\u001b[0;34m,\u001b[0m \u001b[0;36m150\u001b[0m\u001b[0;34m]\u001b[0m\u001b[0;34m)\u001b[0m\u001b[0;34m\u001b[0m\u001b[0m\n\u001b[0m",
            "\u001b[0;32m<ipython-input-6-a2a104f238d9>\u001b[0m in \u001b[0;36mimg_reader\u001b[0;34m(dir, imsz, file_ex, sort)\u001b[0m\n\u001b[1;32m     43\u001b[0m         \u001b[0;32mfor\u001b[0m \u001b[0mi\u001b[0m\u001b[0;34m,\u001b[0m \u001b[0mfile\u001b[0m \u001b[0;32min\u001b[0m \u001b[0menumerate\u001b[0m\u001b[0;34m(\u001b[0m\u001b[0mfiles\u001b[0m\u001b[0;34m)\u001b[0m\u001b[0;34m:\u001b[0m\u001b[0;34m\u001b[0m\u001b[0m\n\u001b[1;32m     44\u001b[0m             \u001b[0;32mif\u001b[0m \u001b[0mos\u001b[0m\u001b[0;34m.\u001b[0m\u001b[0mpath\u001b[0m\u001b[0;34m.\u001b[0m\u001b[0misfile\u001b[0m\u001b[0;34m(\u001b[0m\u001b[0mfile\u001b[0m\u001b[0;34m)\u001b[0m\u001b[0;34m:\u001b[0m\u001b[0;34m\u001b[0m\u001b[0m\n\u001b[0;32m---> 45\u001b[0;31m                 \u001b[0mimg\u001b[0m \u001b[0;34m=\u001b[0m \u001b[0mimread\u001b[0m\u001b[0;34m(\u001b[0m\u001b[0mfile\u001b[0m\u001b[0;34m)\u001b[0m\u001b[0;34m\u001b[0m\u001b[0m\n\u001b[0m\u001b[1;32m     46\u001b[0m                 \u001b[0mimg\u001b[0m \u001b[0;34m=\u001b[0m \u001b[0mimresize\u001b[0m\u001b[0;34m(\u001b[0m\u001b[0mimg\u001b[0m\u001b[0;34m,\u001b[0m \u001b[0;34m[\u001b[0m\u001b[0mimsz\u001b[0m\u001b[0;34m[\u001b[0m\u001b[0;36m0\u001b[0m\u001b[0;34m]\u001b[0m\u001b[0;34m,\u001b[0m \u001b[0mimsz\u001b[0m\u001b[0;34m[\u001b[0m\u001b[0;36m1\u001b[0m\u001b[0;34m]\u001b[0m\u001b[0;34m]\u001b[0m\u001b[0;34m)\u001b[0m\u001b[0;34m\u001b[0m\u001b[0m\n\u001b[1;32m     47\u001b[0m                 \u001b[0mimgs\u001b[0m\u001b[0;34m[\u001b[0m\u001b[0mi\u001b[0m\u001b[0;34m,\u001b[0m \u001b[0;34m...\u001b[0m\u001b[0;34m]\u001b[0m \u001b[0;34m=\u001b[0m \u001b[0mimg\u001b[0m\u001b[0;34m\u001b[0m\u001b[0m\n",
            "\u001b[0;32m/usr/local/lib/python3.6/dist-packages/scipy/misc/pilutil.py\u001b[0m in \u001b[0;36mimread\u001b[0;34m(name, flatten, mode)\u001b[0m\n\u001b[1;32m    154\u001b[0m     \"\"\"\n\u001b[1;32m    155\u001b[0m \u001b[0;34m\u001b[0m\u001b[0m\n\u001b[0;32m--> 156\u001b[0;31m     \u001b[0mim\u001b[0m \u001b[0;34m=\u001b[0m \u001b[0mImage\u001b[0m\u001b[0;34m.\u001b[0m\u001b[0mopen\u001b[0m\u001b[0;34m(\u001b[0m\u001b[0mname\u001b[0m\u001b[0;34m)\u001b[0m\u001b[0;34m\u001b[0m\u001b[0m\n\u001b[0m\u001b[1;32m    157\u001b[0m     \u001b[0;32mreturn\u001b[0m \u001b[0mfromimage\u001b[0m\u001b[0;34m(\u001b[0m\u001b[0mim\u001b[0m\u001b[0;34m,\u001b[0m \u001b[0mflatten\u001b[0m\u001b[0;34m=\u001b[0m\u001b[0mflatten\u001b[0m\u001b[0;34m,\u001b[0m \u001b[0mmode\u001b[0m\u001b[0;34m=\u001b[0m\u001b[0mmode\u001b[0m\u001b[0;34m)\u001b[0m\u001b[0;34m\u001b[0m\u001b[0m\n\u001b[1;32m    158\u001b[0m \u001b[0;34m\u001b[0m\u001b[0m\n",
            "\u001b[0;32m/usr/local/lib/python3.6/dist-packages/PIL/Image.py\u001b[0m in \u001b[0;36mopen\u001b[0;34m(fp, mode)\u001b[0m\n\u001b[1;32m   2317\u001b[0m         \u001b[0mfp\u001b[0m \u001b[0;34m=\u001b[0m \u001b[0mio\u001b[0m\u001b[0;34m.\u001b[0m\u001b[0mBytesIO\u001b[0m\u001b[0;34m(\u001b[0m\u001b[0mfp\u001b[0m\u001b[0;34m.\u001b[0m\u001b[0mread\u001b[0m\u001b[0;34m(\u001b[0m\u001b[0;34m)\u001b[0m\u001b[0;34m)\u001b[0m\u001b[0;34m\u001b[0m\u001b[0m\n\u001b[1;32m   2318\u001b[0m \u001b[0;34m\u001b[0m\u001b[0m\n\u001b[0;32m-> 2319\u001b[0;31m     \u001b[0mprefix\u001b[0m \u001b[0;34m=\u001b[0m \u001b[0mfp\u001b[0m\u001b[0;34m.\u001b[0m\u001b[0mread\u001b[0m\u001b[0;34m(\u001b[0m\u001b[0;36m16\u001b[0m\u001b[0;34m)\u001b[0m\u001b[0;34m\u001b[0m\u001b[0m\n\u001b[0m\u001b[1;32m   2320\u001b[0m \u001b[0;34m\u001b[0m\u001b[0m\n\u001b[1;32m   2321\u001b[0m     \u001b[0mpreinit\u001b[0m\u001b[0;34m(\u001b[0m\u001b[0;34m)\u001b[0m\u001b[0;34m\u001b[0m\u001b[0m\n",
            "\u001b[0;31mKeyboardInterrupt\u001b[0m: "
          ]
        }
      ]
    },
    {
      "metadata": {
        "id": "_W8HjcESZgxq",
        "colab_type": "code",
        "colab": {
          "base_uri": "https://localhost:8080/",
          "height": 35
        },
        "outputId": "32da6208-8d87-4485-838d-32ad75c9f588"
      },
      "cell_type": "code",
      "source": [
        "print(X.shape)"
      ],
      "execution_count": 30,
      "outputs": [
        {
          "output_type": "stream",
          "text": [
            "(196, 150, 150, 3)\n"
          ],
          "name": "stdout"
        }
      ]
    },
    {
      "metadata": {
        "id": "Enf70H1XJ_nb",
        "colab_type": "code",
        "colab": {}
      },
      "cell_type": "code",
      "source": [
        "# create the input layer for the network\n",
        "input_layer = input_data([None, 150, 150, 3])\n",
        "\n",
        "# first convolution --- 75 x 75 x 64\n",
        "conv1 = conv_2d(input_layer, 64, 7, stride=2, activation='relu')\n",
        "\n",
        "# max pooling --- 37 x 37 x 64\n",
        "pool1 = max_pool_2d(conv1, 3, 2)\n",
        "\n",
        "# residual blocks 1-3 --- 37 x 37 x 64\n",
        "residual_block1 = residual_block(pool1, # input to this layer\n",
        "                                 64, # number of features to look for\n",
        "                                 3, # filter size\n",
        "                                 3) # number of residual blocks\n",
        "\n",
        "# residual blocks 4-7 --- 18 x 18 x 128\n",
        "residual_block2 = residual_block(residual_block1, # input \n",
        "                                 128, # num. features to look for\n",
        "                                 3, # filter size\n",
        "                                 4, # number of blocks\n",
        "                                 2) # stride length \n",
        "\n",
        "# residual blocks 8-13 --- 9 x 9 x 256\n",
        "residual_block3 = residual_block(residual_block2,\n",
        "                                 256,\n",
        "                                 3,\n",
        "                                 6, \n",
        "                                 2)\n",
        "\n",
        "# residual blocks 14-16 --- 4 x 4 x 512\n",
        "residual_block4 = residual_block(residual_block3,\n",
        "                                 512,\n",
        "                                 3,\n",
        "                                 3,\n",
        "                                 2)\n",
        "\n",
        "# global average pooling --- 512\n",
        "gap = global_avg_pool(residual_block4)\n",
        "\n",
        "# output layer\n",
        "output_layer = fully_connected(gap, 2, activation='softmax')"
      ],
      "execution_count": 0,
      "outputs": []
    }
  ]
}