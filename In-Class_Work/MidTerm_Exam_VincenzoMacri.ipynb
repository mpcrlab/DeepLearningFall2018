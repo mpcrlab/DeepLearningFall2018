{
  "nbformat": 4,
  "nbformat_minor": 0,
  "metadata": {
    "colab": {
      "name": "MidTerm.ipynb",
      "version": "0.3.2",
      "provenance": [],
      "collapsed_sections": []
    },
    "kernelspec": {
      "name": "python3",
      "display_name": "Python 3"
    }
  },
  "cells": [
    {
      "metadata": {
        "id": "iNSpjYmX5mWf",
        "colab_type": "text"
      },
      "cell_type": "markdown",
      "source": [
        "## Short Answer  \n",
        "Please answer each of the following questions with **at least 2-3 complete sentences**. "
      ]
    },
    {
      "metadata": {
        "id": "MGyFLxgs51Xf",
        "colab_type": "text"
      },
      "cell_type": "markdown",
      "source": [
        "1. Why do we use a validation dataset during training, and what can the performance between the validation dataset and the training set tell us?"
      ]
    },
    {
      "metadata": {
        "id": "93wCMCDY683i",
        "colab_type": "text"
      },
      "cell_type": "markdown",
      "source": [
        "The validation data set is used to make sure that the network dosent memorize the specific individual features of each image.  The validation dataset does this by testing the network with images it has never seen before.  If your preformance in training is high, but your preformance in validation is low, than there is a good chance that your network is not actually learning consepts, but instead memorizing individual images.\n"
      ]
    },
    {
      "metadata": {
        "id": "re5eTNQr6Fxd",
        "colab_type": "text"
      },
      "cell_type": "markdown",
      "source": [
        "2. What is the major difference between a fully-connected layer and a convolutional layer in terms of the scale of patterns they look for in their input?"
      ]
    },
    {
      "metadata": {
        "id": "DX2PcLVw-xDY",
        "colab_type": "text"
      },
      "cell_type": "markdown",
      "source": [
        "A fully connected layer will examine each pixel of an image individually.  In contrast, a convolutional layer will look for certian features in an image by using a filter.  "
      ]
    },
    {
      "metadata": {
        "id": "zG152jCS-U8u",
        "colab_type": "text"
      },
      "cell_type": "markdown",
      "source": [
        "3. If you performed 128 convolutions with filter size 3x3 and a stride of 1 on an input that is 100x100x64 and padded the inputs, what would the output shape be of this layer? "
      ]
    },
    {
      "metadata": {
        "id": "pbetrHm_EzVB",
        "colab_type": "code",
        "colab": {}
      },
      "cell_type": "code",
      "source": [
        ""
      ],
      "execution_count": 0,
      "outputs": []
    },
    {
      "metadata": {
        "id": "OM512xe169UB",
        "colab_type": "text"
      },
      "cell_type": "markdown",
      "source": [
        "100x100x128 \n",
        "\n",
        "Height and width stay constant since there is padding, and there is a stride of one, however the last number (64) becomes 128\n",
        "since 128 convolutions are preformed.\n",
        "\n",
        "\n",
        "\n"
      ]
    },
    {
      "metadata": {
        "id": "lwAfXXVftxha",
        "colab_type": "text"
      },
      "cell_type": "markdown",
      "source": [
        "4. Matrix A has a shape of 250x200 and matrix B has a shape of 250x100. Can you perform a matrix multiplication between A and B in that order without performing any other operations first (True or False)?"
      ]
    },
    {
      "metadata": {
        "id": "bltfeNcwuQLY",
        "colab_type": "text"
      },
      "cell_type": "markdown",
      "source": [
        "False"
      ]
    },
    {
      "metadata": {
        "id": "Hu5inws1uR1q",
        "colab_type": "text"
      },
      "cell_type": "markdown",
      "source": [
        "5. Matrix A has a shape of 3x5 and matrix B has a shape of 3x5. Can these two matrices be added together elementwise (True or False)?"
      ]
    },
    {
      "metadata": {
        "id": "B3vs5FZzuif4",
        "colab_type": "text"
      },
      "cell_type": "markdown",
      "source": [
        "True\n"
      ]
    },
    {
      "metadata": {
        "id": "pUYm9hVr20YC",
        "colab_type": "code",
        "colab": {}
      },
      "cell_type": "code",
      "source": [
        "try:\n",
        "  import tflearn\n",
        "except ImportError:\n",
        "  !pip3 install -q tflearn\n",
        "  import tflearn"
      ],
      "execution_count": 0,
      "outputs": []
    },
    {
      "metadata": {
        "id": "ZpyYpjZ22-l2",
        "colab_type": "code",
        "colab": {}
      },
      "cell_type": "code",
      "source": [
        "import numpy as np\n",
        "import os\n",
        "from google.colab import drive\n",
        "from tflearn.layers.core import input_data, dropout, fully_connected\n",
        "from scipy.misc import imread, bytescale, imresize # image manipulation functions\n",
        "from tflearn.layers.conv import conv_2d\n",
        "from tflearn.activations import relu\n",
        "from tflearn.layers.normalization import batch_normalization as bn\n",
        "from tflearn.layers.estimator import regression\n",
        "from tflearn.data_utils import to_categorical\n",
        "import matplotlib.pyplot as plt"
      ],
      "execution_count": 0,
      "outputs": []
    },
    {
      "metadata": {
        "id": "P2Y1rXO-ul0Z",
        "colab_type": "text"
      },
      "cell_type": "markdown",
      "source": [
        "In the line below, create a matrix full of zeros with 90 rows and 50 columns. Then print the row with index 5 in this matrix."
      ]
    },
    {
      "metadata": {
        "id": "Up_hy6TTuyN-",
        "colab_type": "code",
        "colab": {
          "base_uri": "https://localhost:8080/",
          "height": 70
        },
        "outputId": "f73b46c6-36c9-4c81-a8ea-2bd0f83b09e7"
      },
      "cell_type": "code",
      "source": [
        "matrix1 = np.zeros([90,50])\n",
        "matrow5 = matrix1[5, :]\n",
        "print(matrow5)"
      ],
      "execution_count": 5,
      "outputs": [
        {
          "output_type": "stream",
          "text": [
            "[0. 0. 0. 0. 0. 0. 0. 0. 0. 0. 0. 0. 0. 0. 0. 0. 0. 0. 0. 0. 0. 0. 0. 0.\n",
            " 0. 0. 0. 0. 0. 0. 0. 0. 0. 0. 0. 0. 0. 0. 0. 0. 0. 0. 0. 0. 0. 0. 0. 0.\n",
            " 0. 0.]\n"
          ],
          "name": "stdout"
        }
      ]
    },
    {
      "metadata": {
        "id": "tmoJU_Bi3bv6",
        "colab_type": "code",
        "colab": {}
      },
      "cell_type": "code",
      "source": [
        "# load in the flowers dataset\n",
        "import tflearn.datasets.oxflower17 as oxflower17\n",
        "X, Y = oxflower17.load_data(one_hot=True, resize_pics=(100, 100))"
      ],
      "execution_count": 0,
      "outputs": []
    },
    {
      "metadata": {
        "id": "WR6dvrEH7vEr",
        "colab_type": "text"
      },
      "cell_type": "markdown",
      "source": [
        "In the line below, print the shapes of the data and labels. These shapes will help you later when defining the network."
      ]
    },
    {
      "metadata": {
        "id": "8ObkCv7i7sph",
        "colab_type": "code",
        "colab": {
          "base_uri": "https://localhost:8080/",
          "height": 35
        },
        "outputId": "704b5807-a364-47d4-84c0-7cf75bf7021f"
      },
      "cell_type": "code",
      "source": [
        "print(X.shape, Y.shape)"
      ],
      "execution_count": 7,
      "outputs": [
        {
          "output_type": "stream",
          "text": [
            "(1360, 100, 100, 3) (1360, 17)\n"
          ],
          "name": "stdout"
        }
      ]
    },
    {
      "metadata": {
        "id": "XRI4GaK9_eDc",
        "colab_type": "text"
      },
      "cell_type": "markdown",
      "source": [
        "Below, show the image with index 500 in the dataset X."
      ]
    },
    {
      "metadata": {
        "id": "O3BT8Hbl_znT",
        "colab_type": "code",
        "colab": {
          "base_uri": "https://localhost:8080/",
          "height": 349
        },
        "outputId": "c4854cef-453d-4580-cb47-d44a251c0f0b"
      },
      "cell_type": "code",
      "source": [
        "new_img = X[500, ...]\n",
        "# view the original image\n",
        "img_show = bytescale(new_img, 0, 1) # make values in new_img go between 0 and 1 to show it in matplotlib\n",
        "plt.imshow(img_show)  # tell it what to show\n",
        "plt.grid(False)  # get rid of the gridlines since this is not a graph\n",
        "plt.show()  # show the image"
      ],
      "execution_count": 29,
      "outputs": [
        {
          "output_type": "display_data",
          "data": {
            "image/png": "[encoded data removed]",
            "text/plain": [
              "<matplotlib.figure.Figure at 0x7f450c9b6860>"
            ]
          },
          "metadata": {
            "tags": []
          }
        }
      ]
    },
    {
      "metadata": {
        "id": "PnVAUvxq_2vc",
        "colab_type": "text"
      },
      "cell_type": "markdown",
      "source": [
        "In the line below, plot a histogram of X using an appropriate number of bins."
      ]
    },
    {
      "metadata": {
        "id": "VC0eiuhP_-jE",
        "colab_type": "code",
        "colab": {
          "base_uri": "https://localhost:8080/",
          "height": 844
        },
        "outputId": "21ea98a9-9bb1-4e8e-fa89-66c176151a4d"
      },
      "cell_type": "code",
      "source": [
        "plt.hist(X.flatten(), bins = 100) # view histogram of X"
      ],
      "execution_count": 42,
      "outputs": [
        {
          "output_type": "execute_result",
          "data": {
            "text/plain": [
              "(array([1023807.,  859027.,  556376.,  805667.,  518191.,  773047.,\n",
              "         511660.,  766909.,  515143.,  761728.,  760039.,  504322.,\n",
              "         755636.,  504213.,  749644.,  495744.,  738940.,  493979.,\n",
              "         738643.,  481943.,  715483.,  708261.,  466463.,  690962.,\n",
              "         454340.,  675021.,  447417.,  661922.,  437363.,  645908.,\n",
              "         631306.,  414497.,  611165.,  399699.,  592186.,  389096.,\n",
              "         575654.,  378357.,  556008.,  364084.,  536543.,  528070.,\n",
              "         345290.,  509525.,  329923.,  483146.,  315537.,  460295.,\n",
              "         300994.,  439190.,  426596.,  278764.,  408848.,  266514.,\n",
              "         393593.,  259049.,  382063.,  252132.,  367737.,  240572.,\n",
              "         355003.,  348131.,  229329.,  339001.,  223084.,  332332.,\n",
              "         218057.,  323622.,  215908.,  316346.,  313040.,  204700.,\n",
              "         302313.,  198297.,  292725.,  190997.,  282838.,  187088.,\n",
              "         279494.,  181900.,  272311.,  268920.,  172274.,  252521.,\n",
              "         168751.,  240514.,  157318.,  229965.,  146716.,  211497.,\n",
              "         199404.,  126885.,  184194.,  120888.,  184249.,  112997.,\n",
              "         169484.,  115579.,  181373.,  295724.]),\n",
              " array([0.  , 0.01, 0.02, 0.03, 0.04, 0.05, 0.06, 0.07, 0.08, 0.09, 0.1 ,\n",
              "        0.11, 0.12, 0.13, 0.14, 0.15, 0.16, 0.17, 0.18, 0.19, 0.2 , 0.21,\n",
              "        0.22, 0.23, 0.24, 0.25, 0.26, 0.27, 0.28, 0.29, 0.3 , 0.31, 0.32,\n",
              "        0.33, 0.34, 0.35, 0.36, 0.37, 0.38, 0.39, 0.4 , 0.41, 0.42, 0.43,\n",
              "        0.44, 0.45, 0.46, 0.47, 0.48, 0.49, 0.5 , 0.51, 0.52, 0.53, 0.54,\n",
              "        0.55, 0.56, 0.57, 0.58, 0.59, 0.6 , 0.61, 0.62, 0.63, 0.64, 0.65,\n",
              "        0.66, 0.67, 0.68, 0.69, 0.7 , 0.71, 0.72, 0.73, 0.74, 0.75, 0.76,\n",
              "        0.77, 0.78, 0.79, 0.8 , 0.81, 0.82, 0.83, 0.84, 0.85, 0.86, 0.87,\n",
              "        0.88, 0.89, 0.9 , 0.91, 0.92, 0.93, 0.94, 0.95, 0.96, 0.97, 0.98,\n",
              "        0.99, 1.  ]),\n",
              " <a list of 100 Patch objects>)"
            ]
          },
          "metadata": {
            "tags": []
          },
          "execution_count": 42
        },
        {
          "output_type": "display_data",
          "data": {
            "image/png": "[encoded data removed]",
            "text/plain": [
              "<matplotlib.figure.Figure at 0x7f450a6dd668>"
            ]
          },
          "metadata": {
            "tags": []
          }
        }
      ]
    },
    {
      "metadata": {
        "id": "SjCcP-6L7y8p",
        "colab_type": "text"
      },
      "cell_type": "markdown",
      "source": [
        "In the line below, normalize the images by subtracting the mean and dividing by the standard deviation of every pixel. "
      ]
    },
    {
      "metadata": {
        "id": "0U-KUqry8Cac",
        "colab_type": "code",
        "colab": {
          "base_uri": "https://localhost:8080/",
          "height": 1271
        },
        "outputId": "3507c715-84ff-4a8c-8c2a-7e06db0187dc"
      },
      "cell_type": "code",
      "source": [
        "X -= np.mean(X, 0) # subtract the mean of each column from each value in that column\n",
        "X /= np.std(X, 0)  # divide by standard deviation of that column  \n",
        "plt.hist(X.flatten(), bins = 100) # view histogram of X"
      ],
      "execution_count": 43,
      "outputs": [
        {
          "output_type": "execute_result",
          "data": {
            "text/plain": [
              "(array([4.010000e+02, 2.356000e+03, 4.584000e+03, 1.103200e+04,\n",
              "        2.014700e+04, 3.031300e+04, 4.089500e+04, 5.369700e+04,\n",
              "        6.850600e+04, 8.836800e+04, 1.147580e+05, 1.586380e+05,\n",
              "        2.330830e+05, 3.123880e+05, 3.946120e+05, 4.782460e+05,\n",
              "        5.161130e+05, 5.627130e+05, 7.333510e+05, 1.034948e+06,\n",
              "        1.351510e+06, 1.316770e+06, 1.266913e+06, 1.224120e+06,\n",
              "        1.196621e+06, 1.167060e+06, 1.145941e+06, 1.117175e+06,\n",
              "        1.097288e+06, 1.075072e+06, 1.048848e+06, 1.027342e+06,\n",
              "        1.001881e+06, 9.736890e+05, 9.455720e+05, 9.216670e+05,\n",
              "        8.938410e+05, 8.681320e+05, 8.422260e+05, 8.188040e+05,\n",
              "        7.916410e+05, 7.667290e+05, 7.393260e+05, 7.149370e+05,\n",
              "        6.908400e+05, 6.686550e+05, 6.469800e+05, 6.256320e+05,\n",
              "        6.050930e+05, 5.883380e+05, 5.712190e+05, 5.501390e+05,\n",
              "        5.268620e+05, 5.116650e+05, 4.916030e+05, 4.738210e+05,\n",
              "        4.542680e+05, 4.362160e+05, 4.022490e+05, 3.686810e+05,\n",
              "        3.363160e+05, 3.004180e+05, 2.765430e+05, 2.470240e+05,\n",
              "        2.226690e+05, 2.021850e+05, 1.789960e+05, 1.606990e+05,\n",
              "        1.419510e+05, 1.261800e+05, 1.118720e+05, 9.955900e+04,\n",
              "        8.674000e+04, 7.699000e+04, 6.962000e+04, 6.058300e+04,\n",
              "        5.313900e+04, 4.796900e+04, 4.261100e+04, 3.369000e+04,\n",
              "        2.768400e+04, 2.277800e+04, 1.889500e+04, 1.565700e+04,\n",
              "        1.316200e+04, 9.773000e+03, 7.017000e+03, 5.326000e+03,\n",
              "        3.892000e+03, 2.957000e+03, 2.635000e+03, 2.506000e+03,\n",
              "        2.336000e+03, 1.784000e+03, 1.496000e+03, 1.100000e+03,\n",
              "        5.560000e+02, 1.460000e+02, 2.600000e+01, 5.000000e+00]),\n",
              " array([-2.42053890e+00, -2.35332644e+00, -2.28611399e+00, -2.21890153e+00,\n",
              "        -2.15168907e+00, -2.08447661e+00, -2.01726416e+00, -1.95005170e+00,\n",
              "        -1.88283924e+00, -1.81562678e+00, -1.74841433e+00, -1.68120187e+00,\n",
              "        -1.61398941e+00, -1.54677695e+00, -1.47956450e+00, -1.41235204e+00,\n",
              "        -1.34513958e+00, -1.27792712e+00, -1.21071466e+00, -1.14350221e+00,\n",
              "        -1.07628975e+00, -1.00907729e+00, -9.41864834e-01, -8.74652376e-01,\n",
              "        -8.07439919e-01, -7.40227461e-01, -6.73015003e-01, -6.05802546e-01,\n",
              "        -5.38590088e-01, -4.71377630e-01, -4.04165173e-01, -3.36952715e-01,\n",
              "        -2.69740257e-01, -2.02527800e-01, -1.35315342e-01, -6.81028843e-02,\n",
              "        -8.90426636e-04,  6.63220310e-02,  1.33534489e-01,  2.00746946e-01,\n",
              "         2.67959404e-01,  3.35171862e-01,  4.02384319e-01,  4.69596777e-01,\n",
              "         5.36809235e-01,  6.04021692e-01,  6.71234150e-01,  7.38446608e-01,\n",
              "         8.05659065e-01,  8.72871523e-01,  9.40083981e-01,  1.00729644e+00,\n",
              "         1.07450890e+00,  1.14172135e+00,  1.20893381e+00,  1.27614627e+00,\n",
              "         1.34335873e+00,  1.41057118e+00,  1.47778364e+00,  1.54499610e+00,\n",
              "         1.61220856e+00,  1.67942101e+00,  1.74663347e+00,  1.81384593e+00,\n",
              "         1.88105839e+00,  1.94827085e+00,  2.01548330e+00,  2.08269576e+00,\n",
              "         2.14990822e+00,  2.21712068e+00,  2.28433313e+00,  2.35154559e+00,\n",
              "         2.41875805e+00,  2.48597051e+00,  2.55318296e+00,  2.62039542e+00,\n",
              "         2.68760788e+00,  2.75482034e+00,  2.82203279e+00,  2.88924525e+00,\n",
              "         2.95645771e+00,  3.02367017e+00,  3.09088263e+00,  3.15809508e+00,\n",
              "         3.22530754e+00,  3.29252000e+00,  3.35973246e+00,  3.42694491e+00,\n",
              "         3.49415737e+00,  3.56136983e+00,  3.62858229e+00,  3.69579474e+00,\n",
              "         3.76300720e+00,  3.83021966e+00,  3.89743212e+00,  3.96464458e+00,\n",
              "         4.03185703e+00,  4.09906949e+00,  4.16628195e+00,  4.23349441e+00,\n",
              "         4.30070686e+00]),\n",
              " <a list of 100 Patch objects>)"
            ]
          },
          "metadata": {
            "tags": []
          },
          "execution_count": 43
        },
        {
          "output_type": "display_data",
          "data": {
            "image/png": "[encoded data removed]",
            "text/plain": [
              "<matplotlib.figure.Figure at 0x7f450a8d2c18>"
            ]
          },
          "metadata": {
            "tags": []
          }
        }
      ]
    },
    {
      "metadata": {
        "id": "nTEjVMFZ8DOx",
        "colab_type": "text"
      },
      "cell_type": "markdown",
      "source": [
        "You will now create a convolutional neural network to predict the flower species from the images. In the line below, create an input layer for the network based on the shape of the images. "
      ]
    },
    {
      "metadata": {
        "id": "sQthDsKE8LxC",
        "colab_type": "code",
        "colab": {}
      },
      "cell_type": "code",
      "source": [
        "# create input layer \n",
        "in_layer = input_data(shape = [None, 100, 100, 3])"
      ],
      "execution_count": 0,
      "outputs": []
    },
    {
      "metadata": {
        "id": "3CfNKx5x8TxX",
        "colab_type": "text"
      },
      "cell_type": "markdown",
      "source": [
        "In the line below, finish the line and create a convolutional layer to take in the input layer and slide 64 filters with shape 7x7 around it using the relu activation function. You might find the documentation for the conv_2d function helpful: http://tflearn.org/layers/conv/"
      ]
    },
    {
      "metadata": {
        "id": "zRbpB5md8yxk",
        "colab_type": "code",
        "colab": {
          "base_uri": "https://localhost:8080/",
          "height": 35
        },
        "outputId": "ed56c8c0-67ac-4d5d-8953-644dd8af3214"
      },
      "cell_type": "code",
      "source": [
        "# have 64, 7x7 filters \n",
        "conv1 = conv_2d(in_layer, 64, 7, activation = 'relu')\n",
        "print(conv1.shape)"
      ],
      "execution_count": 36,
      "outputs": [
        {
          "output_type": "stream",
          "text": [
            "(?, 100, 100, 64)\n"
          ],
          "name": "stdout"
        }
      ]
    },
    {
      "metadata": {
        "id": "43kfwW7Y8zM5",
        "colab_type": "text"
      },
      "cell_type": "markdown",
      "source": [
        "In the line below, I have created a second convolutional layer which will take in the first convolutional layer's feature maps as input. Write a comment to indicate 1) how many filters this layer has, 2) what the filter size is, and 3) what the height and width of each output feature map should be based on the stride."
      ]
    },
    {
      "metadata": {
        "id": "x_X6B8rf9hGu",
        "colab_type": "code",
        "colab": {
          "base_uri": "https://localhost:8080/",
          "height": 35
        },
        "outputId": "33cc1e2b-d114-4196-9bd8-15ac93bc1156"
      },
      "cell_type": "code",
      "source": [
        "# 128 filters\n",
        "# 3x3 filter shape\n",
        "# 25x25 since stride=4 and 100/4 = 25\n",
        "conv2 = conv_2d(conv1, 128, 3, activation='relu', strides=4)\n",
        "print(conv2.shape)"
      ],
      "execution_count": 39,
      "outputs": [
        {
          "output_type": "stream",
          "text": [
            "(?, 25, 25, 128)\n"
          ],
          "name": "stdout"
        }
      ]
    },
    {
      "metadata": {
        "id": "Xx7Fj-5_94ud",
        "colab_type": "text"
      },
      "cell_type": "markdown",
      "source": [
        "In the line below, replace the question marks with appropriate values, keeping in mind this will be the output layer of the network."
      ]
    },
    {
      "metadata": {
        "id": "R53S9-Eh93dM",
        "colab_type": "code",
        "colab": {}
      },
      "cell_type": "code",
      "source": [
        "output_layer = fully_connected(conv2, 17, activation= 'softmax')\n",
        "\n"
      ],
      "execution_count": 0,
      "outputs": []
    },
    {
      "metadata": {
        "id": "JPTFKggu-as_",
        "colab_type": "text"
      },
      "cell_type": "markdown",
      "source": [
        "In the line below, remove the question mark and replace it with an appropriate value for the learning rate."
      ]
    },
    {
      "metadata": {
        "id": "Ci_ibCK7-OBO",
        "colab_type": "code",
        "outputId": "07267d0e-f827-488c-a7ff-0044865e53d6",
        "colab": {
          "base_uri": "https://localhost:8080/",
          "height": 90
        }
      },
      "cell_type": "code",
      "source": [
        "opt = regression(output_layer, optimizer='adam', learning_rate=0.001, loss='categorical_crossentropy')"
      ],
      "execution_count": 24,
      "outputs": [
        {
          "output_type": "stream",
          "text": [
            "WARNING:tensorflow:From /usr/local/lib/python3.6/dist-packages/tflearn/objectives.py:66: calling reduce_sum (from tensorflow.python.ops.math_ops) with keep_dims is deprecated and will be removed in a future version.\n",
            "Instructions for updating:\n",
            "keep_dims is deprecated, use keepdims instead\n"
          ],
          "name": "stdout"
        }
      ]
    },
    {
      "metadata": {
        "id": "llDk0Kp2-gRZ",
        "colab_type": "text"
      },
      "cell_type": "markdown",
      "source": [
        "You don't need to do anything for the line below. "
      ]
    },
    {
      "metadata": {
        "id": "zGl3WLoy-kvY",
        "colab_type": "code",
        "colab": {}
      },
      "cell_type": "code",
      "source": [
        "model = tflearn.DNN(opt)"
      ],
      "execution_count": 0,
      "outputs": []
    },
    {
      "metadata": {
        "id": "2xOQFvu7-n7d",
        "colab_type": "text"
      },
      "cell_type": "markdown",
      "source": [
        "In the line below, replace each question mark with appropriate values and write a comment next to each line describing what it does (you only need to comment the lines I write *comment here* after.)."
      ]
    },
    {
      "metadata": {
        "id": "wrdtg6fM-urv",
        "colab_type": "code",
        "colab": {
          "base_uri": "https://localhost:8080/",
          "height": 1379
        },
        "outputId": "711c25a9-4461-4949-e198-6cb37362bd79"
      },
      "cell_type": "code",
      "source": [
        "model.fit(X, # input data\n",
        "          Y, # corrisponding labels\n",
        "          validation_set=0.1, # use 10% of the images for validation\n",
        "          show_metric=True, \n",
        "          n_epoch=10,  # number of times to go through the entire data set\n",
        "          batch_size=75,  # go through the dataset 75 examples at a time\n",
        "          snapshot_step=200)"
      ],
      "execution_count": 32,
      "outputs": [
        {
          "output_type": "stream",
          "text": [
            "Training Step: 219  | total loss: \u001b[1m\u001b[32m0.03108\u001b[0m\u001b[0m | time: 14.644s\n",
            "\u001b[2K\r| Adam | epoch: 015 | loss: 0.03108 - acc: 0.9951 -- iter: 0375/1224\n"
          ],
          "name": "stdout"
        },
        {
          "output_type": "error",
          "ename": "KeyboardInterrupt",
          "evalue": "ignored",
          "traceback": [
            "\u001b[0;31m---------------------------------------------------------------------------\u001b[0m",
            "\u001b[0;31mKeyboardInterrupt\u001b[0m                         Traceback (most recent call last)",
            "\u001b[0;32m<ipython-input-32-38b4a6b29ae4>\u001b[0m in \u001b[0;36m<module>\u001b[0;34m()\u001b[0m\n\u001b[1;32m      5\u001b[0m           \u001b[0mn_epoch\u001b[0m\u001b[0;34m=\u001b[0m\u001b[0;36m10\u001b[0m\u001b[0;34m,\u001b[0m  \u001b[0;31m# number of times to go through the entire data set\u001b[0m\u001b[0;34m\u001b[0m\u001b[0m\n\u001b[1;32m      6\u001b[0m           \u001b[0mbatch_size\u001b[0m\u001b[0;34m=\u001b[0m\u001b[0;36m75\u001b[0m\u001b[0;34m,\u001b[0m  \u001b[0;31m# go through the dataset 75 examples at a time\u001b[0m\u001b[0;34m\u001b[0m\u001b[0m\n\u001b[0;32m----> 7\u001b[0;31m           snapshot_step=200)\n\u001b[0m",
            "\u001b[0;32m/usr/local/lib/python3.6/dist-packages/tflearn/models/dnn.py\u001b[0m in \u001b[0;36mfit\u001b[0;34m(self, X_inputs, Y_targets, n_epoch, validation_set, show_metric, batch_size, shuffle, snapshot_epoch, snapshot_step, excl_trainops, validation_batch_size, run_id, callbacks)\u001b[0m\n\u001b[1;32m    214\u001b[0m                          \u001b[0mexcl_trainops\u001b[0m\u001b[0;34m=\u001b[0m\u001b[0mexcl_trainops\u001b[0m\u001b[0;34m,\u001b[0m\u001b[0;34m\u001b[0m\u001b[0m\n\u001b[1;32m    215\u001b[0m                          \u001b[0mrun_id\u001b[0m\u001b[0;34m=\u001b[0m\u001b[0mrun_id\u001b[0m\u001b[0;34m,\u001b[0m\u001b[0;34m\u001b[0m\u001b[0m\n\u001b[0;32m--> 216\u001b[0;31m                          callbacks=callbacks)\n\u001b[0m\u001b[1;32m    217\u001b[0m \u001b[0;34m\u001b[0m\u001b[0m\n\u001b[1;32m    218\u001b[0m     \u001b[0;32mdef\u001b[0m \u001b[0mfit_batch\u001b[0m\u001b[0;34m(\u001b[0m\u001b[0mself\u001b[0m\u001b[0;34m,\u001b[0m \u001b[0mX_inputs\u001b[0m\u001b[0;34m,\u001b[0m \u001b[0mY_targets\u001b[0m\u001b[0;34m)\u001b[0m\u001b[0;34m:\u001b[0m\u001b[0;34m\u001b[0m\u001b[0m\n",
            "\u001b[0;32m/usr/local/lib/python3.6/dist-packages/tflearn/helpers/trainer.py\u001b[0m in \u001b[0;36mfit\u001b[0;34m(self, feed_dicts, n_epoch, val_feed_dicts, show_metric, snapshot_step, snapshot_epoch, shuffle_all, dprep_dict, daug_dict, excl_trainops, run_id, callbacks)\u001b[0m\n\u001b[1;32m    337\u001b[0m                                                        \u001b[0;34m(\u001b[0m\u001b[0mbool\u001b[0m\u001b[0;34m(\u001b[0m\u001b[0mself\u001b[0m\u001b[0;34m.\u001b[0m\u001b[0mbest_checkpoint_path\u001b[0m\u001b[0;34m)\u001b[0m \u001b[0;34m|\u001b[0m \u001b[0msnapshot_epoch\u001b[0m\u001b[0;34m)\u001b[0m\u001b[0;34m,\u001b[0m\u001b[0;34m\u001b[0m\u001b[0m\n\u001b[1;32m    338\u001b[0m                                                        \u001b[0msnapshot_step\u001b[0m\u001b[0;34m,\u001b[0m\u001b[0;34m\u001b[0m\u001b[0m\n\u001b[0;32m--> 339\u001b[0;31m                                                        show_metric)\n\u001b[0m\u001b[1;32m    340\u001b[0m \u001b[0;34m\u001b[0m\u001b[0m\n\u001b[1;32m    341\u001b[0m                             \u001b[0;31m# Update training state\u001b[0m\u001b[0;34m\u001b[0m\u001b[0;34m\u001b[0m\u001b[0m\n",
            "\u001b[0;32m/usr/local/lib/python3.6/dist-packages/tflearn/helpers/trainer.py\u001b[0m in \u001b[0;36m_train\u001b[0;34m(self, training_step, snapshot_epoch, snapshot_step, show_metric)\u001b[0m\n\u001b[1;32m    816\u001b[0m         \u001b[0mtflearn\u001b[0m\u001b[0;34m.\u001b[0m\u001b[0mis_training\u001b[0m\u001b[0;34m(\u001b[0m\u001b[0;32mTrue\u001b[0m\u001b[0;34m,\u001b[0m \u001b[0msession\u001b[0m\u001b[0;34m=\u001b[0m\u001b[0mself\u001b[0m\u001b[0;34m.\u001b[0m\u001b[0msession\u001b[0m\u001b[0;34m)\u001b[0m\u001b[0;34m\u001b[0m\u001b[0m\n\u001b[1;32m    817\u001b[0m         _, train_summ_str = self.session.run([self.train, self.summ_op],\n\u001b[0;32m--> 818\u001b[0;31m                                              feed_batch)\n\u001b[0m\u001b[1;32m    819\u001b[0m \u001b[0;34m\u001b[0m\u001b[0m\n\u001b[1;32m    820\u001b[0m         \u001b[0;31m# Retrieve loss value from summary string\u001b[0m\u001b[0;34m\u001b[0m\u001b[0;34m\u001b[0m\u001b[0m\n",
            "\u001b[0;32m/usr/local/lib/python3.6/dist-packages/tensorflow/python/client/session.py\u001b[0m in \u001b[0;36mrun\u001b[0;34m(self, fetches, feed_dict, options, run_metadata)\u001b[0m\n\u001b[1;32m    927\u001b[0m     \u001b[0;32mtry\u001b[0m\u001b[0;34m:\u001b[0m\u001b[0;34m\u001b[0m\u001b[0m\n\u001b[1;32m    928\u001b[0m       result = self._run(None, fetches, feed_dict, options_ptr,\n\u001b[0;32m--> 929\u001b[0;31m                          run_metadata_ptr)\n\u001b[0m\u001b[1;32m    930\u001b[0m       \u001b[0;32mif\u001b[0m \u001b[0mrun_metadata\u001b[0m\u001b[0;34m:\u001b[0m\u001b[0;34m\u001b[0m\u001b[0m\n\u001b[1;32m    931\u001b[0m         \u001b[0mproto_data\u001b[0m \u001b[0;34m=\u001b[0m \u001b[0mtf_session\u001b[0m\u001b[0;34m.\u001b[0m\u001b[0mTF_GetBuffer\u001b[0m\u001b[0;34m(\u001b[0m\u001b[0mrun_metadata_ptr\u001b[0m\u001b[0;34m)\u001b[0m\u001b[0;34m\u001b[0m\u001b[0m\n",
            "\u001b[0;32m/usr/local/lib/python3.6/dist-packages/tensorflow/python/client/session.py\u001b[0m in \u001b[0;36m_run\u001b[0;34m(self, handle, fetches, feed_dict, options, run_metadata)\u001b[0m\n\u001b[1;32m   1150\u001b[0m     \u001b[0;32mif\u001b[0m \u001b[0mfinal_fetches\u001b[0m \u001b[0;32mor\u001b[0m \u001b[0mfinal_targets\u001b[0m \u001b[0;32mor\u001b[0m \u001b[0;34m(\u001b[0m\u001b[0mhandle\u001b[0m \u001b[0;32mand\u001b[0m \u001b[0mfeed_dict_tensor\u001b[0m\u001b[0;34m)\u001b[0m\u001b[0;34m:\u001b[0m\u001b[0;34m\u001b[0m\u001b[0m\n\u001b[1;32m   1151\u001b[0m       results = self._do_run(handle, final_targets, final_fetches,\n\u001b[0;32m-> 1152\u001b[0;31m                              feed_dict_tensor, options, run_metadata)\n\u001b[0m\u001b[1;32m   1153\u001b[0m     \u001b[0;32melse\u001b[0m\u001b[0;34m:\u001b[0m\u001b[0;34m\u001b[0m\u001b[0m\n\u001b[1;32m   1154\u001b[0m       \u001b[0mresults\u001b[0m \u001b[0;34m=\u001b[0m \u001b[0;34m[\u001b[0m\u001b[0;34m]\u001b[0m\u001b[0;34m\u001b[0m\u001b[0m\n",
            "\u001b[0;32m/usr/local/lib/python3.6/dist-packages/tensorflow/python/client/session.py\u001b[0m in \u001b[0;36m_do_run\u001b[0;34m(self, handle, target_list, fetch_list, feed_dict, options, run_metadata)\u001b[0m\n\u001b[1;32m   1326\u001b[0m     \u001b[0;32mif\u001b[0m \u001b[0mhandle\u001b[0m \u001b[0;32mis\u001b[0m \u001b[0;32mNone\u001b[0m\u001b[0;34m:\u001b[0m\u001b[0;34m\u001b[0m\u001b[0m\n\u001b[1;32m   1327\u001b[0m       return self._do_call(_run_fn, feeds, fetches, targets, options,\n\u001b[0;32m-> 1328\u001b[0;31m                            run_metadata)\n\u001b[0m\u001b[1;32m   1329\u001b[0m     \u001b[0;32melse\u001b[0m\u001b[0;34m:\u001b[0m\u001b[0;34m\u001b[0m\u001b[0m\n\u001b[1;32m   1330\u001b[0m       \u001b[0;32mreturn\u001b[0m \u001b[0mself\u001b[0m\u001b[0;34m.\u001b[0m\u001b[0m_do_call\u001b[0m\u001b[0;34m(\u001b[0m\u001b[0m_prun_fn\u001b[0m\u001b[0;34m,\u001b[0m \u001b[0mhandle\u001b[0m\u001b[0;34m,\u001b[0m \u001b[0mfeeds\u001b[0m\u001b[0;34m,\u001b[0m \u001b[0mfetches\u001b[0m\u001b[0;34m)\u001b[0m\u001b[0;34m\u001b[0m\u001b[0m\n",
            "\u001b[0;32m/usr/local/lib/python3.6/dist-packages/tensorflow/python/client/session.py\u001b[0m in \u001b[0;36m_do_call\u001b[0;34m(self, fn, *args)\u001b[0m\n\u001b[1;32m   1332\u001b[0m   \u001b[0;32mdef\u001b[0m \u001b[0m_do_call\u001b[0m\u001b[0;34m(\u001b[0m\u001b[0mself\u001b[0m\u001b[0;34m,\u001b[0m \u001b[0mfn\u001b[0m\u001b[0;34m,\u001b[0m \u001b[0;34m*\u001b[0m\u001b[0margs\u001b[0m\u001b[0;34m)\u001b[0m\u001b[0;34m:\u001b[0m\u001b[0;34m\u001b[0m\u001b[0m\n\u001b[1;32m   1333\u001b[0m     \u001b[0;32mtry\u001b[0m\u001b[0;34m:\u001b[0m\u001b[0;34m\u001b[0m\u001b[0m\n\u001b[0;32m-> 1334\u001b[0;31m       \u001b[0;32mreturn\u001b[0m \u001b[0mfn\u001b[0m\u001b[0;34m(\u001b[0m\u001b[0;34m*\u001b[0m\u001b[0margs\u001b[0m\u001b[0;34m)\u001b[0m\u001b[0;34m\u001b[0m\u001b[0m\n\u001b[0m\u001b[1;32m   1335\u001b[0m     \u001b[0;32mexcept\u001b[0m \u001b[0merrors\u001b[0m\u001b[0;34m.\u001b[0m\u001b[0mOpError\u001b[0m \u001b[0;32mas\u001b[0m \u001b[0me\u001b[0m\u001b[0;34m:\u001b[0m\u001b[0;34m\u001b[0m\u001b[0m\n\u001b[1;32m   1336\u001b[0m       \u001b[0mmessage\u001b[0m \u001b[0;34m=\u001b[0m \u001b[0mcompat\u001b[0m\u001b[0;34m.\u001b[0m\u001b[0mas_text\u001b[0m\u001b[0;34m(\u001b[0m\u001b[0me\u001b[0m\u001b[0;34m.\u001b[0m\u001b[0mmessage\u001b[0m\u001b[0;34m)\u001b[0m\u001b[0;34m\u001b[0m\u001b[0m\n",
            "\u001b[0;32m/usr/local/lib/python3.6/dist-packages/tensorflow/python/client/session.py\u001b[0m in \u001b[0;36m_run_fn\u001b[0;34m(feed_dict, fetch_list, target_list, options, run_metadata)\u001b[0m\n\u001b[1;32m   1317\u001b[0m       \u001b[0mself\u001b[0m\u001b[0;34m.\u001b[0m\u001b[0m_extend_graph\u001b[0m\u001b[0;34m(\u001b[0m\u001b[0;34m)\u001b[0m\u001b[0;34m\u001b[0m\u001b[0m\n\u001b[1;32m   1318\u001b[0m       return self._call_tf_sessionrun(\n\u001b[0;32m-> 1319\u001b[0;31m           options, feed_dict, fetch_list, target_list, run_metadata)\n\u001b[0m\u001b[1;32m   1320\u001b[0m \u001b[0;34m\u001b[0m\u001b[0m\n\u001b[1;32m   1321\u001b[0m     \u001b[0;32mdef\u001b[0m \u001b[0m_prun_fn\u001b[0m\u001b[0;34m(\u001b[0m\u001b[0mhandle\u001b[0m\u001b[0;34m,\u001b[0m \u001b[0mfeed_dict\u001b[0m\u001b[0;34m,\u001b[0m \u001b[0mfetch_list\u001b[0m\u001b[0;34m)\u001b[0m\u001b[0;34m:\u001b[0m\u001b[0;34m\u001b[0m\u001b[0m\n",
            "\u001b[0;32m/usr/local/lib/python3.6/dist-packages/tensorflow/python/client/session.py\u001b[0m in \u001b[0;36m_call_tf_sessionrun\u001b[0;34m(self, options, feed_dict, fetch_list, target_list, run_metadata)\u001b[0m\n\u001b[1;32m   1405\u001b[0m     return tf_session.TF_SessionRun_wrapper(\n\u001b[1;32m   1406\u001b[0m         \u001b[0mself\u001b[0m\u001b[0;34m.\u001b[0m\u001b[0m_session\u001b[0m\u001b[0;34m,\u001b[0m \u001b[0moptions\u001b[0m\u001b[0;34m,\u001b[0m \u001b[0mfeed_dict\u001b[0m\u001b[0;34m,\u001b[0m \u001b[0mfetch_list\u001b[0m\u001b[0;34m,\u001b[0m \u001b[0mtarget_list\u001b[0m\u001b[0;34m,\u001b[0m\u001b[0;34m\u001b[0m\u001b[0m\n\u001b[0;32m-> 1407\u001b[0;31m         run_metadata)\n\u001b[0m\u001b[1;32m   1408\u001b[0m \u001b[0;34m\u001b[0m\u001b[0m\n\u001b[1;32m   1409\u001b[0m   \u001b[0;32mdef\u001b[0m \u001b[0m_call_tf_sessionprun\u001b[0m\u001b[0;34m(\u001b[0m\u001b[0mself\u001b[0m\u001b[0;34m,\u001b[0m \u001b[0mhandle\u001b[0m\u001b[0;34m,\u001b[0m \u001b[0mfeed_dict\u001b[0m\u001b[0;34m,\u001b[0m \u001b[0mfetch_list\u001b[0m\u001b[0;34m)\u001b[0m\u001b[0;34m:\u001b[0m\u001b[0;34m\u001b[0m\u001b[0m\n",
            "\u001b[0;31mKeyboardInterrupt\u001b[0m: "
          ]
        }
      ]
    },
    {
      "metadata": {
        "id": "XoXRZ3_F3xEH",
        "colab_type": "text"
      },
      "cell_type": "markdown",
      "source": [
        "Download this notebook and upload it to your branch on the class github. "
      ]
    },
    {
      "metadata": {
        "id": "M2-sxxivAPSI",
        "colab_type": "code",
        "colab": {}
      },
      "cell_type": "code",
      "source": [
        ""
      ],
      "execution_count": 0,
      "outputs": []
    }
  ]
}